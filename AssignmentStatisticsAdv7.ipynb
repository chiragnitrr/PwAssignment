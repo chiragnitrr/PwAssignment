{
 "cells": [
  {
   "cell_type": "markdown",
   "id": "3e1bca9d-e6b8-4b91-ae85-0259c2a49ee5",
   "metadata": {},
   "source": [
    "Q1. Write a Python function that takes in two arrays of data and calculates the F-value for a variance ratio test. The function should return the F-value and the corresponding p-value for the test."
   ]
  },
  {
   "cell_type": "code",
   "execution_count": 12,
   "id": "30e4b25d-251b-418b-9a70-a8261fce0957",
   "metadata": {},
   "outputs": [
    {
     "name": "stdout",
     "output_type": "stream",
     "text": [
      "F-value :  0.421875\n",
      "p-value :  0.7881407325918858\n"
     ]
    }
   ],
   "source": [
    "import numpy as np\n",
    "from scipy.stats import f\n",
    "\n",
    "def variance_ratio_test(data1, data2):\n",
    "    n1 = len(data1)\n",
    "    n2 = len(data2)\n",
    "    \n",
    "    var1 = np.var(data1, ddof = 1)\n",
    "    var2 = np.var(data2, ddof = 2)\n",
    "    \n",
    "    F = var1 / var2\n",
    "    p_value = 1 - f.cdf(F, n1-1, n2-1)\n",
    "    \n",
    "    return F, p_value\n",
    "\n",
    "data1 = [15,18,21,24,27]\n",
    "data2 = [12,16,20,24,28]\n",
    "\n",
    "F_val, p_val = variance_ratio_test(data1 , data2)\n",
    "print(\"F-value : \", F_val)\n",
    "print(\"p-value : \", p_val)"
   ]
  },
  {
   "cell_type": "markdown",
   "id": "8b5d906c-dbda-4f67-b022-87bae02381f0",
   "metadata": {},
   "source": [
    "Q2. Given a significance level of 0.05 and the degrees of freedom for the numerator and denominator of an F-distribution, write a Python function that returns the critical F-value for a two-tailed test."
   ]
  },
  {
   "cell_type": "code",
   "execution_count": 6,
   "id": "ac97b16b-61bd-4fe3-819d-36c53f4e3024",
   "metadata": {},
   "outputs": [
    {
     "name": "stdout",
     "output_type": "stream",
     "text": [
      "Critical F-value :  4.152804030062877\n"
     ]
    }
   ],
   "source": [
    "from scipy.stats import f\n",
    "\n",
    "def critical_fval(alpha, df_num, df_den):\n",
    "    critical_val = f.ppf(1 - alpha/2, df_num, df_den)\n",
    "    return critical_val\n",
    "\n",
    "alpha = 0.05\n",
    "df_num = 3\n",
    "df_den = 15\n",
    "\n",
    "cv = critical_fval(alpha, df_num, df_den)\n",
    "print(\"Critical F-value : \", cv)"
   ]
  },
  {
   "cell_type": "markdown",
   "id": "9b7342be-7395-4c12-8d9c-4aa1b1a9b446",
   "metadata": {},
   "source": [
    "Q3. Write a Python program that generates random samples from two normal distributions with known variances and uses an F-test to determine if the variances are equal. The program should output the F\u0002value, degrees of freedom, and p-value for the test."
   ]
  },
  {
   "cell_type": "code",
   "execution_count": 13,
   "id": "4c54d061-c0d5-48d3-92bb-3c52a0789e31",
   "metadata": {},
   "outputs": [
    {
     "name": "stdout",
     "output_type": "stream",
     "text": [
      "Sample Variance A: 20.250289234141302\n",
      "Sample Variance B: 31.210246900790942\n",
      "Degrees of Freedom: 29 29\n",
      "F-statistic: 0.6488346374993949\n",
      "p-value: 0.87499776662271\n"
     ]
    }
   ],
   "source": [
    "import numpy as np\n",
    "import scipy.stats as stats\n",
    "\n",
    "# Set the random seed for reproducibility\n",
    "np.random.seed(42)\n",
    "\n",
    "# Parameters for the normal distributions\n",
    "mean_a = 100\n",
    "variance_a = 25\n",
    "mean_b = 110\n",
    "variance_b = 36\n",
    "\n",
    "# Sample sizes\n",
    "n_a = 30\n",
    "n_b = 30\n",
    "\n",
    "# Generate random samples from the normal distributions\n",
    "sample_a = np.random.normal(mean_a, np.sqrt(variance_a), n_a)\n",
    "sample_b = np.random.normal(mean_b, np.sqrt(variance_b), n_b)\n",
    "\n",
    "# Perform the F-test\n",
    "variance_a_sample = np.var(sample_a, ddof=1)\n",
    "variance_b_sample = np.var(sample_b, ddof=1)\n",
    "\n",
    "df1 = n_a - 1\n",
    "df2 = n_b - 1\n",
    "\n",
    "F_statistic = variance_a_sample / variance_b_sample\n",
    "p_value = 1 - stats.f.cdf(F_statistic, df1, df2)\n",
    "\n",
    "# Print the results\n",
    "print(\"Sample Variance A:\", variance_a_sample)\n",
    "print(\"Sample Variance B:\", variance_b_sample)\n",
    "print(\"Degrees of Freedom:\", df1, df2)\n",
    "print(\"F-statistic:\", F_statistic)\n",
    "print(\"p-value:\", p_value)\n"
   ]
  },
  {
   "cell_type": "markdown",
   "id": "fa599e83-c6ae-4991-ba53-0a06bc9cdbe5",
   "metadata": {},
   "source": [
    "Q4.The variances of two populations are known to be 10 and 15. A sample of 12 observations is taken from each population. Conduct an F-test at the 5% significance level to determine if the variances are significantly different."
   ]
  },
  {
   "cell_type": "code",
   "execution_count": 14,
   "id": "347829d2-6e29-4866-8ddf-c7eb84e240bd",
   "metadata": {},
   "outputs": [
    {
     "name": "stdout",
     "output_type": "stream",
     "text": [
      "F-statistic: 0.6666666666666666\n",
      "Critical value: 2.8179304699530863\n",
      "Fail to reject the null hypothesis. Variances are not significantly different.\n"
     ]
    }
   ],
   "source": [
    "import scipy.stats as stats\n",
    "\n",
    "# Known population variances\n",
    "variance_population1 = 10\n",
    "variance_population2 = 15\n",
    "\n",
    "# Sample sizes\n",
    "n1 = 12\n",
    "n2 = 12\n",
    "\n",
    "# Degrees of freedom\n",
    "df1 = n1 - 1\n",
    "df2 = n2 - 1\n",
    "\n",
    "# Calculate the F-statistic\n",
    "F_statistic = variance_population1 / variance_population2\n",
    "\n",
    "# Calculate the critical value from the F-distribution\n",
    "alpha = 0.05\n",
    "critical_value = stats.f.ppf(1 - alpha, df1, df2)\n",
    "\n",
    "# Compare the F-statistic with the critical value\n",
    "if F_statistic > critical_value:\n",
    "    result = \"Reject the null hypothesis. Variances are significantly different.\"\n",
    "else:\n",
    "    result = \"Fail to reject the null hypothesis. Variances are not significantly different.\"\n",
    "\n",
    "# Print the results\n",
    "print(\"F-statistic:\", F_statistic)\n",
    "print(\"Critical value:\", critical_value)\n",
    "print(result)\n"
   ]
  },
  {
   "cell_type": "markdown",
   "id": "6c7f5357-59d8-42e9-8f85-0cc8b98ad9e3",
   "metadata": {},
   "source": [
    "Q5. A manufacturer claims that the variance of the diameter of a certain product is 0.005. A sample of 25 products is taken, and the sample variance is found to be 0.006. Conduct an F-test at the 1% significance level to determine if the claim is justified."
   ]
  },
  {
   "cell_type": "code",
   "execution_count": 15,
   "id": "dc8e45ed-b5be-4fc4-8c18-a2d93740dc24",
   "metadata": {},
   "outputs": [
    {
     "name": "stdout",
     "output_type": "stream",
     "text": [
      "F-statistic: 1.2\n",
      "Critical value: 2.659072104348157\n",
      "Fail to reject the null hypothesis. The claim is justified.\n"
     ]
    }
   ],
   "source": [
    "import scipy.stats as stats\n",
    "\n",
    "# Claimed population variance\n",
    "variance_claimed = 0.005\n",
    "\n",
    "# Sample variance and sample size\n",
    "variance_sample = 0.006\n",
    "n = 25\n",
    "\n",
    "# Degrees of freedom\n",
    "df1 = n - 1\n",
    "df2 = n - 1\n",
    "\n",
    "# Calculate the F-statistic\n",
    "F_statistic = variance_sample / variance_claimed\n",
    "\n",
    "# Calculate the critical value from the F-distribution\n",
    "alpha = 0.01\n",
    "critical_value = stats.f.ppf(1 - alpha, df1, df2)\n",
    "\n",
    "# Compare the F-statistic with the critical value\n",
    "if F_statistic < critical_value:\n",
    "    result = \"Fail to reject the null hypothesis. The claim is justified.\"\n",
    "else:\n",
    "    result = \"Reject the null hypothesis. The claim is not justified.\"\n",
    "\n",
    "# Print the results\n",
    "print(\"F-statistic:\", F_statistic)\n",
    "print(\"Critical value:\", critical_value)\n",
    "print(result)\n"
   ]
  },
  {
   "cell_type": "markdown",
   "id": "13d54d06-a4c5-43bc-8546-09af0af534a6",
   "metadata": {},
   "source": [
    "Q6. Write a Python function that takes in the degrees of freedom for the numerator and denominator of an F-distribution and calculates the mean and variance of the distribution. The function should return the mean and variance as a tuple."
   ]
  },
  {
   "cell_type": "code",
   "execution_count": 3,
   "id": "ee2b047b-88a9-4c20-89e5-be65aef0e233",
   "metadata": {},
   "outputs": [
    {
     "name": "stdout",
     "output_type": "stream",
     "text": [
      "Mean : 1.25, Variance : 1.3541666666666667\n"
     ]
    }
   ],
   "source": [
    "def f_distribution_mean_var(df_num, df_den):\n",
    "    if df_num <=0 or df_den <=0:\n",
    "        raise ValueError(\"Degree of freedom must be greater than 0.\")\n",
    "    if df_den == 1:\n",
    "        raise ValueError(\"For denominator degree of freedom equal to 1, the f-distribution is undefined.\")\n",
    "    \n",
    "    mean = df_den / (df_den - 2)\n",
    "    if df_den > 4:\n",
    "        variance = (2 * (df_den **2) * (df_num + df_den -2)) / (df_num * (df_den - 2) **2 * (df_den -4))\n",
    "    else :\n",
    "        variance = float('inf') \n",
    "        \n",
    "    return mean , variance\n",
    "\n",
    "\n",
    "df_num = 5\n",
    "df_den = 10\n",
    "m, v = f_distribution_mean_var(df_num, df_den)\n",
    "print(f\"Mean : {m}, Variance : {v}\")"
   ]
  },
  {
   "cell_type": "markdown",
   "id": "57c9e58d-bbba-4b54-9df8-413f928cac7b",
   "metadata": {},
   "source": [
    "Q7. A random sample of 10 measurements is taken from a normal population with unknown variance. The sample variance is found to be 25. Another random sample of 15 measurements is taken from another normal population with unknown variance, and the sample variance is found to be 20. Conduct an F-test at the 10% significance level to determine if the variances are significantly different."
   ]
  },
  {
   "cell_type": "code",
   "execution_count": 5,
   "id": "5b098586-a08c-4c26-b010-56dbdc445502",
   "metadata": {},
   "outputs": [
    {
     "name": "stdout",
     "output_type": "stream",
     "text": [
      "F-statistic :  1.25\n",
      "Critical value :  2.121954566976902\n",
      "We fail to reject the null hypothesis : variances are not significantly different.\n"
     ]
    }
   ],
   "source": [
    "import scipy.stats as stats\n",
    "\n",
    "var1 = 25\n",
    "var2 = 20\n",
    "\n",
    "n1 = 10\n",
    "n2 = 15\n",
    "\n",
    "df1 = n1-1\n",
    "df2 = n2-1\n",
    "\n",
    "f = var1 / var2\n",
    "\n",
    "alpha = 0.10\n",
    "cv = stats.f.ppf(1-alpha, df1, df2)\n",
    "\n",
    "if f > cv:\n",
    "    result = \"Reject the null hypothesis : variances are significantly different.\"\n",
    "else :\n",
    "    result = \"We fail to reject the null hypothesis : variances are not significantly different.\"\n",
    "    \n",
    "\n",
    "print(\"F-statistic : \", f)\n",
    "print(\"Critical value : \",cv)\n",
    "print(result)"
   ]
  },
  {
   "cell_type": "markdown",
   "id": "0eb6521e-fbf8-474a-a287-cb607a90e794",
   "metadata": {},
   "source": [
    "Q8. The following data represent the waiting times in minutes at two different restaurants on a Saturday night: Restaurant A: 24, 25, 28, 23, 22, 20, 27; Restaurant B: 31, 33, 35, 30, 32, 36. Conduct an F-test at the 5% significance level to determine if the variances are significantly different."
   ]
  },
  {
   "cell_type": "code",
   "execution_count": 8,
   "id": "fbcccf12-d905-47ac-af5e-124a87c7b8cc",
   "metadata": {},
   "outputs": [
    {
     "name": "stdout",
     "output_type": "stream",
     "text": [
      "F-statistic :  1.496767651159843\n",
      "Critical Value :  4.950288068694318\n",
      "Fail to reject the null hypothesis : variances are not significantly different.\n"
     ]
    }
   ],
   "source": [
    "import scipy.stats as stats\n",
    "import numpy as np\n",
    "\n",
    "data_a = [24, 25, 28, 23, 22, 20, 27]\n",
    "data_b = [31, 33, 35, 30, 32, 36]\n",
    "\n",
    "var_a = np.var(data_a)\n",
    "var_b = np.var(data_b)\n",
    "\n",
    "n_a = len(data_a)\n",
    "n_b = len(data_b)\n",
    "\n",
    "df1 = n_a - 1\n",
    "df2 = n_b - 1\n",
    "\n",
    "f = var_a / var_b\n",
    "\n",
    "alpha = 0.05\n",
    "cv = stats.f.ppf(1-alpha, df1, df2)\n",
    "\n",
    "if f > cv:\n",
    "    r = \"Reject the null hypothesis : variances are significantly different.\"\n",
    "else :\n",
    "    r = \"Fail to reject the null hypothesis : variances are not significantly different.\"\n",
    "    \n",
    "print(\"F-statistic : \",f)\n",
    "print(\"Critical Value : \",cv)\n",
    "print(r)"
   ]
  },
  {
   "cell_type": "markdown",
   "id": "2f36be1c-98d6-41b1-b732-27a9e7c0c160",
   "metadata": {},
   "source": [
    "Q9. The following data represent the test scores of two groups of students: Group A: 80, 85, 90, 92, 87, 83; Group B: 75, 78, 82, 79, 81, 84. Conduct an F-test at the 1% significance level to determine if the variances are significantly different."
   ]
  },
  {
   "cell_type": "code",
   "execution_count": 10,
   "id": "8980f060-dc6d-4420-b180-82a2a3faf17a",
   "metadata": {},
   "outputs": [
    {
     "name": "stdout",
     "output_type": "stream",
     "text": [
      "F-statistic :  1.9442622950819677\n",
      "Critical value :  10.672254792434334\n",
      "We fail to reject the null hypothesis : Variances are not significantly different.\n"
     ]
    }
   ],
   "source": [
    "import scipy.stats as stats\n",
    "import numpy as np\n",
    "\n",
    "data_a = [80, 85, 90, 92, 87, 83]\n",
    "data_b = [75, 78, 82, 79, 81, 84]\n",
    "\n",
    "var_a = np.var(data_a)\n",
    "var_b = np.var(data_b)\n",
    "\n",
    "n_a = len(data_a)\n",
    "n_b = len(data_b)\n",
    "\n",
    "df_a = n_a - 1\n",
    "df_b = n_b - 1\n",
    "\n",
    "f = var_a / var_b\n",
    "\n",
    "alpha = 0.01\n",
    "cv = stats.f.ppf(1-alpha, df1, df2)\n",
    "\n",
    "if f>cv:\n",
    "    r = \"Reject the null hypothesis : Variances are significantly different.\"\n",
    "else :\n",
    "    r = \"We fail to reject the null hypothesis : Variances are not significantly different.\" \n",
    "\n",
    "print(\"F-statistic : \",f)\n",
    "print(\"Critical value : \",cv)\n",
    "print(r)"
   ]
  },
  {
   "cell_type": "code",
   "execution_count": null,
   "id": "094a4ac5-f2c0-4cad-87a5-acedd079c0af",
   "metadata": {},
   "outputs": [],
   "source": []
  }
 ],
 "metadata": {
  "kernelspec": {
   "display_name": "Python 3 (ipykernel)",
   "language": "python",
   "name": "python3"
  },
  "language_info": {
   "codemirror_mode": {
    "name": "ipython",
    "version": 3
   },
   "file_extension": ".py",
   "mimetype": "text/x-python",
   "name": "python",
   "nbconvert_exporter": "python",
   "pygments_lexer": "ipython3",
   "version": "3.10.8"
  }
 },
 "nbformat": 4,
 "nbformat_minor": 5
}
