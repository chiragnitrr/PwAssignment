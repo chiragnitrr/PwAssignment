{
 "cells": [
  {
   "cell_type": "markdown",
   "id": "7e726092-5648-4eb6-a2f6-a8df7dba570c",
   "metadata": {},
   "source": [
    "Q1. Calculate the 95% confidence interval for a sample of data with a mean of 50 and a standard deviationof 5 using Python. Interpret the results."
   ]
  },
  {
   "cell_type": "code",
   "execution_count": 1,
   "id": "b698d257-2348-4215-a37b-5963124dd59b",
   "metadata": {},
   "outputs": [
    {
     "name": "stdout",
     "output_type": "stream",
     "text": [
      "Confidence Interval: (49.02, 50.98)\n"
     ]
    }
   ],
   "source": [
    "import scipy.stats as stats\n",
    "\n",
    "sample_mean = 50\n",
    "sample_std = 5\n",
    "confidence_interval = 0.95\n",
    "#let sample size = 100\n",
    "sample_size = 100\n",
    "\n",
    "standard_error = sample_std/(sample_size**0.5)\n",
    "critical_val = stats.norm.ppf(1-(1-confidence_interval)/2)\n",
    "margin_of_error = standard_error * critical_val\n",
    "\n",
    "lower_bound = sample_mean - margin_of_error\n",
    "upper_bound = sample_mean + margin_of_error\n",
    "\n",
    "print(f\"Confidence Interval: ({lower_bound:.2f}, {upper_bound:.2f})\")"
   ]
  },
  {
   "cell_type": "markdown",
   "id": "547df68b-e66e-44c9-b549-20d25cde1aff",
   "metadata": {},
   "source": [
    "Q2. Conduct a chi-square goodness of fit test to determine if the distribution of colors of M&Ms in a bag matches the expected distribution of 20% blue, 20% orange, 20% green, 10% yellow, 10% red, and 20% brown. Use Python to perform the test with a significance level of 0.05."
   ]
  },
  {
   "cell_type": "code",
   "execution_count": 1,
   "id": "4ef88d95-0a8c-486e-aa43-ba27f96cbe6f",
   "metadata": {},
   "outputs": [
    {
     "name": "stdout",
     "output_type": "stream",
     "text": [
      "The distribution of colors does matches the expected distribution.\n"
     ]
    }
   ],
   "source": [
    "import numpy as np\n",
    "from scipy.stats import chisquare\n",
    "\n",
    "obs_fq = np.array([0.2,0.2,0.2,0.1,0.1,0.2])\n",
    "exp_fq = np.array([0.2,0.2,0.2,0.1,0.1,0.2])\n",
    "\n",
    "chi2_sq, p_val = chisquare(obs_fq, f_exp = exp_fq)\n",
    "\n",
    "alpha = 0.05\n",
    "\n",
    "if p_val <alpha:\n",
    "    print(\"The distribution of colors does not match the expected distribution.\")\n",
    "else:\n",
    "     print(\"The distribution of colors does matches the expected distribution.\")"
   ]
  },
  {
   "cell_type": "markdown",
   "id": "633e1ba0-1021-47f4-bba6-afcefbdf6ed9",
   "metadata": {},
   "source": [
    "Q3. Use Python to calculate the chi-square statistic and p-value for a contingency table with the following data:"
   ]
  },
  {
   "cell_type": "code",
   "execution_count": 1,
   "id": "1020f3d5-80d9-4e02-a8d4-a15fb4ed9691",
   "metadata": {},
   "outputs": [
    {
     "name": "stdout",
     "output_type": "stream",
     "text": [
      "Chi-square statistic :  5.833333333333334\n",
      "Degree of freedom :  2\n",
      "P-value :  0.05411376622282158\n",
      "Fail to reject the null hypothesis: There is no significant association between the groups and outcomes.\n"
     ]
    }
   ],
   "source": [
    "# Q3. Use Python to calculate the chi-square statistic and p-value for a contingency table with the following data:\n",
    "    \n",
    "#                           Group A      Group B\n",
    "# Outcome1                   20             15\n",
    "# Outcome2                   10             25\n",
    "# Outcome3                   15             20\n",
    "# Interpret the results of the test.\n",
    "\n",
    "# Answer :\n",
    "import numpy as np\n",
    "from scipy.stats import chi2_contingency\n",
    "\n",
    "observed = np.array( [[20, 15],\n",
    "                      [10, 25],\n",
    "                      [15, 20]])\n",
    "\n",
    "chi2_stat, p_val, dof, expected = chi2_contingency(observed)\n",
    "alpha = 0.05\n",
    "\n",
    "print(\"Chi-square statistic : \",chi2_stat)\n",
    "print(\"Degree of freedom : \",dof)\n",
    "print(\"P-value : \",p_val)\n",
    "\n",
    "if p_val < alpha :\n",
    "    print(\"Reject the null hypotheis: There is significance association between the groups and outcomes.\")\n",
    "else :\n",
    "    print(\"Fail to reject the null hypothesis: There is no significant association between the groups and outcomes.\")"
   ]
  },
  {
   "cell_type": "markdown",
   "id": "8acd481c-65bd-47ed-bddf-1c23583c48f7",
   "metadata": {},
   "source": [
    "Q4. A study of the prev alence of smoking in a population of 500 individuals found that 60 individuals smoked. Use Python to calculate the 95% confidence interval for the true proportion of individuals in the population who smoke."
   ]
  },
  {
   "cell_type": "code",
   "execution_count": 1,
   "id": "4fb40221-a4df-48ef-97b2-d61bbcdc9b66",
   "metadata": {},
   "outputs": [
    {
     "name": "stdout",
     "output_type": "stream",
     "text": [
      "Sample Proportion: 0.1200\n",
      "Standard Error: 0.0145\n",
      "99% Confidence Interval: (0.0915, 0.1485)\n"
     ]
    }
   ],
   "source": [
    "import scipy.stats as stats\n",
    "import numpy as np\n",
    "\n",
    "total_sample_size = 500\n",
    "smoked = 60\n",
    "confidence_level = 0.95\n",
    "\n",
    "sample_proportion = smoked / total_sample_size\n",
    "\n",
    "standard_error = np.sqrt((sample_proportion * (1 - sample_proportion)) / total_sample_size)\n",
    "margin_of_error = stats.norm.ppf(1 - (1 - confidence_level) / 2) * standard_error\n",
    "\n",
    "confidence_interval_lower = sample_proportion - margin_of_error\n",
    "confidence_interval_upper = sample_proportion + margin_of_error\n",
    "\n",
    "print(f\"Sample Proportion: {sample_proportion:.4f}\")\n",
    "print(f\"Standard Error: {standard_error:.4f}\")\n",
    "print(f\"99% Confidence Interval: ({confidence_interval_lower:.4f}, {confidence_interval_upper:.4f})\")"
   ]
  },
  {
   "cell_type": "markdown",
   "id": "57afdbb6-3b09-4d6f-8338-ddeeb0509d40",
   "metadata": {},
   "source": [
    "Q5. Calculate the 90% confidence interval for a sample of data with a mean of 75 and a standard deviationof 12 using Python. Interpret the results."
   ]
  },
  {
   "cell_type": "code",
   "execution_count": 8,
   "id": "615ac087-d169-4905-bcf0-cc6badcd2992",
   "metadata": {},
   "outputs": [
    {
     "name": "stdout",
     "output_type": "stream",
     "text": [
      "90% Confidence Interval: (73.03, 76.97)\n"
     ]
    }
   ],
   "source": [
    "import scipy.stats as stats\n",
    "sample_mean = 75\n",
    "sample_std = 12\n",
    "confidence_level = 0.90\n",
    "sample_size = 100\n",
    "\n",
    "standard_err = sample_std/(sample_size**0.5)\n",
    "critical_val = stats.norm.ppf(1 - (1-confidence_level)/2)\n",
    "margin_of_err = standard_err*critical_val\n",
    "\n",
    "ci_lower = sample_mean - margin_of_err\n",
    "ci_upper = sample_mean + margin_of_err\n",
    "\n",
    "print(f\"90% Confidence Interval: ({ci_lower:.2f}, {ci_upper:.2f})\")"
   ]
  },
  {
   "cell_type": "markdown",
   "id": "8abe827c-b008-4adc-b432-319179d6db59",
   "metadata": {},
   "source": [
    "Q6. Use Python to plot the chi-square distribution with 10 degrees of freedom. Label the axes and shade the area corresponding to a chi-square statistic of 15."
   ]
  },
  {
   "cell_type": "code",
   "execution_count": 10,
   "id": "cd6d1be2-d9a6-4d56-ad27-f8b6c6a2bca4",
   "metadata": {},
   "outputs": [
    {
     "data": {
      "image/png": "[encoded data removed]",
      "text/plain": [
       "<Figure size 800x600 with 1 Axes>"
      ]
     },
     "metadata": {},
     "output_type": "display_data"
    }
   ],
   "source": [
    "import numpy as np\n",
    "import matplotlib.pyplot as plt\n",
    "import scipy.stats as stats\n",
    "\n",
    "df = 10\n",
    "x = np.linspace(0, 30, 1000)\n",
    "\n",
    "chi2_pdf = stats.chi2.pdf(x, df)\n",
    "\n",
    "plt.figure(figsize=(8,6))\n",
    "plt.plot(x, chi2_pdf, label=f\"df = {df}\")\n",
    "\n",
    "x_shaded = np.linspace(0, 15, 100)\n",
    "y_shaded = stats.chi2.pdf(x_shaded, df)\n",
    "plt.fill_between(x_shaded, y_shaded, color = 'gray', alpha = 0.3, label = \"Chi-Square > 15\")\n",
    "\n",
    "plt.xlabel(\"Chi-Square Value\")\n",
    "plt.ylabel(\"Probability Density\")\n",
    "plt.title(\"Chi-Square Distribution\")\n",
    "\n",
    "plt.grid(True)\n",
    "plt.show()"
   ]
  },
  {
   "cell_type": "markdown",
   "id": "9bb36964-08c9-45db-95ad-00ef5855e2c6",
   "metadata": {},
   "source": [
    "Q7. A random sample of 1000 people was asked if they preferred Coke or Pepsi. Of the sample, 520 preferred Coke. Calculate a 99% confidence interval for the true proportion of people in the population who prefer Coke."
   ]
  },
  {
   "cell_type": "code",
   "execution_count": 17,
   "id": "902d33a8-d2f0-409f-a244-c8653cae61c7",
   "metadata": {},
   "outputs": [
    {
     "name": "stdout",
     "output_type": "stream",
     "text": [
      "Sample Proportion: 0.5200\n",
      "Standard Error: 0.0158\n",
      "99% Confidence Interval: (0.4940, 0.5460)\n"
     ]
    }
   ],
   "source": [
    "import scipy.stats as stats\n",
    "import numpy as np\n",
    "\n",
    "total_sample_size = 1000\n",
    "coke_preferred = 520\n",
    "confidence_level = 0.90\n",
    "\n",
    "sample_proportion = coke_preferred / total_sample_size\n",
    "\n",
    "standard_error = np.sqrt((sample_proportion * (1 - sample_proportion)) / total_sample_size)\n",
    "margin_of_error = stats.norm.ppf(1 - (1 - confidence_level) / 2) * standard_error\n",
    "\n",
    "confidence_interval_lower = sample_proportion - margin_of_error\n",
    "confidence_interval_upper = sample_proportion + margin_of_error\n",
    "\n",
    "print(f\"Sample Proportion: {sample_proportion:.4f}\")\n",
    "print(f\"Standard Error: {standard_error:.4f}\")\n",
    "print(f\"99% Confidence Interval: ({confidence_interval_lower:.4f}, {confidence_interval_upper:.4f})\")"
   ]
  },
  {
   "cell_type": "markdown",
   "id": "444a9e75-a14b-4fe4-a805-e33e3ddecaf0",
   "metadata": {},
   "source": [
    "Q8. A researcher hypothesizes that a coin is biased towards tails. They flip the coin 100 times and observe 45 tails. Conduct a chi-square goodness of fit test to determine if the observed frequencies match the expected frequencies of a fair coin. Use a significance level of 0.05."
   ]
  },
  {
   "cell_type": "code",
   "execution_count": null,
   "id": "50606b3d-afdb-47f8-9b6b-cf279ed58c98",
   "metadata": {},
   "outputs": [],
   "source": [
    "NUll Hypothesis : The coin is fair (not biased toward tails)\n",
    "Alternative Hypothesis : The coin is biased toward tails.\n",
    "\n",
    "alpha = 0.05\n",
    "for a fair coin, we expect equal number of heads and tails. since there are 100 flips\n",
    "expected frequency  = 50\n",
    "observed frequency = 45\n",
    "Degree of freedom = Number of category - 1 = 2-1 = 1\n",
    "\n",
    "Chi-Square Test Statistic (χ²) = Σ((Observed Frequency - Expected Frequency)² / Expected Frequency)\n",
    "χ² = ((O - E)² / E) = ((45 - 50)² / 50) = 0.5\n",
    "\n",
    "for alpha = 0.05 and df = 1 , citical value = 3.841\n",
    "χ² (calculated) = 0.5\n",
    "χ² (critical) = 3.841\n",
    "\n",
    "since the calculated test statistic is less than the critical value, we fail to reject the null hypothesis."
   ]
  },
  {
   "cell_type": "markdown",
   "id": "0d7fd53b-f4b0-4d41-be53-d7581765ae96",
   "metadata": {},
   "source": [
    "Q9. A study was conducted to determine if there is an association between smoking status (smoker or non-smoker) and lung cancer diagnosis (yes or no). The results are shown in the contingency table below. Conduct a chi-square test for independence to determine if there is a significant association between smoking status and lung cancer diagnosis."
   ]
  },
  {
   "cell_type": "code",
   "execution_count": null,
   "id": "e26eb801-db16-4296-9180-14e26ca1e28b",
   "metadata": {},
   "outputs": [],
   "source": [
    "#                   Lung Cancer: Yes          Lung Cancer: No\n",
    "# Smoker                   60                       140\n",
    "# Non-smoker               30                       170\n",
    "# Use a significance level of 0.05.\n",
    "\n",
    "Answer :\n",
    "    \n",
    "Null Hypothesis : There is no association between smoking status and lung cancer diagnosis.\n",
    "Alternative Hypothesis : There is a an associattion between smoking status and lung cancer diagnosis.\n",
    "\n",
    "alpha = 0.05\n",
    "                  Lung Cancer: Yes          Lung Cancer: No      Row total\n",
    "Smoker                   60                       140              200\n",
    "Non-smoker               30                       170              200\n",
    "column total             90                       310              400\n",
    "\n",
    "Expected Frequencies:\n",
    "Expected Frequency = (Row Total * Column Total) / Grand Total\n",
    "                  Lung Cancer: Yes          Lung Cancer: No      Row total\n",
    "Smoker                   45                       155              200\n",
    "Non-smoker               45                       155              200\n",
    "column total             90                       310              400\n",
    "\n",
    "Chi-Square Test Statistic (χ²) = Σ((Observed Frequency - Expected Frequency)² / Expected Frequency)\n",
    "For each cell in the table:\n",
    "\n",
    "For Smoker and Lung Cancer: Yes, χ² = ((60 - 45)² / 45) = 5.333\n",
    "For Smoker and Lung Cancer: No, χ² = ((140 - 155)² / 155) = 1.742\n",
    "For Non-smoker and Lung Cancer: Yes, χ² = ((30 - 45)² / 45) = 5.333\n",
    "For Non-smoker and Lung Cancer: No, χ² = ((170 - 155)² / 155) = 1.742\n",
    "Total χ² = 5.333 + 1.742 + 5.333 + 1.742 = 14.150\n",
    "\n",
    "Degrees of Freedom (df) = (Number of Rows - 1) * (Number of Columns - 1) = (2 - 1) * (2 - 1) = 1\n",
    "for alpha = 0.05 and df = 1 , critical value = 3.841\n",
    "χ² (calculated) = 14.150\n",
    "χ² (critical) = 3.841\n",
    "\n",
    "since the calculated value is greater than critical value , we reject the null hypothesis."
   ]
  },
  {
   "cell_type": "markdown",
   "id": "2a81f3f2-b207-42e9-91a4-068d486b51a5",
   "metadata": {},
   "source": [
    "Q10. A study was conducted to determine if the proportion of people who prefer milk chocolate, darkchocolate, or white chocolate is different in the U.S. versus the U.K. A random sample of 500 people fromthe U.S. and a random sample of 500 people from the U.K. were surveyed. The results are shown in thecontingency table below. Conduct a chi-square test for independence to determine ifthere is a significant association between chocolate preference and country of origin."
   ]
  },
  {
   "cell_type": "code",
   "execution_count": null,
   "id": "6bce8da9-1ae8-48ca-8bbb-b4b4d07c41af",
   "metadata": {},
   "outputs": [],
   "source": [
    "                Milk Chocolate    Dark Chocolate    White Chocolate\n",
    "U.S. (n=500)         200              150                150\n",
    "U.K. (n=500)         225              175                100\n",
    "Use a significance level of 0.01.\n",
    "\n",
    "Answer :\n",
    "    \n",
    "Null hypothesis : There is no significant association between chocolate preference and country of origin.\n",
    "Alternative hypothesis : There is a significant association between chocolate preference and country of origin.\n",
    "\n",
    "alpha = 0.01\n",
    "                Milk Chocolate    Dark Chocolate    White Chocolate     Row total\n",
    "U.S. (n=500)         200              150                150              500\n",
    "U.K. (n=500)         225              175                100              500\n",
    "column total         425              325                250              1000\n",
    "\n",
    "Expected Frequencies:\n",
    "Expected Frequency = (Row Total * Column Total) / Grand Total\n",
    "                Milk Chocolate    Dark Chocolate    White Chocolate     Row total\n",
    "U.S. (n=500)         212.5            162.5              125              500\n",
    "U.K. (n=500)         212.5            162.5              125              500\n",
    "column total         425              325                250              1000\n",
    "\n",
    "Chi-Square Test Statistic (χ²) = Σ((Observed Frequency - Expected Frequency)² / Expected Frequency)\n",
    "χ2 = [(200 - 212.5)² / 212.5] + [(150 - 162.5)² / 162.5] + [(150 - 125)² / 125]\n",
    "     + [(225 - 212.5)² / 212.5] + [(175 - 162.5)² / 162.5] + [(100 - 125)² / 125]\n",
    "χ2 = 13.393\n",
    "\n",
    "df = (number of rows - 1) * (number of columns - 1) = (2 - 1) * (3 - 1) = 2\n",
    "for alpha = 0.01 and with 2 degrees of freedom \n",
    "critical value = 9.21034\n",
    "\n",
    "calculated value > critical value\n",
    "we reject the Null hypothesis."
   ]
  },
  {
   "cell_type": "markdown",
   "id": "25b6746d-0b03-4f1e-8c7b-94d3342142fb",
   "metadata": {},
   "source": [
    "Q11. A random sample of 30 people was selected from a population with an unknown mean and standard deviation. The sample mean was found to be 72 and the sample standard deviation was found to be 10. Conduct a hypothesis test to determine if the population mean is significantly different from 70. Use asignificance level of 0.05."
   ]
  },
  {
   "cell_type": "code",
   "execution_count": null,
   "id": "dc5e8e78-46b5-4968-9320-959ea5d49841",
   "metadata": {},
   "outputs": [],
   "source": [
    "Null hypothesis : The population mean is equal to 70.\n",
    "Alternative hypothesis : The population mean is significantly different from 70.\n",
    "\n",
    "alpha = 0.05\n",
    "sample size (n) = 30\n",
    "\n",
    "The formula for the t-test is:\n",
    "t = (sample mean - hypothesized population mean) / (sample standard deviation / √n)\n",
    "sample mean = 72\n",
    "hypothesized population mean = 70\n",
    "sample standard deviation = 10\n",
    "t = (72 - 70) / (10 / √30) = 1.095\n",
    "\n",
    "df = 30-1 = 29\n",
    "significance level = 0.05\n",
    "critical t-value = ±2.045 (for a two-tailed test)\n",
    "\n",
    "calculated t-value < critical t-value\n",
    "we fail to reject the null hypothesis."
   ]
  }
 ],
 "metadata": {
  "kernelspec": {
   "display_name": "Python 3 (ipykernel)",
   "language": "python",
   "name": "python3"
  },
  "language_info": {
   "codemirror_mode": {
    "name": "ipython",
    "version": 3
   },
   "file_extension": ".py",
   "mimetype": "text/x-python",
   "name": "python",
   "nbconvert_exporter": "python",
   "pygments_lexer": "ipython3",
   "version": "3.10.8"
  }
 },
 "nbformat": 4,
 "nbformat_minor": 5
}
