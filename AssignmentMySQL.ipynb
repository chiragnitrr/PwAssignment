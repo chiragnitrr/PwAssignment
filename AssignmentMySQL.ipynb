{
 "cells": [
  {
   "cell_type": "code",
   "execution_count": null,
   "id": "4060b4a1-6279-4f0a-aae5-aee8e6d8642c",
   "metadata": {},
   "outputs": [],
   "source": [
    "Q1. What is a database? Differentiate between SQL and NoSQL databases.\n",
    "Answer : A database is systematic collection of structured data and information that is stored electronically in \n",
    "         computer system. It is designed to store and manage data efficiently , retrive , manipulate large ammount\n",
    "         of data.\n",
    "        \n",
    "         Difference between SQL and NoSQL :\n",
    "         1. In SQL data stores in row and columns it stores data in structured way. In NoSQL data store in the key-value\n",
    "            pair , Document, it store data schemeless.\n",
    "         2. SQL uses SQL query language, which is stadard language which is used for managing the data. NoSQL has their\n",
    "            own specific languages for managing the data.\n",
    "         3. SQL use for handling structured data and NoSQL used for handling non-structurd data."
   ]
  },
  {
   "cell_type": "code",
   "execution_count": null,
   "id": "b43e8a5f-d22c-43f2-9a6e-447129545b8b",
   "metadata": {},
   "outputs": [],
   "source": [
    "Q2. What is DDL? Explain why CREATE, DROP, ALTER, and TRUNCATE are used with an example.\n",
    "Answer : Full form of DDL is data definition language it is part of SQL it used to define and manage structure of \n",
    "         database. DDL used to creat, define , modify and delete database object such as tables, indexes, views \n",
    "         and constraints.\n",
    "        \n",
    "        CREATE : The CREAT statement is used to creat new database object such as table, indexes, view, and constraints.\n",
    "                 it is define the structure , column and constraints for the object being created.\n",
    "        Example: Creating a table named \"student\" with column for roll number, name and marks obtain in exam.\n",
    "        code:\n",
    "            CREATE TABLE student(\n",
    "                ROLL_NUMBER INT PRIMARY KEY,\n",
    "                Name VARCHAR(50),\n",
    "                Marks INT\n",
    "            );\n",
    "            \n",
    "            \n",
    "        DROP : It is used to delet  permanentlya exiting database and along with the database all data associate with the \n",
    "               databse is also deleted.\n",
    "        Example :deteting student tabel.\n",
    "        code :\n",
    "            DROP TABLE student;\n",
    "            \n",
    "            \n",
    "        ALTER : The ALTER statement is used to modify the structure of an exiting database object such as table, index,\n",
    "                constrait. it used to add ,drop, modify a column .\n",
    "        Example : Adding age in the student table.\n",
    "        code :\n",
    "            ALTER TABLE student\n",
    "            ADD age INT;\n",
    "            \n",
    "        \n",
    "        TRUNCATE : The TRUNCATE statement is used to remove all the row from a database while keeping table structure\n",
    "                   intact. it is faster than delet.\n",
    "        Example :  Truncating the student table to remove all data.\n",
    "        code : \n",
    "            TRUNCATE TABLE student;"
   ]
  },
  {
   "cell_type": "code",
   "execution_count": null,
   "id": "9d5d1e45-924d-4076-bd46-fe0f5d4e00b7",
   "metadata": {},
   "outputs": [],
   "source": [
    "Q3. What is DML? Explain INSERT, UPDATE, and DELETE with an example.\n",
    "Answer : DML stands for Data manipulation language it is subset of SQL it is used to retrive and manipulate the data\n",
    "         within a database. DML is used for insert , update and delete the data in a data base.\n",
    "         \n",
    "        INSERT : The insert statemnt is used to insert new record or a table in a database. it specify the name and \n",
    "                 the values to be inserted into the corresponding columns.\n",
    "        Example :\n",
    "            INSERT INTO student(ROLL_NUMBER, Name , Marks, Age)\n",
    "            VALUES (23, 'pwskills', 89, 18)\n",
    "            \n",
    "            \n",
    "        UPDATE : The UPDATE statement is used to modify the exiting record or data in the table it specify the table\n",
    "                 name , column and where in case of updating specific row.\n",
    "        Example :\n",
    "            UPDATE student\n",
    "            SET Marks = 90\n",
    "            WHERE Name = 'pwsills'\n",
    "            \n",
    "        DELETE : the DELETE statement is used to delete the exiting record or table from a table. it specify the \n",
    "                 table name and include WHERE to specify the condition for deleting the specific row.\n",
    "        Example :\n",
    "            DELETE FROM student\n",
    "            WHERE Marks < 50"
   ]
  },
  {
   "cell_type": "code",
   "execution_count": null,
   "id": "b9deb1ed-d929-4487-89a5-deb38e7c6a88",
   "metadata": {},
   "outputs": [],
   "source": [
    "Q4. What is DQL? Explain SELECT with an example.\n",
    "Answer : DQL stands for data query language. it is subset of SQL that specificlly deals with retrieving data from \n",
    "         data base. DQL commonds are used to perform queries and fetch data from one or more data base.\n",
    "    \n",
    "        SELECT : The most common DQL command is SELECT which is used to data retrieval from database table. The\n",
    "                 select statement allow you to specify the columns you want to retriev and apply various condition\n",
    "                 and filtration to refine your query.\n",
    "                \n",
    "        code : \n",
    "            SElECT Name, ROLL_NUMBER\n",
    "            FROM student\n",
    "            WHERE age = 18 AND Marks >50\n",
    "        \n",
    "        above query will give name and roll number from student table which full fill the given condition."
   ]
  },
  {
   "cell_type": "code",
   "execution_count": null,
   "id": "28df6451-d27c-4580-9615-dc39f28ae832",
   "metadata": {},
   "outputs": [],
   "source": [
    "Q5. Explain Primary Key and Foreign Key.\n",
    "Answer : Primary Key : Primary key is a columns or set of columns in the database that uniquely identifies each \n",
    "                       row or record in the table. primary key insures the uniqueness of data in data base.\n",
    "         \n",
    "         Foreign Key : A Foreign key is column or set of column in the database table that establishes a link\n",
    "                       or relationship between two tables. "
   ]
  },
  {
   "cell_type": "code",
   "execution_count": null,
   "id": "4dd37e35-f831-438d-bd1a-d21dabe3466b",
   "metadata": {},
   "outputs": [],
   "source": [
    "Q6. Write a python code to connect MySQL to python. Explain the cursor() and execute() method.\n",
    "Answer : Python code to connect MySQL :\n",
    "\n",
    "import mysql.connector\n",
    "mydb = mysql.connector.connect(\n",
    "    host = \"localhost\",\n",
    "    user = \"abc\"\n",
    "    password = \"password\"\n",
    "    )\n",
    "mycursor = mydb.curhor()\n",
    "mydb.execute(\"CREATE DATABSE my_database\")\n",
    "mydb.close()\n",
    "\n",
    "cursor() : it is function which acts like a pointer which poits data which is present in a table. with the help\n",
    "           of cursor we can enter data in a table or retriev from the table.\n",
    "    \n",
    "excute() : it is a fuction which is used to peform different - different query in a database object like creating,\n",
    "           database, creating tables , insert data."
   ]
  },
  {
   "cell_type": "code",
   "execution_count": null,
   "id": "112879e8-b970-4b6f-8880-899d80097b13",
   "metadata": {},
   "outputs": [],
   "source": [
    "Q7. Give the order of execution of SQL clauses in an SQL query.\n",
    "Answr : The order of execution of SQL clause in SQL :\n",
    "        1. FROM clause\n",
    "        2. WHERE clause\n",
    "        3. GROUP BY clause\n",
    "        4. HAVING clause\n",
    "        5. SELECT clause\n",
    "        6. ORDER BY clause\n",
    "        7. LIMIT / OFFSET clauses"
   ]
  }
 ],
 "metadata": {
  "kernelspec": {
   "display_name": "Python 3 (ipykernel)",
   "language": "python",
   "name": "python3"
  },
  "language_info": {
   "codemirror_mode": {
    "name": "ipython",
    "version": 3
   },
   "file_extension": ".py",
   "mimetype": "text/x-python",
   "name": "python",
   "nbconvert_exporter": "python",
   "pygments_lexer": "ipython3",
   "version": "3.10.8"
  }
 },
 "nbformat": 4,
 "nbformat_minor": 5
}
