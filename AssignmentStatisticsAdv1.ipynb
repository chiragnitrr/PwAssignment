{
 "cells": [
  {
   "cell_type": "code",
   "execution_count": null,
   "id": "37be6482-91cd-4ce7-8b5e-e2ec0dbf37cd",
   "metadata": {},
   "outputs": [],
   "source": [
    "Q1. What is the Probability density function?\n",
    "Answer : Probability density function is fundamental concept of statistics and probability. It is used\n",
    "         to describe the probability distribution of continous random variable."
   ]
  },
  {
   "cell_type": "code",
   "execution_count": null,
   "id": "f93dc748-9a6c-4455-a0a8-409662aeba4e",
   "metadata": {},
   "outputs": [],
   "source": [
    "Q2. What are the types of Probability distribution?\n",
    "Answer : The types of Probability distributions are :\n",
    "         1. Normal/ Gaussian Distribution\n",
    "         2. Binomial Distribution\n",
    "         3. Poissions Distribution\n",
    "         4. Bernoulli Distribution\n",
    "         5. Uniform Distribution\n",
    "         6. Log normal Distribution"
   ]
  },
  {
   "cell_type": "code",
   "execution_count": 5,
   "id": "e2d1d197-2a92-4a0a-86f9-3555bd338e9c",
   "metadata": {},
   "outputs": [],
   "source": [
    "# Q3. Write a Python function to calculate the probability density function of a normal distribution with \n",
    "#     given mean and standard deviation at a given point.\n",
    "# Answer :\n",
    "\n",
    "def genrate_pdf_nd(mean, std) :\n",
    "    # pi = 3.14\n",
    "    # e = 2.71\n",
    "    # square root of (2*pi*e) = 3.63\n",
    "    a = std**3\n",
    "    b = mean**2\n",
    "    c = 2*mean\n",
    "    d = a*3.63\n",
    "    print(\"(x^2 - %fx + %f)/%f\" % (c,b,d))"
   ]
  },
  {
   "cell_type": "code",
   "execution_count": 6,
   "id": "75ff466e-9d8b-4d6b-9afd-f691f50b145f",
   "metadata": {},
   "outputs": [
    {
     "name": "stdout",
     "output_type": "stream",
     "text": [
      "(x^2 - 10.000000x + 25.000000)/3.630000\n"
     ]
    }
   ],
   "source": [
    "genrate_pdf_nd(5,1)"
   ]
  },
  {
   "cell_type": "code",
   "execution_count": null,
   "id": "3f4719d7-36b5-4d4c-ab62-7468530aa19f",
   "metadata": {},
   "outputs": [],
   "source": [
    "Q4. What are the properties of Binomial distribution? Give two examples of events where binomial \n",
    "    distribution can be applied.\n",
    "Answer : Properties of Binomial distribution :\n",
    "        1. The binomial distribution is discrete probability distribution.\n",
    "        2. Independent trials.\n",
    "        3. Fixed numbers of trials (n).\n",
    "        4. probability of succes (p) is constant for each trial.\n",
    "        5. in binomial distribution, mean = np, variance = n*p*(1-p)."
   ]
  },
  {
   "cell_type": "code",
   "execution_count": 11,
   "id": "3d0a8f9a-4c2b-46c3-af56-5e1b5439fa9d",
   "metadata": {},
   "outputs": [
    {
     "data": {
      "image/png": "[encoded data removed]",
      "text/plain": [
       "<Figure size 640x480 with 1 Axes>"
      ]
     },
     "metadata": {},
     "output_type": "display_data"
    }
   ],
   "source": [
    "# Q5. Generate a random sample of size 1000 from a binomial distribution with probability of success 0.4 \n",
    "#     and plot a histogram of the results using matplotlib.\n",
    "#Answer :\n",
    "\n",
    "import numpy as np\n",
    "import matplotlib.pyplot as plt\n",
    "\n",
    "sample_size = 1000\n",
    "probability_of_succes = 0.4\n",
    "random_sample = np.random.binomial(n=10, p = probability_of_succes, size = sample_size)\n",
    "\n",
    "plt.hist(random_sample)\n",
    "plt.show()"
   ]
  },
  {
   "cell_type": "code",
   "execution_count": 16,
   "id": "ba03a962-5003-4bff-a366-a7a5a5756c66",
   "metadata": {},
   "outputs": [
    {
     "name": "stdout",
     "output_type": "stream",
     "text": [
      "CDF at x=3: 0.2650259152973616\n"
     ]
    }
   ],
   "source": [
    "# Q6. Write a Python function to calculate the cumulative distribution function of a Poisson distribution \n",
    "#     with given mean at a given point.\n",
    "# Answer :\n",
    "    \n",
    "from scipy.stats import poisson\n",
    "def poisson_cdf(mean, x):\n",
    "    return poisson.cdf(x, mu=mean)\n",
    "\n",
    "mean = 5\n",
    "point = 3\n",
    "cdf_value = poisson_cdf(mean, point)\n",
    "print(f\"CDF at x={point}: {cdf_value}\")"
   ]
  },
  {
   "cell_type": "code",
   "execution_count": null,
   "id": "bdc99008-a031-4e65-a4e9-3a866916d912",
   "metadata": {},
   "outputs": [],
   "source": [
    "Q7. How Binomial distribution different from Poisson distribution?\n",
    "Answer : Difference between binomial and poisson distribution :\n",
    "    1. Binomial distribution requires a fixed number of trials to be specified in advance and the poisson distribution\n",
    "       does not require fixed number of trials.\n",
    "    2. In binomial distribution for each trial probability of success is fixed and in poisson distribution does not \n",
    "       involve probability of success in each trial. instead, it models expected number of event occur at everty time interval \"λ\".\n",
    "    3. The binomial distribution is used to model the number of successes in a fixed number of independent Bernoulli trials, where \n",
    "       each trial can have only two possible outcomes (success or failure).\n",
    "       The Poisson distribution is used to model the number of events that occur in a fixed interval of time\n",
    "       or space, where events occur independently and with a constant average rate."
   ]
  },
  {
   "cell_type": "code",
   "execution_count": 15,
   "id": "11d186f4-b311-480b-ab28-b520c944dcfb",
   "metadata": {},
   "outputs": [
    {
     "name": "stdout",
     "output_type": "stream",
     "text": [
      "sample mean :  4.972\n",
      "sample variance :  4.930146146146146\n"
     ]
    }
   ],
   "source": [
    "# Q8. Generate a random sample of size 1000 from a Poisson distribution with mean 5 and calculate the \n",
    "#     sample mean and variance.\n",
    "# Answer :\n",
    "    \n",
    "import numpy as np\n",
    "mean = 5\n",
    "sample = np.random.poisson(mean, size = 1000)\n",
    "\n",
    "sample_mean = np.mean(sample)\n",
    "sample_variance = np.var(sample, ddof = 1)\n",
    "\n",
    "print(\"sample mean : \", sample_mean)\n",
    "print(\"sample variance : \", sample_variance)"
   ]
  },
  {
   "cell_type": "code",
   "execution_count": null,
   "id": "d35c5906-efd2-429d-b8fa-7fd0969073f5",
   "metadata": {},
   "outputs": [],
   "source": [
    "Q9. How mean and variance are related in Binomial distribution and Poisson distribution?\n",
    "Answer : In binomila distribution :\n",
    "        n = number of independent trials\n",
    "        p = probability of success\n",
    "        mean = n*p\n",
    "        variance = n*p*(1-P)\n",
    "        \n",
    "        In Poisson distribution :\n",
    "        λ = expected number of event occur at everty time interval\n",
    "        mean = λ\n",
    "        variance = λ"
   ]
  },
  {
   "cell_type": "code",
   "execution_count": null,
   "id": "511d7903-e9b8-4e47-ae8f-d47917848e35",
   "metadata": {},
   "outputs": [],
   "source": [
    "Q10. In normal distribution with respect to mean position, where does the least frequent data appear?\n",
    "Answer : In normal distribution, the least frequent data points appears in the tails, which are the extreme ends of the\n",
    "         distribution, farthest from the mean. the majority of the data points are clustered around the mean, where the \n",
    "         distribution is most dense and more frequent."
   ]
  }
 ],
 "metadata": {
  "kernelspec": {
   "display_name": "Python 3 (ipykernel)",
   "language": "python",
   "name": "python3"
  },
  "language_info": {
   "codemirror_mode": {
    "name": "ipython",
    "version": 3
   },
   "file_extension": ".py",
   "mimetype": "text/x-python",
   "name": "python",
   "nbconvert_exporter": "python",
   "pygments_lexer": "ipython3",
   "version": "3.10.8"
  }
 },
 "nbformat": 4,
 "nbformat_minor": 5
}
