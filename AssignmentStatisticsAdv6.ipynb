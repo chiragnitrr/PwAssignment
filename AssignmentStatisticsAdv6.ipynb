{
 "cells": [
  {
   "cell_type": "markdown",
   "id": "0201a1af-5818-40f0-bf62-ed7cf7901e6f",
   "metadata": {},
   "source": [
    "Q1. Explain the assumptions required to use ANOVA and provide examples of violations that could impact the validity of the results."
   ]
  },
  {
   "cell_type": "code",
   "execution_count": null,
   "id": "b523b8ce-8fb2-43a9-b71a-8e6f2386aa88",
   "metadata": {},
   "outputs": [],
   "source": [
    "Answer : Assumptions in ANOVA:\n",
    "    1. Normality of sampling distribution of means :The distribution of sample is normally distributed.\n",
    "    2. Absence of Outliers : outlying score need to be removed from dataset.\n",
    "    3. Homogenity of variance : Each one of the population has same variance.\n",
    "    4. Independence : The observations within each group are assumed to be independent of each other.\n",
    "    \n",
    "    When these assumptions are violated, it's important to consider alternative statistical approaches or transformations that might\n",
    "    be more suitable for the data. If the violations are severe, non-parametric tests or transformations of the data (e.g., log \n",
    "    transformation) might be appropriate. In some cases, collecting more data, especially when dealing with violation due to small\n",
    "    sample sizes, can help mitigate the impact of the violations on the results."
   ]
  },
  {
   "cell_type": "markdown",
   "id": "0789693d-a3f4-4b25-bf12-8bcdba017dfd",
   "metadata": {},
   "source": [
    "Q2. What are the three types of ANOVA, and in what situations would each be used?"
   ]
  },
  {
   "cell_type": "code",
   "execution_count": null,
   "id": "8ecc797a-448a-4d31-93c4-2a615daa63f2",
   "metadata": {},
   "outputs": [],
   "source": [
    "Answer : Types of ANOVA :\n",
    "    1. One way ANOVA : One factor with atleast 2 levels, these levels are independent.\n",
    "       Situation : One way ANOVA is used when you have a single categorical independent variable(factor) with three or more lvels (groups),\n",
    "        and you want to determine if there are any significant differences in means among these groups.\n",
    "    2. Repeated Measures ANOVA : One factor with atleast 2 levels, levels are dependent.\n",
    "       Situation : Repeated Measures ANOVA is used when you have the same subject or items measured under multiple conditions or at \n",
    "        multiple time points. It is used to investigate whether there are significant differences in means across these conditions or\n",
    "        time points.\n",
    "    3. Factorial ANOVA : Two or more factor ( each of which with atleast 2 levels), levels can be either\n",
    "       dependent or independent.\n",
    "       Situation : Factorial ANOVA is used when you have two independent variables (factors) that you want to investigate simultaneously.\n",
    "        it assesses the main effects of each factor and the interaction between the two factors on the dependent variable."
   ]
  },
  {
   "cell_type": "markdown",
   "id": "ca5e83a6-d7bf-48fb-b937-173c503a7a35",
   "metadata": {},
   "source": [
    "Q3. What is the partitioning of variance in ANOVA, and why is it important to understand this concept?"
   ]
  },
  {
   "cell_type": "code",
   "execution_count": null,
   "id": "6c90deb5-5dc1-4235-b031-099efaf9f567",
   "metadata": {},
   "outputs": [],
   "source": [
    "Answer : The partitioning of variance in ANOVA refers to the process of breaking down the total variance observed in the data into \n",
    "         different components that can be attributed to various sources. This decomposition allows us to understand the relative\n",
    "         contributions of different factors and sources of variability to the overall variation in the data. The importance of \n",
    "         understanding this concept lies in gaining insights into the factors that influence the dependent variable and quatifying\n",
    "         their effects.   "
   ]
  },
  {
   "cell_type": "markdown",
   "id": "09537530-e032-4e22-9d86-a9749e6914b9",
   "metadata": {},
   "source": [
    "Q4. How would you calculate the total sum of squares (SST), explained sum of squares (SSE), and residual sum of squares (SSR) in a one-way ANOVA using Python?"
   ]
  },
  {
   "cell_type": "code",
   "execution_count": 1,
   "id": "7ebcd333-8294-4c79-8b59-da822922cf85",
   "metadata": {},
   "outputs": [
    {
     "name": "stdout",
     "output_type": "stream",
     "text": [
      "Total sum of squares (SST) :  1191.3333333333333\n",
      "Explained sum of squares (SSE) :  98.0\n",
      "Residual sum of squares (SSR) :  1093.3333333333333\n"
     ]
    }
   ],
   "source": [
    "import numpy as np\n",
    "\n",
    "g1 = np.array([15,18,20,22,25])\n",
    "g2 = np.array([10,12,14,16,18])\n",
    "g3 = np.array([30,32,34,36,38])\n",
    "\n",
    "mean_g1 = np.mean(g1)\n",
    "mean_g2 = np.mean(g2)\n",
    "mean_g3 = np.mean(g3)\n",
    "\n",
    "overall_mean = np.mean(np.concatenate((g1, g2, g3)))\n",
    "\n",
    "sst = np.sum((np.concatenate((g1,g2,g3)) - overall_mean)**2)\n",
    "\n",
    "sse = np.sum((g1 - mean_g1)**2) + np.sum((g2 - mean_g2)**2) + np.sum((g3 - mean_g3))\n",
    "\n",
    "ssr = sst - sse\n",
    "\n",
    "print(\"Total sum of squares (SST) : \", sst)\n",
    "print(\"Explained sum of squares (SSE) : \", sse)\n",
    "print(\"Residual sum of squares (SSR) : \", ssr)"
   ]
  },
  {
   "cell_type": "markdown",
   "id": "99a0b382-5722-43f1-b5a2-e8714fbad3cc",
   "metadata": {},
   "source": [
    "Q5. In a two-way ANOVA, how would you calculate the main effects and interaction effects using Python?"
   ]
  },
  {
   "cell_type": "code",
   "execution_count": 4,
   "id": "63f0fadf-9fde-424c-b3e7-82f0612f81f3",
   "metadata": {},
   "outputs": [
    {
     "name": "stdout",
     "output_type": "stream",
     "text": [
      "Main effect of Factor A :  -4.027777777777779\n",
      "Main effect of Factor B :  3.416666666666668\n",
      "Interaction Effect :  20.86111111111111\n"
     ]
    }
   ],
   "source": [
    "import numpy as np\n",
    "from scipy.stats import f\n",
    "\n",
    "data = np.array([[12,15,18],\n",
    "                [20,22,25],\n",
    "                [9,11,14],\n",
    "                [30,35,32]])\n",
    "\n",
    "mean_a1_b1 = np.mean(data[0])\n",
    "mean_a1_b2 = np.mean(data[1])\n",
    "mean_a1_b3 = np.mean(data[2])\n",
    "mean_a2_b1 = np.mean(data[3])\n",
    "overall_mean = np.mean(data)\n",
    "\n",
    "main_effect_a = ((mean_a1_b1 + mean_a1_b2 + mean_a1_b3)/3) - overall_mean\n",
    "main_effect_b = ((mean_a1_b1 + mean_a2_b1)/2) - overall_mean\n",
    "interaction_effect = overall_mean - (main_effect_a + main_effect_b)\n",
    "\n",
    "print(\"Main effect of Factor A : \",main_effect_a)\n",
    "print(\"Main effect of Factor B : \",main_effect_b)\n",
    "print(\"Interaction Effect : \",interaction_effect)"
   ]
  },
  {
   "cell_type": "markdown",
   "id": "6a88cc91-0ec9-4650-94eb-439e0f576d81",
   "metadata": {},
   "source": [
    "Q6. Suppose you conducted a one-way ANOVA and obtained an F-statistic of 5.23 and a p-value of 0.02. What can you conclude about the differences between the groups, and how would you interpret these results?"
   ]
  },
  {
   "cell_type": "code",
   "execution_count": null,
   "id": "718776e4-1bc0-465f-ada0-05f28c047915",
   "metadata": {},
   "outputs": [],
   "source": [
    "Answer : The F-statistic value of 5.23 indicates the raio of the between -group variability to the within-group variability. It's \n",
    "         a measures of how much the group means differ from each other compared to the variability within each group. Higher \n",
    "         F-statistic values suggest larger differences between group means. \n",
    "         The p-value of 0.02 is the probability of observing an F-statistic as extreme as 5.23 (or more extreme) under the \n",
    "         assumption that there are no true differences between the groups means. A low p-value indicates that the observed\n",
    "         differences are unlikely to have occurred due to random chance alone.\n",
    "            \n",
    "         Since the p-value(0.02) is less than the chosen significance level (0.05), you would reject the null hypothesis.\n",
    "         This suggests that there are significant differences among at least some of the group means. In other words, you\n",
    "         have evidence to suggest that the groups are not all equal in terms of the variable you're measuring.   "
   ]
  },
  {
   "cell_type": "markdown",
   "id": "1d2261af-496d-4339-b40c-34c3223ebae6",
   "metadata": {},
   "source": [
    "Q7. In a repeated measures ANOVA, how would you handle missing data, and what are the potential consequences of using different methods to handle missing data?"
   ]
  },
  {
   "cell_type": "code",
   "execution_count": null,
   "id": "cee9fb23-f10a-4060-80fa-cb9a4836250f",
   "metadata": {},
   "outputs": [],
   "source": [
    "Answer : Handling missing data in a repeated measures ANOVA is an important consideration, as missing data can impact the \n",
    "         validity and reliability of your results. There are several methods to handle missing data, each with its own \n",
    "         advantages and potential consequences :\n",
    "            1. Listwise Deletion (Complete case analysis)\n",
    "            2. Pairwise Deletion (Available case Analysis)\n",
    "            3. Mean Iputation (Replace missing value with the mean of the observed value)\n",
    "            4. Last Observation carried forward (LOCF) : impute missing data with the last observed value for that subject.\n",
    "            5. Multiple imputation \n",
    "            6. Maximum Likelihood Estimation (ML)\n",
    "            \n",
    "            Potential consequences of using different methods to handle missing data include:\n",
    "            1. Bias\n",
    "            2. Inaccurate Standard Errors\n",
    "            3. Loss of Power\n",
    "            4. Incorrect significance levels\n",
    "            5. Model Misspecification"
   ]
  },
  {
   "cell_type": "markdown",
   "id": "35846bdc-e821-4cfb-919f-6276cc256aa2",
   "metadata": {},
   "source": [
    "Q8. What are some common post-hoc tests used after ANOVA, and when would you use each one? Provide an example of a situation where a post-hoc test might be necessary."
   ]
  },
  {
   "cell_type": "code",
   "execution_count": null,
   "id": "78e7c765-b5ed-4ce3-981d-33ba0750b634",
   "metadata": {},
   "outputs": [],
   "source": [
    "Answer : After Conducting an analysis of variance (ANOVA) and finding a significant difference among groups, post-hoc tests are often\n",
    "         employed to determine which specific groups are significantly different from each other. Here are some common post-hoc tests\n",
    "         and their appropriate use cases :\n",
    "         1. Turkey's Honestly Significant Difference (HSD) : Use when you have a balanced design (equal group sizes) and want to control\n",
    "            the family - wise error rate.\n",
    "            Example : A study comparing the effectiveness of three different teaching methods (A,B, and C) on student test scores found\n",
    "            a significant difference in means. To determine which teaching methods are different from each other, you can use Tukey's HSD.\n",
    "            \n",
    "         2. Bonferroni Correction : Use when you have a large number of pairwise comparisons and want to control the family - wise error\n",
    "            rate at a stricter level.\n",
    "            Example : An experiment involving six treatment groups, and you're interested in pairwise comparisons between all groups. To \n",
    "            maitain a family - wise error rate of 0.05, you might use the Bonferroni correction to adjust the significance level for each\n",
    "            comparison.\n",
    "            \n",
    "         3. Scheffe's Test : Use when an unbalanced design (unequal group sizes) and you want a more conservative approach to control the\n",
    "            family - wise error rate.\n",
    "            Example : A study with different numbers of participants in each treatment group (X,Y and Z), and you want to compare means \n",
    "            while considering the potential for unequal variances.\n",
    "            \n",
    "         4. Dunn's Test (Non-parametric) : Use when the assumptions of normality and homogeneity of variances are violated, or when your data\n",
    "            is ordinal or not approximately normally distributed.\n",
    "            Example : A study examining the effects of different diets on weight loss using a non - parametric ANOVA found a significant\n",
    "            overall difference. To explore specific group differences, Dunn's test can be used."
   ]
  },
  {
   "cell_type": "markdown",
   "id": "74f31679-4f9f-4cad-8e83-6484640dd155",
   "metadata": {},
   "source": [
    "Q9. A researcher wants to compare the mean weight loss of three diets: A, B, and C. They collect data from 50 participants who were randomly assigned to one of the diets. Conduct a one-way ANOVA using Python to determine if there are any significant differences between the mean weight loss of the three diets. Report the F-statistic and p-value, and interpret the results."
   ]
  },
  {
   "cell_type": "code",
   "execution_count": 13,
   "id": "8b2e2247-13d0-4410-a64a-3b868004fb6e",
   "metadata": {},
   "outputs": [
    {
     "name": "stdout",
     "output_type": "stream",
     "text": [
      "F-Statistic : 974.52\n",
      "P-value : 1.4965926043459714e-85 \n",
      "Reject the null hypothesis : There are significant difference between the mean weight loss of the diets.\n"
     ]
    }
   ],
   "source": [
    "import numpy as np\n",
    "from scipy.stats import f_oneway\n",
    "\n",
    "diet_A = np.array([1.5, 2.0, 1.8, 1.2, 2.5, 2.2, 1.9, 1.7, 1.3, 1.6,\n",
    "                   2.1, 1.5, 1.8, 2.0, 1.9, 1.4, 1.6, 2.3, 1.7, 1.9,\n",
    "                   1.2, 2.4, 1.8, 1.5, 1.6, 1.3, 2.2, 1.7, 1.9, 2.1,\n",
    "                   1.8, 2.0, 1.6, 1.3, 2.3, 1.9, 2.2, 1.7, 1.5, 1.8,\n",
    "                   1.2, 2.0, 1.8, 2.5, 2.2, 1.9, 1.7, 1.3, 1.6, 2.1])\n",
    "\n",
    "diet_B = np.array([1.0, 0.8, 0.5, 0.9, 1.2, 0.7, 1.1, 0.9, 1.3, 1.0,\n",
    "                   0.6, 1.2, 0.8, 1.0, 0.9, 1.4, 1.2, 0.5, 1.1, 0.9,\n",
    "                   1.0, 0.7, 0.9, 1.2, 1.1, 1.3, 0.8, 1.0, 0.7, 0.5,\n",
    "                   1.0, 0.9, 1.2, 1.4, 0.8, 1.0, 0.7, 1.1, 0.9, 1.0,\n",
    "                   1.3, 1.0, 0.6, 1.2, 0.8, 1.0, 0.9, 1.4, 1.2, 0.5])\n",
    "\n",
    "diet_C = np.array([3.2, 3.5, 3.0, 3.8, 3.1, 3.6, 3.3, 3.2, 3.7, 3.4,\n",
    "                   3.6, 3.2, 3.4, 3.5, 3.3, 3.9, 3.7, 3.0, 3.6, 3.2,\n",
    "                   3.1, 3.4, 3.2, 3.6, 3.7, 3.5, 3.3, 3.4, 3.6, 3.0,\n",
    "                   3.5, 3.2, 3.8, 3.9, 3.4, 3.6, 3.3, 3.2, 3.7, 3.4,\n",
    "                   3.6, 3.2, 3.4, 3.5, 3.3, 3.9, 3.7, 3.0, 3.6, 3.2])\n",
    "\n",
    "f_stats, p_val = f_oneway(diet_A, diet_B, diet_C)\n",
    "\n",
    "print(f\"F-Statistic : {f_stats:.2f}\")\n",
    "print(f\"P-value : {p_val} \")\n",
    "\n",
    "alpha = 0.05\n",
    "\n",
    "if p_val < alpha:\n",
    "    print(\"Reject the null hypothesis : There are significant difference between the mean weight loss of the diets.\")\n",
    "else : \n",
    "    print(\"We fail to Reject the null hypothesis : There is no significant difference between the mean weight loss of the diets.\")"
   ]
  },
  {
   "cell_type": "markdown",
   "id": "55558a46-4454-478a-a26e-dd14fdc21cc8",
   "metadata": {},
   "source": [
    "Q10. A company wants to know if there are any significant differences in the average time it takes to complete a task using three different software programs: Program A, Program B, and Program C. They randomly assign 30 employees to one of the programs and record the time it takes each employee to complete the task. Conduct a two-way ANOVA using Python to determine if there are any main effects or interaction effects between the software programs and employee experience level (novice vs. experienced). Report the F-statistics and p-values, and interpret the results."
   ]
  },
  {
   "cell_type": "code",
   "execution_count": 17,
   "id": "bc3c9209-6575-4210-bea3-654831ecaaf6",
   "metadata": {},
   "outputs": [
    {
     "name": "stdout",
     "output_type": "stream",
     "text": [
      "F-statistic :  108.07200327899281\n",
      "P-value :  1.7883629538144336e-51\n",
      "Reject the null hypothesis : There are significant differences.\n"
     ]
    },
    {
     "name": "stderr",
     "output_type": "stream",
     "text": [
      "/tmp/ipykernel_88/133596938.py:17: DeprecationWarning: Please use `f_oneway` from the `scipy.stats` namespace, the `scipy.stats.stats` namespace is deprecated.\n",
      "  results = stats.f_oneway(data[\"A\"][\"novice\"], data[\"A\"][\"experienced\"],\n"
     ]
    }
   ],
   "source": [
    "import numpy as np\n",
    "from scipy.stats import f_oneway\n",
    "from scipy.stats import stats\n",
    "\n",
    "np.random.seed(0)\n",
    "\n",
    "n = 30\n",
    "software_prog = [\"A\", \"B\", \"C\"]\n",
    "exp_lvl = [\"novice\", \"experienced\"]\n",
    "\n",
    "data = {\n",
    "    \"A\" : {\"novice\": np.random.normal(10,2,n), \"experienced\" : np.random.normal(12,2,n)},\n",
    "    \"B\" : {\"novice\": np.random.normal(14,2,n), \"experienced\" : np.random.normal(16,2,n)},\n",
    "    \"C\" : {\"novice\": np.random.normal(18,2,n), \"experienced\" : np.random.normal(20,2,n)}\n",
    "     }\n",
    "\n",
    "results = stats.f_oneway(data[\"A\"][\"novice\"], data[\"A\"][\"experienced\"],\n",
    "                         data[\"B\"][\"novice\"], data[\"B\"][\"experienced\"],\n",
    "                         data[\"C\"][\"novice\"], data[\"C\"][\"experienced\"] )\n",
    "\n",
    "print(\"F-statistic : \",results.statistic)\n",
    "print(\"P-value : \", results.pvalue)\n",
    "\n",
    "alpha = 0.05\n",
    "\n",
    "if results.pvalue < alpha :\n",
    "    print(\"Reject the null hypothesis : There are significant differences.\")\n",
    "else :\n",
    "    print(\"Fail to reject the null hypothesis : There are no significant differences.\")"
   ]
  },
  {
   "cell_type": "markdown",
   "id": "3c4ebc78-146e-43f7-bf35-888f1028e59d",
   "metadata": {},
   "source": [
    "Q11. An educational researcher is interested in whether a new teaching method improves student test scores. They randomly assign 100 students to either the control group (traditional teaching method) or the experimental group (new teaching method) and administer a test at the end of the semester. Conduct a two-sample t-test using Python to determine if there are any significant differences in test scores between the two groups. If the results are significant, follow up with a post-hoc test to determine which group(s) differ significantly from each other."
   ]
  },
  {
   "cell_type": "code",
   "execution_count": 2,
   "id": "d698ef54-c614-4a78-95e4-6d80bd57ac03",
   "metadata": {},
   "outputs": [
    {
     "name": "stdout",
     "output_type": "stream",
     "text": [
      "t-statistic :  -3.7599589022634667\n",
      "p-value :  0.0002891066992057289\n",
      "\n",
      "Tukey's HSD post-hoc test results:\n",
      "   Multiple Comparison of Means - Tukey HSD, FWER=0.05    \n",
      "==========================================================\n",
      " group1    group2    meandiff p-adj  lower   upper  reject\n",
      "----------------------------------------------------------\n",
      "Control Experimental   7.4681 0.0003 3.5265 11.4097   True\n",
      "----------------------------------------------------------\n"
     ]
    }
   ],
   "source": [
    "import numpy as np\n",
    "from scipy import stats\n",
    "import statsmodels.api as sm\n",
    "from statsmodels.stats.multicomp import pairwise_tukeyhsd\n",
    "\n",
    "np.random.seed(42)\n",
    "control_group = np.random.normal(loc=70, scale=10, size=50)\n",
    "experimental_group = np.random.normal(loc=75, scale=12, size=50)\n",
    "\n",
    "t_stat, p_val = stats.ttest_ind(control_group, experimental_group)\n",
    "\n",
    "print(\"t-statistic : \", t_stat)\n",
    "print(\"p-value : \", p_val)\n",
    "\n",
    "data = np.concatenate([control_group, experimental_group])\n",
    "group_labels = ['Control'] * len(control_group) + ['Experimental'] * len(experimental_group)\n",
    "\n",
    "turkey_result = pairwise_tukeyhsd(data, group_labels)\n",
    "print(\"\\nTukey's HSD post-hoc test results:\")\n",
    "print(turkey_result)"
   ]
  },
  {
   "cell_type": "markdown",
   "id": "f591f838-f6ec-4e94-865a-3b57dd7d277e",
   "metadata": {},
   "source": [
    "Q12. A researcher wants to know if there are any significant differences in the average daily sales of three retail stores: Store A, Store B, and Store C. They randomly select 30 days and record the sales for each store on those days. Conduct a repeated measures ANOVA using Python to determine if there are any significant differences in sales between the three stores. If the results are significant, follow up with a post-hoc test to determine which store(s) differ significantly from each other"
   ]
  },
  {
   "cell_type": "code",
   "execution_count": 4,
   "id": "ae6e0938-b386-4b17-a9df-c914a0fd628b",
   "metadata": {},
   "outputs": [
    {
     "name": "stdout",
     "output_type": "stream",
     "text": [
      "Repeated Measures ANOVA results : \n",
      "               Anova\n",
      "===================================\n",
      "      F Value Num DF  Den DF Pr > F\n",
      "-----------------------------------\n",
      "Store  0.1808 2.0000 58.0000 0.8350\n",
      "===================================\n",
      "\n",
      "\n",
      "Tukey's HSD post - hoc test results:\n",
      "  Multiple Comparison of Means - Tukey HSD, FWER=0.05  \n",
      "=======================================================\n",
      " group1  group2 meandiff p-adj   lower    upper  reject\n",
      "-------------------------------------------------------\n",
      "Store A Store B  -1.7899 0.9284 -13.4069  9.8272  False\n",
      "Store A Store C  -3.0837 0.8024 -14.7007  8.5333  False\n",
      "Store B Store C  -1.2939 0.9619 -12.9109 10.3232  False\n",
      "-------------------------------------------------------\n"
     ]
    }
   ],
   "source": [
    "import numpy as np\n",
    "import pandas as pd\n",
    "from statsmodels.stats.anova import AnovaRM\n",
    "from statsmodels.stats.multicomp import pairwise_tukeyhsd\n",
    "\n",
    "np.random.seed(42)\n",
    "store_names = ['Store A', 'Store B', 'Store C']\n",
    "data = {\n",
    "    'Day' : np.repeat(np.arange(30), 3),\n",
    "    'Store' : np.tile(store_names, 30),\n",
    "    'Sales' : np.random.normal(loc=100, scale=20, size=90)\n",
    "}\n",
    "\n",
    "df = pd.DataFrame(data)\n",
    "\n",
    "rm_anova = AnovaRM(df, 'Sales', 'Day', within = ['Store'])\n",
    "rm_anova_results = rm_anova.fit()\n",
    "\n",
    "print(\"Repeated Measures ANOVA results : \")\n",
    "print(rm_anova_results)\n",
    "\n",
    "posthoc = pairwise_tukeyhsd(df['Sales'], df['Store'])\n",
    "print(\"\\nTukey's HSD post - hoc test results:\")\n",
    "print(posthoc)"
   ]
  }
 ],
 "metadata": {
  "kernelspec": {
   "display_name": "Python 3 (ipykernel)",
   "language": "python",
   "name": "python3"
  },
  "language_info": {
   "codemirror_mode": {
    "name": "ipython",
    "version": 3
   },
   "file_extension": ".py",
   "mimetype": "text/x-python",
   "name": "python",
   "nbconvert_exporter": "python",
   "pygments_lexer": "ipython3",
   "version": "3.10.8"
  }
 },
 "nbformat": 4,
 "nbformat_minor": 5
}
