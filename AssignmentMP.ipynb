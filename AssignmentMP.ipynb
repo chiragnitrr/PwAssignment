{
 "cells": [
  {
   "cell_type": "code",
   "execution_count": null,
   "id": "7f8aa4f1-e35d-4617-b6a1-44c89b011de9",
   "metadata": {},
   "outputs": [],
   "source": [
    "Q1. What is multiprocessing in python? Why is it useful?\n",
    "Answer : Multiprocessing is the process in python which assign different - differet processor for different - different\n",
    "         task paralelly . it is for fast execution of code it takes less time to execute the given task, isolation and \n",
    "         tolerance when any error occur in one processor it will not affect the other , flexible communication and \n",
    "         synchronization."
   ]
  },
  {
   "cell_type": "code",
   "execution_count": null,
   "id": "75d75b89-09c1-4a78-b0dc-f70f8ce6a601",
   "metadata": {},
   "outputs": [],
   "source": [
    "Q2. What are the differences between multiprocessing and multithreading?\n",
    "Answer : In multiprocessing given task or opertion are distibuted in different processor where as in multithreading\n",
    "         all the task or operation happens in the same processor in different - different threads. multiprocessing is \n",
    "         fastern than multithreading , bugs and error fixing is easy in multiprocessing than in mutithreading."
   ]
  },
  {
   "cell_type": "code",
   "execution_count": 2,
   "id": "d941ee4c-6141-4d13-8e59-fb5a8a21edeb",
   "metadata": {},
   "outputs": [
    {
     "name": "stdout",
     "output_type": "stream",
     "text": [
      "this is my main program\n",
      "this is my multiprocessing program\n"
     ]
    }
   ],
   "source": [
    "# Q3. Write a python code to create a process using the multiprocessing module.\n",
    "# Answer :\n",
    "    \n",
    "import multiprocessing\n",
    "\n",
    "def pw():\n",
    "    print(\"this is my multiprocessing program\")\n",
    "    \n",
    "if __name__ == '__main__' :\n",
    "    m = multiprocessing.Process(target = pw)\n",
    "    print(\"this is my main program\")\n",
    "    m.start()\n",
    "    m.join()"
   ]
  },
  {
   "cell_type": "code",
   "execution_count": null,
   "id": "e5890d32-bd6f-4f88-ae49-6c60e51fe890",
   "metadata": {},
   "outputs": [],
   "source": [
    "Q4. What is a multiprocessing pool in python? Why is it used?\n",
    "Answer : In python, a multiprocessing pool is a mechanism provided by the 'multiprocessing' module. basically\n",
    "         it distribute all the task among the processor which is created during the program with the help of\n",
    "         pool . \n",
    "         The reason for use of pool :\n",
    "         1.Concurrent and parallel execution\n",
    "         2.Simplified interface\n",
    "         3.Automatic workload distribution\n",
    "         4.Reuse of processes\n",
    "         5.Process management"
   ]
  },
  {
   "cell_type": "code",
   "execution_count": 6,
   "id": "fb6f1f3d-2a2b-4ee7-a7e2-8deada1f5a36",
   "metadata": {},
   "outputs": [
    {
     "name": "stdout",
     "output_type": "stream",
     "text": [
      "[1, 4, 9, 16, 25, 36, 49, 64, 81]\n"
     ]
    }
   ],
   "source": [
    "# Q5. How can we create a pool of worker processes in python using the multiprocessing module?\n",
    "# Answer :\n",
    "    \n",
    "import multiprocessing\n",
    "def sq(n):\n",
    "    return n**2\n",
    "\n",
    "if __name__ == '__main__' :\n",
    "    pool_obj = multiprocessing.Pool(processes = 4)\n",
    "    out = pool_obj.map(sq,[1,2,3,4,5,6,7,8,9])\n",
    "    print(out)"
   ]
  },
  {
   "cell_type": "code",
   "execution_count": 8,
   "id": "ea938c6c-6cf3-4994-ae7a-668f658c0922",
   "metadata": {},
   "outputs": [
    {
     "name": "stdout",
     "output_type": "stream",
     "text": [
      "[1, 2, 3, 4]\n"
     ]
    }
   ],
   "source": [
    "# Q6. Write a python program to create 4 processes, each process should print a different number using the \n",
    "#    multiprocessing module in python.\n",
    "# Answer :\n",
    "import multiprocessing\n",
    "def print_number(n):\n",
    "    return n\n",
    "    \n",
    "if __name__ == '__main__':\n",
    "    my_list = [1,2,3,4]\n",
    "    obj = multiprocessing.Pool(processes = 4)\n",
    "    out = obj.map(print_number,my_list)\n",
    "    print(out)"
   ]
  },
  {
   "cell_type": "code",
   "execution_count": null,
   "id": "51d50946-ca9e-4fe1-9d82-4015a30ba53b",
   "metadata": {},
   "outputs": [],
   "source": []
  }
 ],
 "metadata": {
  "kernelspec": {
   "display_name": "Python 3 (ipykernel)",
   "language": "python",
   "name": "python3"
  },
  "language_info": {
   "codemirror_mode": {
    "name": "ipython",
    "version": 3
   },
   "file_extension": ".py",
   "mimetype": "text/x-python",
   "name": "python",
   "nbconvert_exporter": "python",
   "pygments_lexer": "ipython3",
   "version": "3.10.8"
  }
 },
 "nbformat": 4,
 "nbformat_minor": 5
}
