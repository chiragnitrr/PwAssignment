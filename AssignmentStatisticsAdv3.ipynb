{
 "cells": [
  {
   "cell_type": "code",
   "execution_count": null,
   "id": "e79fccd0-c733-4ddd-8448-1ef60cb8fd26",
   "metadata": {},
   "outputs": [],
   "source": [
    "Q1: What is Estimation Statistics? Explain point estimate and interval estimate.\n",
    "Answer : Estimation Statistics : It is also known as statistical estimation, is a branch of inferential statistics \n",
    "         that deals with the process of estimating population parameters based on sample data. In inferential statistics\n",
    "         researchers are often interested in making inferences or drawing conclusions about a population based on a sample,\n",
    "         as it usually impossible to collect data from the entire population.\n",
    "            \n",
    "         Point estimate : Single numerical value used to estimate the known population parameter.\n",
    "                         example : sample mean.\n",
    "            \n",
    "         Interval estimate : Range of value used to estimate the unknown population parameters.\n",
    "                          example : confidemce interval"
   ]
  },
  {
   "cell_type": "code",
   "execution_count": 2,
   "id": "f872bf0d-fed5-428e-8522-296b858c62a4",
   "metadata": {},
   "outputs": [],
   "source": [
    "# Q2. Write a Python function to estimate the population mean using a sample mean and standard deviation.\n",
    "# Answer :\n",
    "\n",
    "import scipy.stats as stats\n",
    "def calculate_p_mean(sample_mean, sample_std, sample_size, confidence_level = 0.95):\n",
    "    degree_of_freedom = sample_size - 1\n",
    "    t_critical = stats.t.ppf( 1 - (1 - confidence_level)/2, degree_of_freedom)\n",
    "    margin_of_error = t_critical * (sample_std / (sample_size ** 0.5))\n",
    "    lower_bound = sample_mean - margin_of_error\n",
    "    upper_bound = sample_mean + margin_of_error\n",
    "    \n",
    "    return lower_bound, upper_bound"
   ]
  },
  {
   "cell_type": "code",
   "execution_count": 3,
   "id": "00ba172b-c35d-49ba-931b-204d82ad04c0",
   "metadata": {},
   "outputs": [
    {
     "data": {
      "text/plain": [
       "(478.7220287674396, 561.2779712325604)"
      ]
     },
     "execution_count": 3,
     "metadata": {},
     "output_type": "execute_result"
    }
   ],
   "source": [
    "calculate_p_mean(520, 100, 25)"
   ]
  },
  {
   "cell_type": "code",
   "execution_count": null,
   "id": "41378719-f6fa-4754-ac9b-ff2c1a6f8561",
   "metadata": {},
   "outputs": [],
   "source": [
    "Q3: What is Hypothesis testing? Why is it used? State the importance of Hypothesis testing.\n",
    "Answer : Hypothesis testing is a fundamental concept in inferential statistics used to make decision and draw\n",
    "         conclusions about populations based on sample data. it involves formulating two competing hypothesis \n",
    "         the null hypothesis and the alternative hypothesis, and then using sample evidence to determine whether\n",
    "         there is enough evidence to reject the null hypothesis in favor of the alternative hypothesis.\n",
    "            \n",
    "        importance of Hypothesis :\n",
    "            1. Objectivity: Hypothesis testing provides an objective and systematic framework to evaluate the evidence\n",
    "                            in favor of or against a particular claim.\n",
    "            2. Decision-making\n",
    "            3. Scientific research\n",
    "            4. Quality control\n",
    "            5. Policy evaluation\n",
    "            6. Establishing causality"
   ]
  },
  {
   "cell_type": "code",
   "execution_count": null,
   "id": "c257a9b0-9431-4ae5-a95f-96ede6cb2bdf",
   "metadata": {},
   "outputs": [],
   "source": [
    "Q4. Create a hypothesis that states whether the average weight of male college students is greater than the average \n",
    "    weight of female college students.\n",
    "Answer : Hypothesis :\n",
    "         Null Hypothesis : The average weight of male college students is greater than the average wieght of female college student.\n",
    "         Alternative Hypothesis : The average weight of male college students is not greater than the average wieght of female college \n",
    "                                  student.       "
   ]
  },
  {
   "cell_type": "code",
   "execution_count": 5,
   "id": "7c886428-3414-445e-ae1f-aefd09735102",
   "metadata": {},
   "outputs": [
    {
     "name": "stdout",
     "output_type": "stream",
     "text": [
      "Results:\n",
      "t-statistic: 5.7378201997937595\n",
      "p-value: 1.936525708101655e-05\n",
      "Null hypothesis rejected: True\n"
     ]
    }
   ],
   "source": [
    "# Q5. Write a Python script to conduct a hypothesis test on the difference between two population means, given a sample \n",
    "#     from each population.\n",
    "# Answer :\n",
    "\n",
    "import numpy as np\n",
    "import scipy.stats as stats\n",
    "\n",
    "def hypothesis_test(sample1, sample2, alpha = 0.05):\n",
    "    \n",
    "    mean1, mean2 = np.mean(sample1), np.mean(sample2)\n",
    "    std1, std2 = np.std(sample1, ddof = 1), np.std(sample2, ddof = 1)\n",
    "    \n",
    "    n1, n2 = len(sample1), len(sample2)\n",
    "    pooled_std = np.sqrt(( (n1-1)*(std1**2) + (n2-1)*(std2**2) )/ (n1+n2-2) )\n",
    "    t_statistic = (mean1 - mean2)/(pooled_std * np.sqrt(1/n1 + 1/n2))\n",
    "    \n",
    "    degree_of_freedom = n1 + n2 - 2\n",
    "    p_value = 2 * (1 - stats.t.cdf(abs(t_statistic), df = degree_of_freedom ) )\n",
    "                   \n",
    "    Null_hypothesis_rejected = p_value < alpha\n",
    "    \n",
    "    result = {\n",
    "        't_statistic' : t_statistic,\n",
    "        'p_value' : p_value,\n",
    "        'Null Hypothesis Rejected' : Null_hypothesis_rejected\n",
    "    }\n",
    "                   \n",
    "    return result\n",
    "                   \n",
    "if __name__ == \"__main__\":\n",
    "    sample1 = [28, 32, 30, 25, 29, 31, 27, 34, 33, 28]\n",
    "    sample2 = [22, 24, 26, 20, 25, 23, 21, 26, 24, 23]\n",
    "\n",
    "    result = hypothesis_test(sample1, sample2)\n",
    "\n",
    "    print(\"Results:\")\n",
    "    print(\"t-statistic:\", result['t_statistic'])\n",
    "    print(\"p-value:\", result['p_value'])\n",
    "    print(\"Null hypothesis rejected:\", result['Null Hypothesis Rejected'])"
   ]
  },
  {
   "cell_type": "code",
   "execution_count": null,
   "id": "70f5651b-4e9f-4e68-af3c-90d9438698bb",
   "metadata": {},
   "outputs": [],
   "source": [
    "Q6: What is a null and alternative hypothesis? Give some examples.\n",
    "Answer : In hypothesis testing, the null hypothesis and the alternative hypothesis are two competing statement about\n",
    "         a population parameter that researchers aim to test using sample data. these hypotheses are mutually exclusive\n",
    "         and cover all possibilities concerning the value of the parameter being investigated.\n",
    "        \n",
    "        Example :\n",
    "            1. Hypothesis test about the population mean:\n",
    "                Null Hypothesis : The population mean is equal to a specific value.\n",
    "                Alternative Hypothesis : The population mean is not equal to specific value.\n",
    "                \n",
    "            2. Hypothesis test about the difference between two population means:\n",
    "                Null Hypothesis : There is no difference between the population means.\n",
    "                Alternative Hypothesis : There is a significant difference between the population means."
   ]
  },
  {
   "cell_type": "code",
   "execution_count": null,
   "id": "a973b4c6-bfa3-4432-915f-8659ab89959e",
   "metadata": {},
   "outputs": [],
   "source": [
    "Q7: Write down the steps involved in hypothesis testing.\n",
    "Answer : Steps involved in hypothesis testing :\n",
    "         1.Formulate the Null and Alternative Hypotheses\n",
    "         2.Choose a Significance Level\n",
    "         3.Select the Test Statistic\n",
    "         4.Identify the sampling distribution\n",
    "         5.Collect data and calculate the test statistic\n",
    "         6.Determine the critical Region/Critical Value\n",
    "         7.Make a Decision\n",
    "         8.Interpret the results\n",
    "         9.Consider practical significance\n",
    "        10.Draw Conclusions"
   ]
  },
  {
   "cell_type": "code",
   "execution_count": null,
   "id": "c9bc8a4d-8bdd-4f90-a5cf-fdf20a75ffc5",
   "metadata": {},
   "outputs": [],
   "source": [
    "Q8. Define p-value and explain its significance in hypothesis testing.\n",
    "Answer : In hypothesis testing, the p-value (probability value) is a measure of the strength of the evidence against\n",
    "         the null hypothesis. It represents the probability of observing a test statistic as extreme as, or more extreme\n",
    "         than, the one calculated from the sample data, assuming that the null hypothesis is true.\n",
    "        \n",
    "         Significance of the p-value in hypothesis testing :\n",
    "                1. Interpetation of p-value : A small p-value indicate strong evidence against the null hypothesis and large\n",
    "                   p-value suggests weak evidence against the null hypothesis.\n",
    "                2. Decision Rule : If the p-value is less or equal to the significance level, we reject the null hypothesis in \n",
    "                   favor of the alternative hypothesis and if p-value is greater than the significance level we fail to reject\n",
    "                   the null hypothesis.\n",
    "                3. Connection to Type | Error \n",
    "                4. Connection to Type || Error\n",
    "                5. Effect Size and Sample Size"
   ]
  },
  {
   "cell_type": "code",
   "execution_count": 8,
   "id": "ad693542-edfd-4671-bb14-44f12782b893",
   "metadata": {},
   "outputs": [
    {
     "data": {
      "image/png": "[encoded data removed]",
      "text/plain": [
       "<Figure size 640x480 with 1 Axes>"
      ]
     },
     "metadata": {},
     "output_type": "display_data"
    }
   ],
   "source": [
    "# Q9. Generate a Student's t-distribution plot using Python's matplotlib library, with the degrees of freedom parameter set to 10.\n",
    "# Answer :\n",
    "\n",
    "import numpy as np\n",
    "import matplotlib.pyplot as plt\n",
    "from scipy.stats import t\n",
    "\n",
    "df = 10\n",
    "x = np.linspace(-4,4,500)\n",
    "y = t.pdf(x, df)\n",
    "\n",
    "plt.plot(x, y, label = f'Student\\'s t-distribution (df : {df})' )\n",
    "plt.xlabel('x')\n",
    "plt.ylabel('Probability density')\n",
    "plt.title(f'Student\\'s t-distribution with {df} degree of freedom')\n",
    "plt.legend()\n",
    "plt.grid(True)\n",
    "plt.show()"
   ]
  },
  {
   "cell_type": "code",
   "execution_count": 3,
   "id": "d7c92a0f-72dd-4f71-b020-3c250ea0d650",
   "metadata": {},
   "outputs": [
    {
     "name": "stdout",
     "output_type": "stream",
     "text": [
      "Results:\n",
      "t-statistic: 2.4100945846528132\n",
      "p-value: 0.017813974953974306\n",
      "Null hypothesis rejected: True\n"
     ]
    }
   ],
   "source": [
    "# Q10. Write a Python program to calculate the two-sample t-test for independent samples, given two random samples of equal \n",
    "#      size and a null hypothesis that the population means are equal.\n",
    "# Answer :\n",
    "\n",
    "import numpy as np\n",
    "from scipy.stats import ttest_ind\n",
    "\n",
    "def two_sample_ttest(sample1, sample2):\n",
    "    \n",
    "    t_statistic, p_value = ttest_ind(sample1, sample2)\n",
    "    \n",
    "    null_hypothesis_rejected = p_value < 0.05\n",
    "    \n",
    "    result = {\n",
    "        't_statistic' : t_statistic,\n",
    "        'p_value' : p_value,\n",
    "        'Null Hypothesis Rejected' : null_hypothesis_rejected\n",
    "    }\n",
    "    \n",
    "    return result\n",
    "\n",
    "if __name__ == \"__main__\":\n",
    "    sample1 = np.random.normal(loc=50, scale=10, size=50)\n",
    "    sample2 = np.random.normal(loc=45, scale=12, size=50)\n",
    "    \n",
    "    result = two_sample_ttest(sample1, sample2)\n",
    "    \n",
    "    print(\"Results:\")\n",
    "    print(\"t-statistic:\", result['t_statistic'])\n",
    "    print(\"p-value:\", result['p_value'])\n",
    "    print(\"Null hypothesis rejected:\", result['Null Hypothesis Rejected'])"
   ]
  },
  {
   "cell_type": "code",
   "execution_count": null,
   "id": "3cd2626b-11cd-46ff-8698-4bc4c8b38eb4",
   "metadata": {},
   "outputs": [],
   "source": [
    "Q11: What is Student’s t distribution? When to use the t-Distribution.\n",
    "Answer : Student's t-distribution, often referred to as t-distribution, is a probability distribution used in statistics. It is\n",
    "         similar to the standard normal (Z) distribution but with the heavier tails, which makes it suitable for smaller sample\n",
    "         sizes when the population standard deviation is unknown.\n",
    "        \n",
    "        When to use the t-distribution :\n",
    "            1.Small Sample Sizes: The t-distribution is used when dealing with small sample sizes (n<30) and when the population\n",
    "                                  standard deviation is unknown.\n",
    "            2.Population Standard Deviation Unknown : When you do not know the population standard deviation.\n",
    "            3.Hypothesis Testing: In hypothesis testing, when population size small and population standard deviation is unknown.\n",
    "            4.Confidence Intervals: When calculating confidence intervals for a population mean with a small sample size and unknown\n",
    "                                    population standard deviation.\n",
    "            5.Outliers and Skewed Data : The t-distribution is more robust to outliers and slightly skewed data compared to the standard\n",
    "                                         normal distribution."
   ]
  },
  {
   "cell_type": "code",
   "execution_count": null,
   "id": "798b1188-f0e5-48a4-aaa7-353e48aacb3c",
   "metadata": {},
   "outputs": [],
   "source": [
    "Q12: What is t-statistic? State the formula for t-statistic.\n",
    "Answer : The t-statistic is a test statistic used in hypothesis testing when the sample size is small or when the population\n",
    "         standard deviation is unknown. it is employed primarily in situations where the data follows a normal distribution. \n",
    "    \n",
    "         For a Single sample t-test:\n",
    "            The t-statistic for a single sample t-test is used to compare the mean of a sample to a known or hypothesized\n",
    "            population mean.\n",
    "            \n",
    "            Formula for t-statistic :\n",
    "            t = (sample mean - population mean) / (sample std / square root of sample size)"
   ]
  },
  {
   "cell_type": "code",
   "execution_count": null,
   "id": "4dc7d59b-ea52-4491-8bcd-f5bf2dd57dbe",
   "metadata": {},
   "outputs": [],
   "source": [
    "Q13. A coffee shop owner wants to estimate the average daily revenue for their shop. They take a random sample of 50 days \n",
    "     and find the sample mean revenue to be $500 with a standard deviation of $50. Estimate the population mean revenue with \n",
    "     a 95% confidence interval.\n",
    "Answer : Using t-test, (population standar deviation is unknown)\n",
    "        \n",
    "        Formula for t-test\n",
    "        CI = x̄ ± (t * s/√n)\n",
    "        \n",
    "        CI = confidence interval \n",
    "        x̄ = sample mean revenue ($500 in this case)\n",
    "        s = sample standard deviation ($50 in this case)\n",
    "        n = sample size (50 in this case)\n",
    "        t = Critical t-value for desired confidence level and degree of freedom (df = n-1)\n",
    "        df = 50-1 = 49\n",
    "        \n",
    "        For a two-tailed 95% confidence interval with 49 degrees of freedom, the critical t-value is approximately 2.009\n",
    "        \n",
    "        put all the value in the formula :\n",
    "        CI = 500 ± (2.009 * 50/√50)\n",
    "        CI = 500 ± (2.009 * 50/7.07)\n",
    "        CI = 500 ± 14.32\n",
    "        \n",
    "        So, the 95% confidence interval for the population mean revenue is appoximately $485.68 to $514.32."
   ]
  },
  {
   "cell_type": "code",
   "execution_count": null,
   "id": "d2738920-3ffa-4682-900d-f2f81fb32981",
   "metadata": {},
   "outputs": [],
   "source": [
    "Q14. A researcher hypothesizes that a new drug will decrease blood pressure by 10 mmHg. They conduct a clinical trial \n",
    "     with 100 patients and find that the sample mean decrease in blood pressure is 8 mmHg with a standard deviation of 3 mmHg. \n",
    "     Test the hypothesis with a significance level of 0.05.\n",
    "Answer : Null hypothesis : there is no significant decrease in blood pressure.\n",
    "         Alternative hypothesis : there is a significant decrease in blood pressure.\n",
    "    \n",
    "         using t-statistics, because population standard deviation is unknown\n",
    "         t = (x̄ - μ) / (s/√n)\n",
    "         \n",
    "         x̄ = Sample mean decrease in blood pressure (8 mmHg)\n",
    "         μ = population mean decrease in blood pressure (10 mmHg)\n",
    "         s = Sample standard deviation (3 mmHg)\n",
    "         n = Sample size (100)\n",
    "        \n",
    "        t = (8 - 10) / (3/√100)\n",
    "        t = -2 / (3/10)\n",
    "        t = -20 / 3\n",
    "        t = -6.67 (approx)\n",
    "        \n",
    "        Using t-table at significance level of 0.05 and with 99 degree of freedom, the critical t - value is approximately -1.66.\n",
    "        -6.67 < -1.66\n",
    "        since, calculated t-value (-6.67) is smaller than critical t-value(-1.66),\n",
    "        we can reject the null hypothesis."
   ]
  },
  {
   "cell_type": "code",
   "execution_count": null,
   "id": "11bbf853-abaa-41d6-9ec9-3dcfe68c17f1",
   "metadata": {},
   "outputs": [],
   "source": [
    "Q15. An electronics company produces a certain type of product with a mean weight of 5 pounds and a standard deviation of 0.5 \n",
    "     pounds. A random sample of 25 products is taken, and the sample mean weight is found to be 4.8 pounds. Test the hypothesis that \n",
    "     the true mean weight of the products is less than 5 pounds with a significance level of 0.01.\n",
    "Answer : Null hypothesis : The mean weight of the product is 5 pound.\n",
    "         Alternative hypothesis : The mean weight of the product is less than 5 pound.\n",
    "    \n",
    "         significance level (α) = 0.01\n",
    "         using t-statistics\n",
    "         t = (x̄ - μ) / (s / √n)\n",
    "         x̄ = Sample mean (4.8 pounds)\n",
    "         μ = Population mean (5 pounds)\n",
    "         s = Population standard deviation (0.5 pounds)\n",
    "         n = Sample size (25)\n",
    "        \n",
    "         put all the values in the formula \n",
    "         t = (4.8 - 5) / (0.5 / √25)\n",
    "         t = -0.2 / (0.5 / 5)\n",
    "         t = -0.2 / 0.1\n",
    "         t = -2\n",
    "\n",
    "         df = degree of freedom (n-1)\n",
    "         df = 25-1 = 24\n",
    "         using t-table find, one-tail\n",
    "         Critical value = t-critical at α = 0.01 and df = 24\n",
    "         Critical value = -2.492\n",
    "        \n",
    "         -2 > -2.492\n",
    "         this is one tail test, so we reject the null hypothesis."
   ]
  },
  {
   "cell_type": "code",
   "execution_count": null,
   "id": "89ce7167-e4cb-4892-bf7c-97924d1c3c74",
   "metadata": {},
   "outputs": [],
   "source": [
    "Q16. Two groups of students are given different study materials to prepare for a test. The first group (n1 = 30) has a mean \n",
    "     score of 80 with a standard deviation of 10, and the second group (n2 = 40) has a mean score of 75 with a standard deviation\n",
    "     of 8. Test the hypothesis that the population means for the two groups are equal with a significance level of 0.01.\n",
    "Answer : Null hypothesis : The population means of the two groups are equal (μ1 = μ2). \n",
    "         Alternative hypothesis : The population means of the two groups are not equal (μ1 ≠ μ2).\n",
    "        \n",
    "         significance level = 0.01\n",
    "         The formula for the two-sample t-test is given by:\n",
    "         t = (x̄1 - x̄2) / √[(s1^2 / n1) + (s2^2 / n2)]\n",
    "         \n",
    "         x̄1 = Sample mean of the first group (80)\n",
    "         x̄2 = Sample mean of the second group (75)\n",
    "         s1 = Sample standard deviation of the first group (10)\n",
    "         s2 = Sample standard deviation of the second group (8)\n",
    "         n1 = Sample size of the first group (30)\n",
    "         n2 = Sample size of the second group (40)\n",
    "\n",
    "         put all the values in the formula :\n",
    "         t = (80 - 75) / √[(10^2 / 30) + (8^2 / 40)]\n",
    "         t = 5 / √[(100 / 30) + (64 / 40)]\n",
    "         t = 5 / √(3.3333 + 1.6)\n",
    "         t = 5 / √4.9333\n",
    "         t = 5 / 2.2223\n",
    "         t = 2.25 (approx)\n",
    "        \n",
    "        degree of freedom (df) = n1 + n2 -2 \n",
    "        df = 30 + 40 -2 = 68\n",
    "        Since the alternative hypothesis is two-tailed\n",
    "        Critical t-value = t-critical at α/2 = 0.005 and df = 68\n",
    "        t-value = ±2.661\n",
    "        \n",
    "        since the 2.25 falls within the range of critical values(-2.661 to 2.661),\n",
    "        we fail to reject the null hypothesis."
   ]
  },
  {
   "cell_type": "code",
   "execution_count": null,
   "id": "ea6b23ba-8556-45de-87d7-59d61884ea21",
   "metadata": {},
   "outputs": [],
   "source": [
    "Q17. A marketing company wants to estimate the average number of ads watched by viewers during a TV program. They take a \n",
    "     random sample of 50 viewers and find that the sample mean is 4 with a standard deviation of 1.5. Estimate the population\n",
    "     mean with a 99% confidence interval.\n",
    "Answer : The formula for the confidence interval is given by:\n",
    "         Confidence Interval = x̄ ± t * (s / √n)\n",
    "        \n",
    "        x̄ = Sample mean (4)\n",
    "        s = Sample standard deviation (1.5)\n",
    "        n = Sample size (50)\n",
    "        t = t-score\n",
    "        degree of freedom = 50 - 1 = 49\n",
    "        the significance level (α) = 1-0.99 = 0.01\n",
    "        we need to split the alpha value equally into both tails of the t-distribution.\n",
    "        α/2 = 0.01 / 2 = 0.005\n",
    "        t-score for  α/2 = 0.005 and degrees of freedom 49 = 2.68\n",
    "        Margin of Error = t * (s / √n) = 2.680 * (1.5 / √50)\n",
    "        \n",
    "        Lower Limit = x̄ - Margin of Error\n",
    "        Upper Limit = x̄ + Margin of Error\n",
    "        \n",
    "        Lower Limit = 4 - (2.680 * (1.5 / √50))\n",
    "        Lower Limit = 3.596\n",
    "\n",
    "        Upper Limit = 4 + (2.680 * (1.5 / √50))\n",
    "        Upper Limit = 4.404\n",
    "        \n",
    "        population mean number of ads watched by viwers a TV program falls between (3.596, 4.404)."
   ]
  }
 ],
 "metadata": {
  "kernelspec": {
   "display_name": "Python 3 (ipykernel)",
   "language": "python",
   "name": "python3"
  },
  "language_info": {
   "codemirror_mode": {
    "name": "ipython",
    "version": 3
   },
   "file_extension": ".py",
   "mimetype": "text/x-python",
   "name": "python",
   "nbconvert_exporter": "python",
   "pygments_lexer": "ipython3",
   "version": "3.10.8"
  }
 },
 "nbformat": 4,
 "nbformat_minor": 5
}
