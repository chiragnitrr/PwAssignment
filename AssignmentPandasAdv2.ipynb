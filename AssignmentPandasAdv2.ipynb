{
 "cells": [
  {
   "cell_type": "code",
   "execution_count": 1,
   "id": "f628553a-9dbf-4bcb-9be1-8332120a7d79",
   "metadata": {},
   "outputs": [],
   "source": [
    "# Consider following code to answer further questions:\n",
    "    \n",
    "import pandas as pd\n",
    "course_name = ['Data Science', 'Machine Learning', 'Big Data', 'Data Engineer']\n",
    "duration = [2,3,6,4]\n",
    "df = pd.DataFrame(data = {'course_name' : course_name, 'duration' : duration})"
   ]
  },
  {
   "cell_type": "code",
   "execution_count": 2,
   "id": "a550fe1c-48f5-4feb-8a80-3638d0c23c86",
   "metadata": {},
   "outputs": [
    {
     "data": {
      "text/html": [
       "<div>\n",
       "<style scoped>\n",
       "    .dataframe tbody tr th:only-of-type {\n",
       "        vertical-align: middle;\n",
       "    }\n",
       "\n",
       "    .dataframe tbody tr th {\n",
       "        vertical-align: top;\n",
       "    }\n",
       "\n",
       "    .dataframe thead th {\n",
       "        text-align: right;\n",
       "    }\n",
       "</style>\n",
       "<table border=\"1\" class=\"dataframe\">\n",
       "  <thead>\n",
       "    <tr style=\"text-align: right;\">\n",
       "      <th></th>\n",
       "      <th>course_name</th>\n",
       "      <th>duration</th>\n",
       "    </tr>\n",
       "  </thead>\n",
       "  <tbody>\n",
       "    <tr>\n",
       "      <th>0</th>\n",
       "      <td>Data Science</td>\n",
       "      <td>2</td>\n",
       "    </tr>\n",
       "    <tr>\n",
       "      <th>1</th>\n",
       "      <td>Machine Learning</td>\n",
       "      <td>3</td>\n",
       "    </tr>\n",
       "    <tr>\n",
       "      <th>2</th>\n",
       "      <td>Big Data</td>\n",
       "      <td>6</td>\n",
       "    </tr>\n",
       "    <tr>\n",
       "      <th>3</th>\n",
       "      <td>Data Engineer</td>\n",
       "      <td>4</td>\n",
       "    </tr>\n",
       "  </tbody>\n",
       "</table>\n",
       "</div>"
      ],
      "text/plain": [
       "        course_name  duration\n",
       "0      Data Science         2\n",
       "1  Machine Learning         3\n",
       "2          Big Data         6\n",
       "3     Data Engineer         4"
      ]
     },
     "execution_count": 2,
     "metadata": {},
     "output_type": "execute_result"
    }
   ],
   "source": [
    "df"
   ]
  },
  {
   "cell_type": "code",
   "execution_count": 3,
   "id": "f90730b6-0ddb-467c-bc4a-e0354b7eaab6",
   "metadata": {},
   "outputs": [
    {
     "data": {
      "text/html": [
       "<div>\n",
       "<style scoped>\n",
       "    .dataframe tbody tr th:only-of-type {\n",
       "        vertical-align: middle;\n",
       "    }\n",
       "\n",
       "    .dataframe tbody tr th {\n",
       "        vertical-align: top;\n",
       "    }\n",
       "\n",
       "    .dataframe thead th {\n",
       "        text-align: right;\n",
       "    }\n",
       "</style>\n",
       "<table border=\"1\" class=\"dataframe\">\n",
       "  <thead>\n",
       "    <tr style=\"text-align: right;\">\n",
       "      <th></th>\n",
       "      <th>course_name</th>\n",
       "      <th>duration</th>\n",
       "    </tr>\n",
       "  </thead>\n",
       "  <tbody>\n",
       "    <tr>\n",
       "      <th>1</th>\n",
       "      <td>Machine Learning</td>\n",
       "      <td>3</td>\n",
       "    </tr>\n",
       "  </tbody>\n",
       "</table>\n",
       "</div>"
      ],
      "text/plain": [
       "        course_name  duration\n",
       "1  Machine Learning         3"
      ]
     },
     "execution_count": 3,
     "metadata": {},
     "output_type": "execute_result"
    }
   ],
   "source": [
    "# Q1. Write a code to print the data present in the second row of the dataframe, df.\n",
    "# Answer :\n",
    "    \n",
    "df[1:2]"
   ]
  },
  {
   "cell_type": "code",
   "execution_count": null,
   "id": "9c548db2-779d-4846-806e-7566c305e97d",
   "metadata": {},
   "outputs": [],
   "source": [
    "Q2. What is the difference between the functions loc and iloc in pandas.DataFrame?\n",
    "Answer : loc and iloc both are used to access data in data frame but the difference between them is loc is used\n",
    "         for label - based indexing which means we can access the elements of the data frame with the help of the name\n",
    "         of the column and iloc is used for integer - based indexing which means we can access the elements of the \n",
    "         data frame with the help of their integer index."
   ]
  },
  {
   "cell_type": "code",
   "execution_count": 10,
   "id": "eff85a38-334a-42ec-bbaa-71b7929f161e",
   "metadata": {},
   "outputs": [],
   "source": [
    "# Q3. Reindex the given dataframe using a variable, reindex = [3,0,1,2] and store it in the variable, new_df \n",
    "# then find the output for both new_df.loc[2] and new_df.iloc[2].\n",
    "# Did you observe any difference in both the outputs? If so then explain it.\n",
    "# Answer :\n",
    "\n",
    "reindex = [3,0,1,2]"
   ]
  },
  {
   "cell_type": "code",
   "execution_count": 11,
   "id": "3dbe4a17-33ed-48e2-872b-022c7a52f3fa",
   "metadata": {},
   "outputs": [],
   "source": [
    "\n",
    "import pandas as pd\n",
    "\n",
    "import numpy as np\n",
    "\n",
    "columns = ['column_1', 'column_2', 'column_3', 'column_4', 'column_5', 'column_6']\n",
    "\n",
    "indices = [1,2,3,4,5,6]\n",
    "\n",
    "#Creating a dataframe:\n",
    "\n",
    "df1 = pd.DataFrame(np.random.rand(6,6), columns = columns, index = indices)\n"
   ]
  },
  {
   "cell_type": "code",
   "execution_count": 12,
   "id": "1da09883-3450-49f0-b035-b55e34bf327a",
   "metadata": {},
   "outputs": [
    {
     "data": {
      "text/html": [
       "<div>\n",
       "<style scoped>\n",
       "    .dataframe tbody tr th:only-of-type {\n",
       "        vertical-align: middle;\n",
       "    }\n",
       "\n",
       "    .dataframe tbody tr th {\n",
       "        vertical-align: top;\n",
       "    }\n",
       "\n",
       "    .dataframe thead th {\n",
       "        text-align: right;\n",
       "    }\n",
       "</style>\n",
       "<table border=\"1\" class=\"dataframe\">\n",
       "  <thead>\n",
       "    <tr style=\"text-align: right;\">\n",
       "      <th></th>\n",
       "      <th>column_1</th>\n",
       "      <th>column_2</th>\n",
       "      <th>column_3</th>\n",
       "      <th>column_4</th>\n",
       "      <th>column_5</th>\n",
       "      <th>column_6</th>\n",
       "    </tr>\n",
       "  </thead>\n",
       "  <tbody>\n",
       "    <tr>\n",
       "      <th>1</th>\n",
       "      <td>0.340372</td>\n",
       "      <td>0.343112</td>\n",
       "      <td>0.337153</td>\n",
       "      <td>0.698654</td>\n",
       "      <td>0.109228</td>\n",
       "      <td>0.262610</td>\n",
       "    </tr>\n",
       "    <tr>\n",
       "      <th>2</th>\n",
       "      <td>0.734995</td>\n",
       "      <td>0.033914</td>\n",
       "      <td>0.274816</td>\n",
       "      <td>0.698223</td>\n",
       "      <td>0.704392</td>\n",
       "      <td>0.675712</td>\n",
       "    </tr>\n",
       "    <tr>\n",
       "      <th>3</th>\n",
       "      <td>0.895928</td>\n",
       "      <td>0.190429</td>\n",
       "      <td>0.041330</td>\n",
       "      <td>0.442149</td>\n",
       "      <td>0.134323</td>\n",
       "      <td>0.081094</td>\n",
       "    </tr>\n",
       "    <tr>\n",
       "      <th>4</th>\n",
       "      <td>0.143407</td>\n",
       "      <td>0.424979</td>\n",
       "      <td>0.649368</td>\n",
       "      <td>0.021507</td>\n",
       "      <td>0.461390</td>\n",
       "      <td>0.794393</td>\n",
       "    </tr>\n",
       "    <tr>\n",
       "      <th>5</th>\n",
       "      <td>0.827874</td>\n",
       "      <td>0.592552</td>\n",
       "      <td>0.431623</td>\n",
       "      <td>0.764896</td>\n",
       "      <td>0.225600</td>\n",
       "      <td>0.821946</td>\n",
       "    </tr>\n",
       "    <tr>\n",
       "      <th>6</th>\n",
       "      <td>0.426700</td>\n",
       "      <td>0.263167</td>\n",
       "      <td>0.820413</td>\n",
       "      <td>0.266146</td>\n",
       "      <td>0.145541</td>\n",
       "      <td>0.706902</td>\n",
       "    </tr>\n",
       "  </tbody>\n",
       "</table>\n",
       "</div>"
      ],
      "text/plain": [
       "   column_1  column_2  column_3  column_4  column_5  column_6\n",
       "1  0.340372  0.343112  0.337153  0.698654  0.109228  0.262610\n",
       "2  0.734995  0.033914  0.274816  0.698223  0.704392  0.675712\n",
       "3  0.895928  0.190429  0.041330  0.442149  0.134323  0.081094\n",
       "4  0.143407  0.424979  0.649368  0.021507  0.461390  0.794393\n",
       "5  0.827874  0.592552  0.431623  0.764896  0.225600  0.821946\n",
       "6  0.426700  0.263167  0.820413  0.266146  0.145541  0.706902"
      ]
     },
     "execution_count": 12,
     "metadata": {},
     "output_type": "execute_result"
    }
   ],
   "source": [
    "df1"
   ]
  },
  {
   "cell_type": "code",
   "execution_count": 25,
   "id": "88d5e035-1ab3-4e3e-9eec-62fd93d9c595",
   "metadata": {},
   "outputs": [],
   "source": [
    "# Q4. Write a code to find the following statistical measurements for the above dataframe df1:\n",
    "\n",
    "# (i) mean of each and every column present in the dataframe.\n",
    "\n",
    "# (ii) standard deviation of column, ‘column_2’\n",
    "\n",
    "# Answer :\n",
    "df2 = df1.describe()"
   ]
  },
  {
   "cell_type": "code",
   "execution_count": 26,
   "id": "a7d37275-7f91-4492-b927-49d34505f6c3",
   "metadata": {},
   "outputs": [
    {
     "data": {
      "text/html": [
       "<div>\n",
       "<style scoped>\n",
       "    .dataframe tbody tr th:only-of-type {\n",
       "        vertical-align: middle;\n",
       "    }\n",
       "\n",
       "    .dataframe tbody tr th {\n",
       "        vertical-align: top;\n",
       "    }\n",
       "\n",
       "    .dataframe thead th {\n",
       "        text-align: right;\n",
       "    }\n",
       "</style>\n",
       "<table border=\"1\" class=\"dataframe\">\n",
       "  <thead>\n",
       "    <tr style=\"text-align: right;\">\n",
       "      <th></th>\n",
       "      <th>column_1</th>\n",
       "      <th>column_2</th>\n",
       "      <th>column_3</th>\n",
       "      <th>column_4</th>\n",
       "      <th>column_5</th>\n",
       "      <th>column_6</th>\n",
       "    </tr>\n",
       "  </thead>\n",
       "  <tbody>\n",
       "    <tr>\n",
       "      <th>mean</th>\n",
       "      <td>0.561546</td>\n",
       "      <td>0.308026</td>\n",
       "      <td>0.425784</td>\n",
       "      <td>0.481929</td>\n",
       "      <td>0.296746</td>\n",
       "      <td>0.55711</td>\n",
       "    </tr>\n",
       "  </tbody>\n",
       "</table>\n",
       "</div>"
      ],
      "text/plain": [
       "      column_1  column_2  column_3  column_4  column_5  column_6\n",
       "mean  0.561546  0.308026  0.425784  0.481929  0.296746   0.55711"
      ]
     },
     "execution_count": 26,
     "metadata": {},
     "output_type": "execute_result"
    }
   ],
   "source": [
    "df2[1:2]"
   ]
  },
  {
   "cell_type": "code",
   "execution_count": 27,
   "id": "6300b7cd-3ccc-479d-b1d7-dbc71ae15526",
   "metadata": {},
   "outputs": [
    {
     "data": {
      "text/html": [
       "<div>\n",
       "<style scoped>\n",
       "    .dataframe tbody tr th:only-of-type {\n",
       "        vertical-align: middle;\n",
       "    }\n",
       "\n",
       "    .dataframe tbody tr th {\n",
       "        vertical-align: top;\n",
       "    }\n",
       "\n",
       "    .dataframe thead th {\n",
       "        text-align: right;\n",
       "    }\n",
       "</style>\n",
       "<table border=\"1\" class=\"dataframe\">\n",
       "  <thead>\n",
       "    <tr style=\"text-align: right;\">\n",
       "      <th></th>\n",
       "      <th>column_1</th>\n",
       "      <th>column_2</th>\n",
       "    </tr>\n",
       "  </thead>\n",
       "  <tbody>\n",
       "    <tr>\n",
       "      <th>std</th>\n",
       "      <td>0.301585</td>\n",
       "      <td>0.193309</td>\n",
       "    </tr>\n",
       "  </tbody>\n",
       "</table>\n",
       "</div>"
      ],
      "text/plain": [
       "     column_1  column_2\n",
       "std  0.301585  0.193309"
      ]
     },
     "execution_count": 27,
     "metadata": {},
     "output_type": "execute_result"
    }
   ],
   "source": [
    "df2[['column_1','column_2']][2:3]"
   ]
  },
  {
   "cell_type": "code",
   "execution_count": 29,
   "id": "f607ec0b-d726-4a4c-9456-c4e03dab353e",
   "metadata": {},
   "outputs": [],
   "source": [
    "# Q5. Replace the data present in the second row of column, ‘column_2’ by a string variable then find the \n",
    "# mean of column, column_2.\n",
    "\n",
    "# If you are getting errors in executing it then explain why.\n",
    "\n",
    "# Answer :\n",
    "df1.loc[2:2,'column_2'] = 'pwskills'"
   ]
  },
  {
   "cell_type": "code",
   "execution_count": 33,
   "id": "67056c57-7ef9-4108-a5ad-b6b887a40814",
   "metadata": {},
   "outputs": [],
   "source": [
    "df1['column_2'].mean()\n",
    "\n",
    "yes we get an error because mean is operation perform on integers or floating point numbers but in \n",
    "column_2 a string is also present and it is impossible to calculat mean of numbers and string"
   ]
  },
  {
   "cell_type": "code",
   "execution_count": null,
   "id": "d1e8f305-dd91-4287-958d-bf05d650a924",
   "metadata": {},
   "outputs": [],
   "source": [
    "Q6. What do you understand about the windows function in pandas and list the types of windows \n",
    "functions?\n",
    "Answer : In pandas, the \"windows fuction\" refer to the powerfull feature that used to perform operation\n",
    "       in some window or subset of a data frame. These functions are operate on sliding or rolling window of \n",
    "       data that can be use to compute various aggregations, transformations or other calcution within the given \n",
    "       window .\n",
    "        \n",
    "       types of windows function :\n",
    "        1. Aggregating windows function - sum(), mean(), max(), min(), std().\n",
    "        2. Transforming windows function - shift(), diff(), rank().\n",
    "        3. Expanding windows function - cumsum(), cummax(), expanding()."
   ]
  },
  {
   "cell_type": "code",
   "execution_count": 8,
   "id": "f8833adb-947b-4672-bf2b-5af0a8cb6e65",
   "metadata": {},
   "outputs": [
    {
     "name": "stdout",
     "output_type": "stream",
     "text": [
      "   Month  Year\n",
      "0      7  2023\n"
     ]
    }
   ],
   "source": [
    "# Q7. Write a code to print only the current month and year at the time of answering this question.\n",
    "# Answer :\n",
    "    \n",
    "import pandas as pd\n",
    "import datetime\n",
    "current_date = datetime.datetime.now()\n",
    "current_month = current_date.month\n",
    "current_year = current_date.year\n",
    "dff = pd.DataFrame({'Month' : [current_month], 'Year' : [current_year]})\n",
    "print(dff)"
   ]
  },
  {
   "cell_type": "code",
   "execution_count": 11,
   "id": "aebe3969-9d32-498e-82f6-3401a63b107e",
   "metadata": {},
   "outputs": [],
   "source": [
    "# Q8. Write a Python program that takes in two dates as input (in the format YYYY-MM-DD) and calculates the \n",
    "# difference between them in days, hours, and minutes using Pandas time delta. The program should prompt the \n",
    "# user to enter the dates and display the result.\n",
    "# Answer :\n",
    "    \n",
    "def time_del():\n",
    "    a = input(\"Enter the first Date (YYYY-MM-DD) : \")\n",
    "    b = input(\"Enter the second Date (YYYY-MM-DD): \")\n",
    "    dt1 = pd.to_datetime(a)\n",
    "    dt2 = pd.to_datetime(b)\n",
    "    time_diff = dt2 - dt1\n",
    "    days = time_diff.days\n",
    "    hours = time_diff.seconds // 3600\n",
    "    minutes = (time_diff.seconds % 3600) // 60\n",
    "    print(f\"the time difference between the dates is : {days} days, {hours} hours, and {minutes} minutes\")"
   ]
  },
  {
   "cell_type": "code",
   "execution_count": 12,
   "id": "bb1fb440-4b67-40bf-b1aa-0618bf606bd9",
   "metadata": {},
   "outputs": [
    {
     "name": "stdin",
     "output_type": "stream",
     "text": [
      "Enter the first Date (YYYY-MM-DD) :  2023-07-01\n",
      "Enter the second Date (YYYY-MM-DD):  2023-07-04\n"
     ]
    },
    {
     "name": "stdout",
     "output_type": "stream",
     "text": [
      "the time difference between the dates is : 3 days, 0 hours, and 0 minutes\n"
     ]
    }
   ],
   "source": [
    "time_del()"
   ]
  },
  {
   "cell_type": "code",
   "execution_count": 6,
   "id": "08d3367d-caf3-41db-8618-611dd83a4002",
   "metadata": {},
   "outputs": [
    {
     "name": "stdin",
     "output_type": "stream",
     "text": [
      "Enter the file name:  productdetails.csv\n",
      "Enter the name of the column to convert:  Category\n",
      "Enter the category order (comma-separated):  Electronics,Clothing,Books\n"
     ]
    },
    {
     "ename": "KeyError",
     "evalue": "'Category'",
     "output_type": "error",
     "traceback": [
      "\u001b[0;31m---------------------------------------------------------------------------\u001b[0m",
      "\u001b[0;31mKeyError\u001b[0m                                  Traceback (most recent call last)",
      "File \u001b[0;32m/opt/conda/lib/python3.10/site-packages/pandas/core/indexes/base.py:3803\u001b[0m, in \u001b[0;36mIndex.get_loc\u001b[0;34m(self, key, method, tolerance)\u001b[0m\n\u001b[1;32m   3802\u001b[0m \u001b[38;5;28;01mtry\u001b[39;00m:\n\u001b[0;32m-> 3803\u001b[0m     \u001b[38;5;28;01mreturn\u001b[39;00m \u001b[38;5;28;43mself\u001b[39;49m\u001b[38;5;241;43m.\u001b[39;49m\u001b[43m_engine\u001b[49m\u001b[38;5;241;43m.\u001b[39;49m\u001b[43mget_loc\u001b[49m\u001b[43m(\u001b[49m\u001b[43mcasted_key\u001b[49m\u001b[43m)\u001b[49m\n\u001b[1;32m   3804\u001b[0m \u001b[38;5;28;01mexcept\u001b[39;00m \u001b[38;5;167;01mKeyError\u001b[39;00m \u001b[38;5;28;01mas\u001b[39;00m err:\n",
      "File \u001b[0;32m/opt/conda/lib/python3.10/site-packages/pandas/_libs/index.pyx:138\u001b[0m, in \u001b[0;36mpandas._libs.index.IndexEngine.get_loc\u001b[0;34m()\u001b[0m\n",
      "File \u001b[0;32m/opt/conda/lib/python3.10/site-packages/pandas/_libs/index.pyx:165\u001b[0m, in \u001b[0;36mpandas._libs.index.IndexEngine.get_loc\u001b[0;34m()\u001b[0m\n",
      "File \u001b[0;32mpandas/_libs/hashtable_class_helper.pxi:5745\u001b[0m, in \u001b[0;36mpandas._libs.hashtable.PyObjectHashTable.get_item\u001b[0;34m()\u001b[0m\n",
      "File \u001b[0;32mpandas/_libs/hashtable_class_helper.pxi:5753\u001b[0m, in \u001b[0;36mpandas._libs.hashtable.PyObjectHashTable.get_item\u001b[0;34m()\u001b[0m\n",
      "\u001b[0;31mKeyError\u001b[0m: 'Category'",
      "\nThe above exception was the direct cause of the following exception:\n",
      "\u001b[0;31mKeyError\u001b[0m                                  Traceback (most recent call last)",
      "Cell \u001b[0;32mIn[6], line 24\u001b[0m\n\u001b[1;32m     21\u001b[0m     \u001b[38;5;28mprint\u001b[39m(sorted_df)\n\u001b[1;32m     23\u001b[0m \u001b[38;5;28;01mif\u001b[39;00m \u001b[38;5;18m__name__\u001b[39m \u001b[38;5;241m==\u001b[39m \u001b[38;5;124m'\u001b[39m\u001b[38;5;124m__main__\u001b[39m\u001b[38;5;124m'\u001b[39m:\n\u001b[0;32m---> 24\u001b[0m     \u001b[43mmain\u001b[49m\u001b[43m(\u001b[49m\u001b[43m)\u001b[49m\n",
      "Cell \u001b[0;32mIn[6], line 18\u001b[0m, in \u001b[0;36mmain\u001b[0;34m()\u001b[0m\n\u001b[1;32m     15\u001b[0m order_cat \u001b[38;5;241m=\u001b[39m \u001b[38;5;28minput\u001b[39m(\u001b[38;5;124m\"\u001b[39m\u001b[38;5;124mEnter the category order (comma-separated): \u001b[39m\u001b[38;5;124m\"\u001b[39m)\u001b[38;5;241m.\u001b[39msplit(\u001b[38;5;124m\"\u001b[39m\u001b[38;5;124m,\u001b[39m\u001b[38;5;124m\"\u001b[39m)\n\u001b[1;32m     17\u001b[0m df \u001b[38;5;241m=\u001b[39m pd\u001b[38;5;241m.\u001b[39mread_csv(file_path)\n\u001b[0;32m---> 18\u001b[0m \u001b[43mconvert_categorical\u001b[49m\u001b[43m(\u001b[49m\u001b[43mdf\u001b[49m\u001b[43m,\u001b[49m\u001b[43m \u001b[49m\u001b[43mcolumn_name\u001b[49m\u001b[43m,\u001b[49m\u001b[43m \u001b[49m\u001b[43morder_cat\u001b[49m\u001b[43m)\u001b[49m\n\u001b[1;32m     20\u001b[0m sorted_df \u001b[38;5;241m=\u001b[39m df\u001b[38;5;241m.\u001b[39msort_values(column_name)\n\u001b[1;32m     21\u001b[0m \u001b[38;5;28mprint\u001b[39m(sorted_df)\n",
      "Cell \u001b[0;32mIn[6], line 10\u001b[0m, in \u001b[0;36mconvert_categorical\u001b[0;34m(df, column_name, order_cat)\u001b[0m\n\u001b[1;32m      8\u001b[0m \u001b[38;5;28;01mdef\u001b[39;00m \u001b[38;5;21mconvert_categorical\u001b[39m(df, column_name, order_cat):\n\u001b[1;32m      9\u001b[0m     categories \u001b[38;5;241m=\u001b[39m pd\u001b[38;5;241m.\u001b[39mCategoricalDtype(categories\u001b[38;5;241m=\u001b[39morder_cat, ordered\u001b[38;5;241m=\u001b[39m\u001b[38;5;28;01mTrue\u001b[39;00m)\n\u001b[0;32m---> 10\u001b[0m     df[column_name] \u001b[38;5;241m=\u001b[39m \u001b[43mdf\u001b[49m\u001b[43m[\u001b[49m\u001b[43mcolumn_name\u001b[49m\u001b[43m]\u001b[49m\u001b[38;5;241m.\u001b[39mastype(categories)\n",
      "File \u001b[0;32m/opt/conda/lib/python3.10/site-packages/pandas/core/frame.py:3805\u001b[0m, in \u001b[0;36mDataFrame.__getitem__\u001b[0;34m(self, key)\u001b[0m\n\u001b[1;32m   3803\u001b[0m \u001b[38;5;28;01mif\u001b[39;00m \u001b[38;5;28mself\u001b[39m\u001b[38;5;241m.\u001b[39mcolumns\u001b[38;5;241m.\u001b[39mnlevels \u001b[38;5;241m>\u001b[39m \u001b[38;5;241m1\u001b[39m:\n\u001b[1;32m   3804\u001b[0m     \u001b[38;5;28;01mreturn\u001b[39;00m \u001b[38;5;28mself\u001b[39m\u001b[38;5;241m.\u001b[39m_getitem_multilevel(key)\n\u001b[0;32m-> 3805\u001b[0m indexer \u001b[38;5;241m=\u001b[39m \u001b[38;5;28;43mself\u001b[39;49m\u001b[38;5;241;43m.\u001b[39;49m\u001b[43mcolumns\u001b[49m\u001b[38;5;241;43m.\u001b[39;49m\u001b[43mget_loc\u001b[49m\u001b[43m(\u001b[49m\u001b[43mkey\u001b[49m\u001b[43m)\u001b[49m\n\u001b[1;32m   3806\u001b[0m \u001b[38;5;28;01mif\u001b[39;00m is_integer(indexer):\n\u001b[1;32m   3807\u001b[0m     indexer \u001b[38;5;241m=\u001b[39m [indexer]\n",
      "File \u001b[0;32m/opt/conda/lib/python3.10/site-packages/pandas/core/indexes/base.py:3805\u001b[0m, in \u001b[0;36mIndex.get_loc\u001b[0;34m(self, key, method, tolerance)\u001b[0m\n\u001b[1;32m   3803\u001b[0m     \u001b[38;5;28;01mreturn\u001b[39;00m \u001b[38;5;28mself\u001b[39m\u001b[38;5;241m.\u001b[39m_engine\u001b[38;5;241m.\u001b[39mget_loc(casted_key)\n\u001b[1;32m   3804\u001b[0m \u001b[38;5;28;01mexcept\u001b[39;00m \u001b[38;5;167;01mKeyError\u001b[39;00m \u001b[38;5;28;01mas\u001b[39;00m err:\n\u001b[0;32m-> 3805\u001b[0m     \u001b[38;5;28;01mraise\u001b[39;00m \u001b[38;5;167;01mKeyError\u001b[39;00m(key) \u001b[38;5;28;01mfrom\u001b[39;00m \u001b[38;5;21;01merr\u001b[39;00m\n\u001b[1;32m   3806\u001b[0m \u001b[38;5;28;01mexcept\u001b[39;00m \u001b[38;5;167;01mTypeError\u001b[39;00m:\n\u001b[1;32m   3807\u001b[0m     \u001b[38;5;66;03m# If we have a listlike key, _check_indexing_error will raise\u001b[39;00m\n\u001b[1;32m   3808\u001b[0m     \u001b[38;5;66;03m#  InvalidIndexError. Otherwise we fall through and re-raise\u001b[39;00m\n\u001b[1;32m   3809\u001b[0m     \u001b[38;5;66;03m#  the TypeError.\u001b[39;00m\n\u001b[1;32m   3810\u001b[0m     \u001b[38;5;28mself\u001b[39m\u001b[38;5;241m.\u001b[39m_check_indexing_error(key)\n",
      "\u001b[0;31mKeyError\u001b[0m: 'Category'"
     ]
    }
   ],
   "source": [
    "# Q9. Write a Python program that reads a CSV file containing categorical data and converts a specified \n",
    "# column to a categorical data type. The program should prompt the user to enter the file path, column \n",
    "# name, and category order, and then display the sorted data.\n",
    "#Answer :\n",
    "\n",
    "import pandas as pd\n",
    "\n",
    "def convert_categorical(df, column_name, order_cat):\n",
    "    categories = pd.CategoricalDtype(categories=order_cat, ordered=True)\n",
    "    df[column_name] = df[column_name].astype(categories)\n",
    "\n",
    "def main():\n",
    "    file_path = input(\"Enter the file name: \")\n",
    "    column_name = input(\"Enter the name of the column to convert: \")\n",
    "    order_cat = input(\"Enter the category order (comma-separated): \").split(\",\")\n",
    "\n",
    "    df = pd.read_csv(file_path)\n",
    "    convert_categorical(df, column_name, order_cat)\n",
    "\n",
    "    sorted_df = df.sort_values(column_name)\n",
    "    print(sorted_df)\n",
    "\n",
    "if __name__ == '__main__':\n",
    "    main()"
   ]
  },
  {
   "cell_type": "code",
   "execution_count": null,
   "id": "9b18bf84-dfed-4386-930c-2135c709a409",
   "metadata": {},
   "outputs": [],
   "source": []
  },
  {
   "cell_type": "code",
   "execution_count": 4,
   "id": "61ea6ce5-c379-4599-b357-336b0fc3175a",
   "metadata": {},
   "outputs": [
    {
     "name": "stdin",
     "output_type": "stream",
     "text": [
      "Enter file name :  Product.csv\n"
     ]
    },
    {
     "data": {
      "image/png": "[encoded data removed]",
      "text/plain": [
       "<Figure size 640x480 with 1 Axes>"
      ]
     },
     "metadata": {},
     "output_type": "display_data"
    }
   ],
   "source": [
    "# Q10. Write a Python program that reads a CSV file containing sales data for different products and \n",
    "# visualizes the data using a stacked bar chart to show the sales of each product category over time. The \n",
    "# program should prompt the user to enter the file path and display the chart.\n",
    "#Answer :\n",
    "\n",
    "import pandas as pd\n",
    "def show_sales_data(df):\n",
    "    df.set_index('Date', inplace = True)\n",
    "    df.plot(kind = 'bar', stacked = True)\n",
    "    \n",
    "def main():\n",
    "    file_path = input(\"Enter file name : \")\n",
    "    df = pd.read_csv(file_path)\n",
    "    show_sales_data(df)\n",
    "    \n",
    "if __name__ == '__main__' :\n",
    "    main()"
   ]
  },
  {
   "cell_type": "code",
   "execution_count": null,
   "id": "ff0affe3-a73d-4580-8c0b-074d918cbaae",
   "metadata": {},
   "outputs": [],
   "source": [
    "Q11. You are given a CSV file containing student data that includes the student ID and their test score. Write \n",
    "a Python program that reads the CSV file, calculates the mean, median, and mode of the test scores, and \n",
    "displays the results in a table."
   ]
  },
  {
   "cell_type": "code",
   "execution_count": 2,
   "id": "40f180ef-5665-49c1-a6f9-24eb2d079998",
   "metadata": {},
   "outputs": [],
   "source": [
    "def show_result(b):\n",
    "    df = pd.read_csv(b)\n",
    "    print(\"| Statistic | Value |\")\n",
    "    print(\"| Mean      | \",df['Test Score'].mean())\n",
    "    print(\"| Median    | \",df['Test Score'].median())\n",
    "    print(\"| Mode      | \",df['Test Score'].mode())"
   ]
  },
  {
   "cell_type": "code",
   "execution_count": 3,
   "id": "ac9764c1-e61e-47fa-bf28-3047685cd38e",
   "metadata": {},
   "outputs": [
    {
     "name": "stdout",
     "output_type": "stream",
     "text": [
      "| Statistic | Value |\n",
      "| Mean      |  83.5\n",
      "| Median    |  85.0\n",
      "| Mode      |  0    85\n",
      "Name: Test Score, dtype: int64\n"
     ]
    }
   ],
   "source": [
    "show_result(\"Student_data.csv\")"
   ]
  },
  {
   "cell_type": "code",
   "execution_count": 1,
   "id": "dd118b29-1ed1-42b7-96ca-355062c21889",
   "metadata": {},
   "outputs": [],
   "source": [
    "import pandas as pd"
   ]
  },
  {
   "cell_type": "code",
   "execution_count": null,
   "id": "f816ff29-a54f-4142-95db-89aa8a81dc92",
   "metadata": {},
   "outputs": [],
   "source": []
  }
 ],
 "metadata": {
  "kernelspec": {
   "display_name": "Python 3 (ipykernel)",
   "language": "python",
   "name": "python3"
  },
  "language_info": {
   "codemirror_mode": {
    "name": "ipython",
    "version": 3
   },
   "file_extension": ".py",
   "mimetype": "text/x-python",
   "name": "python",
   "nbconvert_exporter": "python",
   "pygments_lexer": "ipython3",
   "version": "3.10.8"
  }
 },
 "nbformat": 4,
 "nbformat_minor": 5
}
