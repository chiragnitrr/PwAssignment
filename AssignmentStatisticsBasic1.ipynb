{
 "cells": [
  {
   "cell_type": "code",
   "execution_count": null,
   "id": "8fbc6034-374c-4c55-8910-3e50b116d904",
   "metadata": {},
   "outputs": [],
   "source": [
    "Q1. What is Statistics?\n",
    "Answer : Statistics is the science of collecting, organizing and analyzing data."
   ]
  },
  {
   "cell_type": "code",
   "execution_count": null,
   "id": "dd3a1f60-25f3-485c-ba72-26f8ee2a41dc",
   "metadata": {},
   "outputs": [],
   "source": [
    "Q2. Define the different types of statistics and give an example of when each type might be used.\n",
    "Answer : Types of statistics :\n",
    "    1. Descriptive statistics : It consisting of organizing and summerizing the data.\n",
    "    ex : finding  mean, median, variance.\n",
    "    \n",
    "    2. Inferencial statistics : It consists of using data you have measured to form a conclusion.\n",
    "    ex : high income of which age group."
   ]
  },
  {
   "cell_type": "code",
   "execution_count": null,
   "id": "73bd7b47-0dd7-41ed-9855-9f1ad9f1ca9f",
   "metadata": {},
   "outputs": [],
   "source": [
    "Q3. What are the different types of data and how do they differ from each other? Provide an example of\n",
    "   each type of data.\n",
    "Answer : Different types of data are : Qualitative data and Qauntitative data.\n",
    "         Quantitative data is represented in numbers and Qualitative data is represented in catogories and ranks.\n",
    "         Exampl : Number of children, age are quantitative data.\n",
    "                  blood group, product review is qualitative data."
   ]
  },
  {
   "cell_type": "code",
   "execution_count": null,
   "id": "bd251175-6c5b-478f-9170-e1914c285fc5",
   "metadata": {},
   "outputs": [],
   "source": [
    "Q4. Categorise the following datasets with respect to quantitative and qualitative data types:\n",
    "    \n",
    "(i) Grading in exam: A+, A, B+, B, C+, C, D, E\n",
    "Answer : Qualitative data\n",
    "\n",
    "(ii) Colour of mangoes: yellow, green, orange, red\n",
    "Answer : Qualitative data\n",
    "\n",
    "(iii) Height data of a class: [178.9, 179, 179.5, 176, 177.2, 178.3, 175.8,...]\n",
    "Answer : Quantitative data.\n",
    "    \n",
    "(iv) Number of mangoes exported by a farm: [500, 600, 478, 672, ...]\n",
    "Answer : Quantitative data."
   ]
  },
  {
   "cell_type": "code",
   "execution_count": null,
   "id": "47ca252f-7774-4355-9710-b028e2865a33",
   "metadata": {},
   "outputs": [],
   "source": [
    "Q5. Explain the concept of levels of measurement and give an example of a variable for each level.\n",
    "Answer : The concept of level of measurement, also known as levels of data or scale of measurement.\n",
    "         1. Nominal level. Ex : male, female, blood group\n",
    "         2. Ordinal level. Ex : Product review\n",
    "         3. Interval level. Ex : calander year\n",
    "         4. Ratio level. Ex : time (seconds, minute, hours)"
   ]
  },
  {
   "cell_type": "code",
   "execution_count": null,
   "id": "fd3b1b8d-ac4c-4406-a801-a21be0b613f0",
   "metadata": {},
   "outputs": [],
   "source": [
    "Q6. Why is it important to understand the level of measurement when analyzing data? Provide an\n",
    "    example to illustrate your answer.\n",
    "Answer : Understanding the level of measurement is crucial when analyzing data because it determines\n",
    "         the appropriate statistical methods and operations that can be applied to the data.\n",
    "         Example : Employee in a compony\n",
    "                   Participants rate their satisfaction levels (Ordinal level)\n",
    "                   Measured by the number of sales made by each employee in a month (ratio level)"
   ]
  },
  {
   "cell_type": "code",
   "execution_count": null,
   "id": "231ef0ea-6ca4-4479-9c74-0b89f811f58b",
   "metadata": {},
   "outputs": [],
   "source": [
    "Q7. How nominal data type is different from ordinal data type.\n",
    "Answer : Both of the nominal and ordinal data are qualitative and categorical data but the difference \n",
    "         between them is in nominal data there is no rank for data but in the ordinal data there is a \n",
    "         rank for data."
   ]
  },
  {
   "cell_type": "code",
   "execution_count": null,
   "id": "8a056fd5-52c4-4423-b0bf-1d1d341e61a5",
   "metadata": {},
   "outputs": [],
   "source": [
    "Q8. Which type of plot can be used to display data in terms of range?\n",
    "Answer : box and whisker plot"
   ]
  },
  {
   "cell_type": "code",
   "execution_count": null,
   "id": "71999ae9-27c3-43d4-969c-2f1e456c052b",
   "metadata": {},
   "outputs": [],
   "source": [
    "Q9. Describe the difference between descriptive and inferential statistics. Give an example of each\n",
    "    type of statistics and explain how they are used.\n",
    "Answer : Descriptive statistics focus on organizing and summerizing the data and inferential statistics\n",
    "         focus on using data you have measured to form a conclusion.\n",
    "    \n",
    "        Exmple : finding average salary of employee (descriptive statistics).\n",
    "                 Age group of people of most earning money (inferential statistics).\n",
    "            \n",
    "        Uses : descriptive statistics used to mathematical analysis on data and\n",
    "              inferential statistics used to form a conclution about data."
   ]
  },
  {
   "cell_type": "code",
   "execution_count": null,
   "id": "208b9611-a343-4003-8a6c-5fe77e0b313b",
   "metadata": {},
   "outputs": [],
   "source": [
    "Q10. What are some common measures of central tendency and variability used in statistics? Explain\n",
    "     how each measure can be used to describe a dataset.\n",
    "Answer : In statistics, measures of central tendency and variability are used to summarize and descibe \n",
    "         datasets. The common measures of central tendecy include the mean, median, and mode, while \n",
    "         measures of variability include the range, variance, and standard deviation.\n",
    "        \n",
    "        1 Mean : It represent the average value of the dataset.\n",
    "        2 Median : In a sorted data set it is the middle value.\n",
    "        3 Mode : It is most accuring element in the dataset.\n",
    "        4 Range : The range is the difference between the largest and smallest value in a dataset.\n",
    "        5 Variance : It measures the average deviation of each value from mean.\n",
    "        6 Standard Deviation : It is similar as variance , it providing a more interpretable measure of variability."
   ]
  }
 ],
 "metadata": {
  "kernelspec": {
   "display_name": "Python 3 (ipykernel)",
   "language": "python",
   "name": "python3"
  },
  "language_info": {
   "codemirror_mode": {
    "name": "ipython",
    "version": 3
   },
   "file_extension": ".py",
   "mimetype": "text/x-python",
   "name": "python",
   "nbconvert_exporter": "python",
   "pygments_lexer": "ipython3",
   "version": "3.10.8"
  }
 },
 "nbformat": 4,
 "nbformat_minor": 5
}
