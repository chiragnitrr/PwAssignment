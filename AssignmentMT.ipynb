{
 "cells": [
  {
   "cell_type": "code",
   "execution_count": null,
   "id": "0f0b21ca-6d51-40ac-a47f-f749c0d458de",
   "metadata": {},
   "outputs": [],
   "source": [
    "Q1. What is multithreading in python? why is it used? Name the module used to handle threads in python.\n",
    "Answer : Multithreading is the process of creating multiple threads in same proccessor to perform multiple \n",
    "         task paralelly in the threads . multithreading is used in python used to perform a task that can\n",
    "         benifit to from parallel processing, and handling multiple user reques simultaneously. \n",
    "         \"threading\" module is to handle threads in python."
   ]
  },
  {
   "cell_type": "code",
   "execution_count": null,
   "id": "d1aca0aa-0b74-463a-9f23-4f75484914b6",
   "metadata": {},
   "outputs": [],
   "source": [
    "Q2. Why threading module used? write the use of the following functions.\n",
    "1. activeCount()\n",
    "2. currentThread()\n",
    "3. enumerate()\n",
    "\n",
    "Answer: threading module is used in python to handle threads in python which perform multiple task in \n",
    "        the same proccesser simultaneously and also handle various user request. \n",
    "    1. activeCount() : the 'activeCount' function is the method of threading module in python. which\n",
    "                       retrive the numbers of currently active thread objects in the program. it returns\n",
    "                       integer value which represent number of active thread in program.\n",
    "            \n",
    "    2. currentThread() : the 'currentThread' function is the method of threading module in python.\n",
    "                         it is used to retrive the current thread object that is executing the \n",
    "                         function call.\n",
    "        \n",
    "    3. enumerate() : the 'enumerate' function is the method of threading module in python. it is \n",
    "                     used to retrive the list of all currently active thread objects in the \n",
    "                     program."
   ]
  },
  {
   "cell_type": "code",
   "execution_count": null,
   "id": "868426b2-a3e7-45dd-9034-1d60c297b61c",
   "metadata": {},
   "outputs": [],
   "source": [
    "Q3. Explain the following functions:\n",
    "1. run()\n",
    "2. start()\n",
    "3. join()\n",
    "4. isAlive()\n",
    "\n",
    "Answer : 1. run() : The 'run()' method is standard method in the 'threading.Thread' class in python.\n",
    "                    it represent the entry point of thread's activity or the task that the thread is \n",
    "                    designed to perform.\n",
    "        \n",
    "         2. start() : The 'start()' method is standard method in the 'threading.Thread' class in python.\n",
    "                     it is used to start the execution of a thread by creating a new thread of execution \n",
    "                     and invoking the run() function in that thread.\n",
    "                    \n",
    "         3. join() : The 'join()' method is method in the'threadin.Thread' class in python . it is used\n",
    "                     to wait for a thead to complete its execution and block the calling thread untill \n",
    "                     the target thread is finishes.\n",
    "                \n",
    "        4. isAlive() : The 'isAlive()' method is method in the 'threading.Thread' class in python . it \n",
    "                       is used to check wether a thread is currently active and performing it's task."
   ]
  },
  {
   "cell_type": "code",
   "execution_count": 16,
   "id": "38323ba7-6729-4745-976a-7f1546c48c11",
   "metadata": {},
   "outputs": [
    {
     "name": "stdout",
     "output_type": "stream",
     "text": [
      "1\n",
      "4\n",
      "9\n",
      "16\n",
      "25\n",
      "36\n",
      "49\n",
      "1\n",
      "8\n",
      "27\n",
      "64\n",
      "125\n",
      "216\n",
      "343\n"
     ]
    }
   ],
   "source": [
    "# Q4. Write a python program to create two threads. Thread one must print the list of squares and thread \n",
    "#    two must print the list of cubes.\n",
    "    \n",
    "# Answer :\n",
    "    \n",
    "import threading\n",
    "my_list = [1,2,3,4,5,6,7]\n",
    "def sq():\n",
    "    square = [x**2 for x in my_list]\n",
    "    for s in square:\n",
    "        print(s)\n",
    "\n",
    "def cb():\n",
    "    cube = [x**3 for x in my_list]\n",
    "    for c in cube :\n",
    "        print(c)\n",
    "\n",
    "obj1 = threading.Thread(target = sq)\n",
    "obj2 = threading.Thread(target = cb) \n",
    "\n",
    "obj1.start()\n",
    "obj2.start()\n",
    "\n",
    "obj1.join()\n",
    "obj2.join()"
   ]
  },
  {
   "cell_type": "code",
   "execution_count": null,
   "id": "09470079-ba66-4df3-af4e-84495423c28b",
   "metadata": {},
   "outputs": [],
   "source": [
    "Q5. State advantages and disadvantages of multithreading.\n",
    "\n",
    "Answer : Advantages of Multithreading:\n",
    "         1.Improved Performance\n",
    "         2.Responsiveness and User Experience\n",
    "         3.Resource Sharing\n",
    "         4.Simplified Program Structure\n",
    "            \n",
    "        Disadvantages of Multithreading:\n",
    "        1.Complexity and Synchronization\n",
    "        2.Difficulty in Debugging and Testing\n",
    "        3.Increased Memory Consumption\n",
    "        4.Thread-Safety Concerns"
   ]
  },
  {
   "cell_type": "code",
   "execution_count": null,
   "id": "f5ca3d58-169c-4ad3-b59c-70b3ec3ce737",
   "metadata": {},
   "outputs": [],
   "source": [
    "Q6. Explain deadlocks and race conditions.\n",
    "Answer : Deadlocks: A deadlock is a situation where two or more threads are blocked forever, \n",
    "         each waiting for the other to release a resource that they hold. Deadlocks typically \n",
    "         occur due to improper synchronization and resource allocation. There are four necessary \n",
    "         conditions for a deadlock to occur.\n",
    "            \n",
    "        Race Conditions:A race condition occurs when the behavior of a program depends on the \n",
    "        interleaving of operations between multiple threads, and the outcome of the program \n",
    "        becomes unpredictable or incorrect. It happens when multiple threads access shared \n",
    "        resources simultaneously, and the final result depends on the order and timing of the \n",
    "        operations."
   ]
  }
 ],
 "metadata": {
  "kernelspec": {
   "display_name": "Python 3 (ipykernel)",
   "language": "python",
   "name": "python3"
  },
  "language_info": {
   "codemirror_mode": {
    "name": "ipython",
    "version": 3
   },
   "file_extension": ".py",
   "mimetype": "text/x-python",
   "name": "python",
   "nbconvert_exporter": "python",
   "pygments_lexer": "ipython3",
   "version": "3.10.8"
  }
 },
 "nbformat": 4,
 "nbformat_minor": 5
}
