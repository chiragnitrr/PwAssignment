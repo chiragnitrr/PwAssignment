{
 "cells": [
  {
   "cell_type": "code",
   "execution_count": null,
   "id": "769cf6c5-32fe-4db1-b238-67de60faaed5",
   "metadata": {},
   "outputs": [],
   "source": [
    "Q1. What is the relationship between polynomial functions and kernel functions in machine learning \n",
    "algorithms?"
   ]
  },
  {
   "cell_type": "code",
   "execution_count": null,
   "id": "0ed889b1-ffb3-4315-a38d-8ecb32cf9f12",
   "metadata": {},
   "outputs": [],
   "source": [
    "Answer : Polynomial functions and kernel functions are both mathematical tools used in machine learning, particularly in the\n",
    "context of support vector machines (SVMs) and kernelized methods.\n",
    "\n",
    "Polynomial Functions: Polynomial functions are mathematical functions of the form  f(X) = AnX^n + An-1X^n-1 + ...+ A0, here An,\n",
    "An-1,.., A0 are coefficients, and n is a non-negative integer. In the context of SVMs, polynomial kernels are used to transform\n",
    "input features into higher- dimensional spaces. The idea is to map the input features into a higher-dimensional space, making \n",
    "it easier to find a hyperplane that separates different classes.\n",
    "\n",
    "Kernel Functions: Kernel functions are functions that compute the dot product between two transformed feature vectors in a higher\n",
    "-dimensional space, without explicitly computing the transformation.The kernel trick is a method used in machine learning where\n",
    "the dot product in the higher-dimensional space is replaced by a kernel function. This allows algorithms like SVMs to implicitly \n",
    "operate in a higher-dimensional space without the need to explicitly compute the transformed features.\n",
    "\n",
    "Relationship:\n",
    "Polynomial kernels in SVMs are a specific type of kernel function. The polynomial kernel can be expressed as K(x,y)=(x⋅y+c)**d\n",
    "where : d is the degree of the polynomial, and c is a constant.\n",
    "\n",
    "- So, polynomial kernels are a type of kernel function used in SVMs to achieve a similar effect as explicitly transforming \n",
    "  features using polynomial functions.\n",
    "- In summary, the relationship is that polynomial kernels are a specific instance of kernel functions, and they leverage the concept\n",
    "  of polynomial transformations to work in higher-dimensional spaces."
   ]
  },
  {
   "cell_type": "code",
   "execution_count": null,
   "id": "d6448a0b-e9ff-442b-972a-d3a48570fbc3",
   "metadata": {},
   "outputs": [],
   "source": [
    "Q2. How can we implement an SVM with a polynomial kernel in Python using Scikit-learn?"
   ]
  },
  {
   "cell_type": "code",
   "execution_count": 3,
   "id": "56993fcb-fe4f-4493-923b-f8bcf1502c00",
   "metadata": {},
   "outputs": [],
   "source": [
    "# Answer : \n",
    "# To implement a Support Vector Machine (SVM) with a polynomial kernel in Python using Scikit-learn, you can use the\n",
    "# SVC (Support Vector Classification) class. Here's an example code snippet :\n",
    "\n",
    "import numpy as np\n",
    "import pandas as pd\n",
    "from sklearn.datasets import load_iris\n",
    "\n",
    "dataset = load_iris()\n",
    "\n",
    "X = pd.DataFrame(dataset.data, columns = dataset.feature_names)"
   ]
  },
  {
   "cell_type": "code",
   "execution_count": 6,
   "id": "669fc7b0-ec5f-4c5e-8c9f-1717d0b31deb",
   "metadata": {},
   "outputs": [],
   "source": [
    "Y = dataset.target"
   ]
  },
  {
   "cell_type": "code",
   "execution_count": 8,
   "id": "f6857c9f-7d3e-4c16-a0b7-da7414fb5ce6",
   "metadata": {},
   "outputs": [],
   "source": [
    "from sklearn.model_selection import train_test_split\n",
    "x_train, x_test, y_train, y_test = train_test_split(X,Y, test_size=0.25, random_state = 42)"
   ]
  },
  {
   "cell_type": "code",
   "execution_count": 13,
   "id": "4c9ad53f-8dc1-445e-a933-d95f20b90ae0",
   "metadata": {},
   "outputs": [],
   "source": [
    "from sklearn.svm import SVC"
   ]
  },
  {
   "cell_type": "code",
   "execution_count": 15,
   "id": "fa1c18ee-4671-453c-bf6e-78c9a15bea2b",
   "metadata": {},
   "outputs": [],
   "source": [
    "classifier = SVC(kernel = 'poly')"
   ]
  },
  {
   "cell_type": "code",
   "execution_count": 16,
   "id": "61051bf7-7b88-4961-8bdf-498b85f993e9",
   "metadata": {},
   "outputs": [
    {
     "data": {
      "text/html": [
       "<style>#sk-container-id-1 {color: black;background-color: white;}#sk-container-id-1 pre{padding: 0;}#sk-container-id-1 div.sk-toggleable {background-color: white;}#sk-container-id-1 label.sk-toggleable__label {cursor: pointer;display: block;width: 100%;margin-bottom: 0;padding: 0.3em;box-sizing: border-box;text-align: center;}#sk-container-id-1 label.sk-toggleable__label-arrow:before {content: \"▸\";float: left;margin-right: 0.25em;color: #696969;}#sk-container-id-1 label.sk-toggleable__label-arrow:hover:before {color: black;}#sk-container-id-1 div.sk-estimator:hover label.sk-toggleable__label-arrow:before {color: black;}#sk-container-id-1 div.sk-toggleable__content {max-height: 0;max-width: 0;overflow: hidden;text-align: left;background-color: #f0f8ff;}#sk-container-id-1 div.sk-toggleable__content pre {margin: 0.2em;color: black;border-radius: 0.25em;background-color: #f0f8ff;}#sk-container-id-1 input.sk-toggleable__control:checked~div.sk-toggleable__content {max-height: 200px;max-width: 100%;overflow: auto;}#sk-container-id-1 input.sk-toggleable__control:checked~label.sk-toggleable__label-arrow:before {content: \"▾\";}#sk-container-id-1 div.sk-estimator input.sk-toggleable__control:checked~label.sk-toggleable__label {background-color: #d4ebff;}#sk-container-id-1 div.sk-label input.sk-toggleable__control:checked~label.sk-toggleable__label {background-color: #d4ebff;}#sk-container-id-1 input.sk-hidden--visually {border: 0;clip: rect(1px 1px 1px 1px);clip: rect(1px, 1px, 1px, 1px);height: 1px;margin: -1px;overflow: hidden;padding: 0;position: absolute;width: 1px;}#sk-container-id-1 div.sk-estimator {font-family: monospace;background-color: #f0f8ff;border: 1px dotted black;border-radius: 0.25em;box-sizing: border-box;margin-bottom: 0.5em;}#sk-container-id-1 div.sk-estimator:hover {background-color: #d4ebff;}#sk-container-id-1 div.sk-parallel-item::after {content: \"\";width: 100%;border-bottom: 1px solid gray;flex-grow: 1;}#sk-container-id-1 div.sk-label:hover label.sk-toggleable__label {background-color: #d4ebff;}#sk-container-id-1 div.sk-serial::before {content: \"\";position: absolute;border-left: 1px solid gray;box-sizing: border-box;top: 0;bottom: 0;left: 50%;z-index: 0;}#sk-container-id-1 div.sk-serial {display: flex;flex-direction: column;align-items: center;background-color: white;padding-right: 0.2em;padding-left: 0.2em;position: relative;}#sk-container-id-1 div.sk-item {position: relative;z-index: 1;}#sk-container-id-1 div.sk-parallel {display: flex;align-items: stretch;justify-content: center;background-color: white;position: relative;}#sk-container-id-1 div.sk-item::before, #sk-container-id-1 div.sk-parallel-item::before {content: \"\";position: absolute;border-left: 1px solid gray;box-sizing: border-box;top: 0;bottom: 0;left: 50%;z-index: -1;}#sk-container-id-1 div.sk-parallel-item {display: flex;flex-direction: column;z-index: 1;position: relative;background-color: white;}#sk-container-id-1 div.sk-parallel-item:first-child::after {align-self: flex-end;width: 50%;}#sk-container-id-1 div.sk-parallel-item:last-child::after {align-self: flex-start;width: 50%;}#sk-container-id-1 div.sk-parallel-item:only-child::after {width: 0;}#sk-container-id-1 div.sk-dashed-wrapped {border: 1px dashed gray;margin: 0 0.4em 0.5em 0.4em;box-sizing: border-box;padding-bottom: 0.4em;background-color: white;}#sk-container-id-1 div.sk-label label {font-family: monospace;font-weight: bold;display: inline-block;line-height: 1.2em;}#sk-container-id-1 div.sk-label-container {text-align: center;}#sk-container-id-1 div.sk-container {/* jupyter's `normalize.less` sets `[hidden] { display: none; }` but bootstrap.min.css set `[hidden] { display: none !important; }` so we also need the `!important` here to be able to override the default hidden behavior on the sphinx rendered scikit-learn.org. See: https://github.com/scikit-learn/scikit-learn/issues/21755 */display: inline-block !important;position: relative;}#sk-container-id-1 div.sk-text-repr-fallback {display: none;}</style><div id=\"sk-container-id-1\" class=\"sk-top-container\"><div class=\"sk-text-repr-fallback\"><pre>SVC(kernel=&#x27;poly&#x27;)</pre><b>In a Jupyter environment, please rerun this cell to show the HTML representation or trust the notebook. <br />On GitHub, the HTML representation is unable to render, please try loading this page with nbviewer.org.</b></div><div class=\"sk-container\" hidden><div class=\"sk-item\"><div class=\"sk-estimator sk-toggleable\"><input class=\"sk-toggleable__control sk-hidden--visually\" id=\"sk-estimator-id-1\" type=\"checkbox\" checked><label for=\"sk-estimator-id-1\" class=\"sk-toggleable__label sk-toggleable__label-arrow\">SVC</label><div class=\"sk-toggleable__content\"><pre>SVC(kernel=&#x27;poly&#x27;)</pre></div></div></div></div></div>"
      ],
      "text/plain": [
       "SVC(kernel='poly')"
      ]
     },
     "execution_count": 16,
     "metadata": {},
     "output_type": "execute_result"
    }
   ],
   "source": [
    "classifier.fit(x_train, y_train)"
   ]
  },
  {
   "cell_type": "code",
   "execution_count": 17,
   "id": "f76a7f29-15a9-4cf0-bb01-87d871cf5e89",
   "metadata": {},
   "outputs": [],
   "source": [
    "y_pred = classifier.predict(x_test)"
   ]
  },
  {
   "cell_type": "code",
   "execution_count": 19,
   "id": "f38f0dd4-5c4b-49e0-b95a-6dfc4905997e",
   "metadata": {},
   "outputs": [],
   "source": [
    "from sklearn.metrics import accuracy_score, classification_report , confusion_matrix"
   ]
  },
  {
   "cell_type": "code",
   "execution_count": 20,
   "id": "30f39e03-f7b4-4c3a-9e06-bd69a4c198e6",
   "metadata": {},
   "outputs": [
    {
     "name": "stdout",
     "output_type": "stream",
     "text": [
      "0.9736842105263158\n"
     ]
    }
   ],
   "source": [
    "print(accuracy_score(y_test,y_pred))"
   ]
  },
  {
   "cell_type": "code",
   "execution_count": 21,
   "id": "d3127901-06fb-46d3-bdad-8c7590fd59b4",
   "metadata": {},
   "outputs": [
    {
     "name": "stdout",
     "output_type": "stream",
     "text": [
      "              precision    recall  f1-score   support\n",
      "\n",
      "           0       1.00      1.00      1.00        15\n",
      "           1       1.00      0.91      0.95        11\n",
      "           2       0.92      1.00      0.96        12\n",
      "\n",
      "    accuracy                           0.97        38\n",
      "   macro avg       0.97      0.97      0.97        38\n",
      "weighted avg       0.98      0.97      0.97        38\n",
      "\n"
     ]
    }
   ],
   "source": [
    "print(classification_report(y_test, y_pred))"
   ]
  },
  {
   "cell_type": "code",
   "execution_count": 22,
   "id": "09f49f26-1e3d-4d63-aee2-05f2e3b6a637",
   "metadata": {},
   "outputs": [
    {
     "name": "stdout",
     "output_type": "stream",
     "text": [
      "[[15  0  0]\n",
      " [ 0 10  1]\n",
      " [ 0  0 12]]\n"
     ]
    }
   ],
   "source": [
    "print(confusion_matrix(y_test, y_pred))"
   ]
  },
  {
   "cell_type": "code",
   "execution_count": null,
   "id": "b69169f6-cf98-43b7-b035-8ba03c627c70",
   "metadata": {},
   "outputs": [],
   "source": [
    "In this example, we use the Iris dataset, split it into training and testing sets, standardize the features, and then train\n",
    "an SVM classifier with a polynomial kernel using the SVC class. The kernel parameter is set to 'poly', and the degree of the\n",
    "polynomial is set using the degree parameter."
   ]
  },
  {
   "cell_type": "code",
   "execution_count": null,
   "id": "bec60850-5ecd-4fe3-91ac-df20a1f76f89",
   "metadata": {},
   "outputs": [],
   "source": [
    "Q3. How does increasing the value of epsilon affect the number of support vectors in SVR?"
   ]
  },
  {
   "cell_type": "code",
   "execution_count": null,
   "id": "d0c3689a-f262-410f-a172-c7d67b7371e8",
   "metadata": {},
   "outputs": [],
   "source": [
    "Answer : In Support Vector Regression (SVR), the epsilon-insensitive loss function is used to determine the error tolerance \n",
    "around the predicted values. The parameter associated with this error tolerance is commonly denoted as epsilon and is a crucial\n",
    "parameter in SVR.\n",
    "\n",
    "The epsilon parameter controls the width of the margin around the predicted values within which no penalty is incurred. Instances\n",
    "that fall outside this margin are considered errors and contribute to the loss function. In SVR, these instances are referred to \n",
    "as support vectors.\n",
    "\n",
    "Here's how the relationship between epsilon and the number of support vectors typically works:\n",
    "Smaller Epsilon: A smaller value of epsilon tightens the acceptable error margin. This means that only instances very close to the\n",
    "predicted values are considered acceptable, leading to a smaller margin. As a result, more instances may fall outside this narrower\n",
    "margin, and the model may need to include more support vectors to accommodate them.\n",
    "\n",
    "Larger Epsilon: Conversely, a larger value of epsilon allows for a wider margin and a more lenient acceptance of errors. With a\n",
    "larger margin, fewer instances may be treated as errors, and fewer support vectors may be needed."
   ]
  },
  {
   "cell_type": "code",
   "execution_count": null,
   "id": "c0b5b72d-6f0c-47d9-8e63-78a71042f138",
   "metadata": {},
   "outputs": [],
   "source": [
    "Q4. How does the choice of kernel function, C parameter, epsilon parameter, and gamma parameter \n",
    "affect the performance of Support Vector Regression (SVR)? Can you explain how each parameter works \n",
    "and provide examples of when you might want to increase or decrease its value?"
   ]
  },
  {
   "cell_type": "code",
   "execution_count": null,
   "id": "a4aa684d-5c02-4c63-b741-cc9b5c6de293",
   "metadata": {},
   "outputs": [],
   "source": [
    "Answer :\n",
    "Support Vector Regression (SVR) is a type of regression algorithm that uses support vector machines to model the relationship \n",
    "between input features and the target variable. The choice of kernel function, C parameter, epsilon parameter, and gamma parameter \n",
    "can significantly impact the performance of SVR. Let's discuss each parameter and its effects:\n",
    "\n",
    "Kernel Function:\n",
    "The kernel function determines the type of decision boundary used by the SVR. Common kernel functions include linear, polynomial,\n",
    "radial basis function (RBF), and sigmoid.\n",
    "  The choice of the kernel depends on the nature of the data. For example:\n",
    "  - Use a linear kernel when the relationship between inputs and outputs is expected to be linear.\n",
    "  - RBF kernel is suitable for capturing non-linear relationships.\n",
    "  - Polynomial kernel is useful when the relationship has a polynomial form.\n",
    "\n",
    "C Parameter:\n",
    "- The C parameter controls the trade-off between having a smooth decision boundary and fitting the training data points.\n",
    "- A small C allows for a softer margin, meaning the algorithm may tolerate more training errors but has a smoother decision boundary.\n",
    "- A large C makes the optimization prioritize fitting the training data closely, potentially leading to overfitting.\n",
    "- Increase C when you want to reduce underfitting (make the decision boundary more complex) but be cautious about overfitting.\n",
    "\n",
    "Epsilon Parameter (ε):\n",
    "- Epsilon defines the margin of tolerance where no penalty is given to errors.\n",
    "- It is particularly relevant in SVR for epsilon-insensitive loss function.\n",
    "- A smaller epsilon requires the model to fit the data more precisely, potentially leading to overfitting.\n",
    "- A larger epsilon allows for more errors within the margin, resulting in a smoother and simpler model.\n",
    "- Adjust epsilon based on the level of noise and the desired tolerance for errors.\n",
    "\n",
    "Gamma Parameter:\n",
    "- Gamma defines the influence of a single training example. It affects the shape of the decision boundary.\n",
    "- Small gamma values lead to a more generalized decision boundary, while large gamma values make the decision boundary more \n",
    "- dependent on the training data.\n",
    "- High gamma can lead to overfitting, especially when the number of training samples is small.\n",
    "- Low gamma can lead to underfitting and oversimplification of the model.\n",
    "- Experiment with gamma values based on the complexity of the problem and the amount of available data."
   ]
  },
  {
   "cell_type": "code",
   "execution_count": null,
   "id": "82a02cbc-bcce-4990-9ae6-429eb5c13757",
   "metadata": {},
   "outputs": [],
   "source": [
    "Q5. Assignment:\n",
    "- Import the necessary libraries and load the dataset.\n",
    "- Split the dataset into training and testing sets.\n",
    "- Preprocess the data using any technique of your choice (e.g. scaling, normaliMation).\n",
    "- Create an instance of the SVC classifier and train it on the training data.\n",
    "- hse the trained classifier to predict the labels of the testing data\n",
    "- Evaluate the performance of the classifier using any metric of your choice (e.g. accuracy, \n",
    "  precision, recall, F1-score)\n",
    "- Tune the hyperparameters of the SVC classifier using GridSearchCV or RandomiMedSearchCV to \n",
    "  improve its performance\n",
    "- Train the tuned classifier on the entire dataset\n",
    "- Save the trained classifier to a file for future use."
   ]
  },
  {
   "cell_type": "code",
   "execution_count": 63,
   "id": "5557ed48-4f58-449e-bb17-95c7f9ba4d8f",
   "metadata": {},
   "outputs": [],
   "source": [
    "import pandas as pd\n",
    "from sklearn.datasets import load_wine\n",
    "from sklearn.model_selection import train_test_split\n",
    "from sklearn.svm import SVC\n",
    "from sklearn.metrics import accuracy_score, classification_report , confusion_matrix"
   ]
  },
  {
   "cell_type": "code",
   "execution_count": 64,
   "id": "14b9e277-fad1-40be-a7c4-560df0b9539a",
   "metadata": {},
   "outputs": [],
   "source": [
    "dataset = load_wine()\n",
    "X = pd.DataFrame(data = dataset.data, columns = dataset.feature_names)\n",
    "Y = dataset.target\n",
    "x_train, x_test, y_train, y_test = train_test_split(X,Y, test_size = 0.25, random_state = 42)"
   ]
  },
  {
   "cell_type": "code",
   "execution_count": 65,
   "id": "875c8117-c0e2-40c1-b310-70ac92f58e89",
   "metadata": {},
   "outputs": [
    {
     "data": {
      "text/html": [
       "<style>#sk-container-id-4 {color: black;background-color: white;}#sk-container-id-4 pre{padding: 0;}#sk-container-id-4 div.sk-toggleable {background-color: white;}#sk-container-id-4 label.sk-toggleable__label {cursor: pointer;display: block;width: 100%;margin-bottom: 0;padding: 0.3em;box-sizing: border-box;text-align: center;}#sk-container-id-4 label.sk-toggleable__label-arrow:before {content: \"▸\";float: left;margin-right: 0.25em;color: #696969;}#sk-container-id-4 label.sk-toggleable__label-arrow:hover:before {color: black;}#sk-container-id-4 div.sk-estimator:hover label.sk-toggleable__label-arrow:before {color: black;}#sk-container-id-4 div.sk-toggleable__content {max-height: 0;max-width: 0;overflow: hidden;text-align: left;background-color: #f0f8ff;}#sk-container-id-4 div.sk-toggleable__content pre {margin: 0.2em;color: black;border-radius: 0.25em;background-color: #f0f8ff;}#sk-container-id-4 input.sk-toggleable__control:checked~div.sk-toggleable__content {max-height: 200px;max-width: 100%;overflow: auto;}#sk-container-id-4 input.sk-toggleable__control:checked~label.sk-toggleable__label-arrow:before {content: \"▾\";}#sk-container-id-4 div.sk-estimator input.sk-toggleable__control:checked~label.sk-toggleable__label {background-color: #d4ebff;}#sk-container-id-4 div.sk-label input.sk-toggleable__control:checked~label.sk-toggleable__label {background-color: #d4ebff;}#sk-container-id-4 input.sk-hidden--visually {border: 0;clip: rect(1px 1px 1px 1px);clip: rect(1px, 1px, 1px, 1px);height: 1px;margin: -1px;overflow: hidden;padding: 0;position: absolute;width: 1px;}#sk-container-id-4 div.sk-estimator {font-family: monospace;background-color: #f0f8ff;border: 1px dotted black;border-radius: 0.25em;box-sizing: border-box;margin-bottom: 0.5em;}#sk-container-id-4 div.sk-estimator:hover {background-color: #d4ebff;}#sk-container-id-4 div.sk-parallel-item::after {content: \"\";width: 100%;border-bottom: 1px solid gray;flex-grow: 1;}#sk-container-id-4 div.sk-label:hover label.sk-toggleable__label {background-color: #d4ebff;}#sk-container-id-4 div.sk-serial::before {content: \"\";position: absolute;border-left: 1px solid gray;box-sizing: border-box;top: 0;bottom: 0;left: 50%;z-index: 0;}#sk-container-id-4 div.sk-serial {display: flex;flex-direction: column;align-items: center;background-color: white;padding-right: 0.2em;padding-left: 0.2em;position: relative;}#sk-container-id-4 div.sk-item {position: relative;z-index: 1;}#sk-container-id-4 div.sk-parallel {display: flex;align-items: stretch;justify-content: center;background-color: white;position: relative;}#sk-container-id-4 div.sk-item::before, #sk-container-id-4 div.sk-parallel-item::before {content: \"\";position: absolute;border-left: 1px solid gray;box-sizing: border-box;top: 0;bottom: 0;left: 50%;z-index: -1;}#sk-container-id-4 div.sk-parallel-item {display: flex;flex-direction: column;z-index: 1;position: relative;background-color: white;}#sk-container-id-4 div.sk-parallel-item:first-child::after {align-self: flex-end;width: 50%;}#sk-container-id-4 div.sk-parallel-item:last-child::after {align-self: flex-start;width: 50%;}#sk-container-id-4 div.sk-parallel-item:only-child::after {width: 0;}#sk-container-id-4 div.sk-dashed-wrapped {border: 1px dashed gray;margin: 0 0.4em 0.5em 0.4em;box-sizing: border-box;padding-bottom: 0.4em;background-color: white;}#sk-container-id-4 div.sk-label label {font-family: monospace;font-weight: bold;display: inline-block;line-height: 1.2em;}#sk-container-id-4 div.sk-label-container {text-align: center;}#sk-container-id-4 div.sk-container {/* jupyter's `normalize.less` sets `[hidden] { display: none; }` but bootstrap.min.css set `[hidden] { display: none !important; }` so we also need the `!important` here to be able to override the default hidden behavior on the sphinx rendered scikit-learn.org. See: https://github.com/scikit-learn/scikit-learn/issues/21755 */display: inline-block !important;position: relative;}#sk-container-id-4 div.sk-text-repr-fallback {display: none;}</style><div id=\"sk-container-id-4\" class=\"sk-top-container\"><div class=\"sk-text-repr-fallback\"><pre>SVC()</pre><b>In a Jupyter environment, please rerun this cell to show the HTML representation or trust the notebook. <br />On GitHub, the HTML representation is unable to render, please try loading this page with nbviewer.org.</b></div><div class=\"sk-container\" hidden><div class=\"sk-item\"><div class=\"sk-estimator sk-toggleable\"><input class=\"sk-toggleable__control sk-hidden--visually\" id=\"sk-estimator-id-4\" type=\"checkbox\" checked><label for=\"sk-estimator-id-4\" class=\"sk-toggleable__label sk-toggleable__label-arrow\">SVC</label><div class=\"sk-toggleable__content\"><pre>SVC()</pre></div></div></div></div></div>"
      ],
      "text/plain": [
       "SVC()"
      ]
     },
     "execution_count": 65,
     "metadata": {},
     "output_type": "execute_result"
    }
   ],
   "source": [
    "classifier = SVC()\n",
    "classifier.fit(x_train, y_train)"
   ]
  },
  {
   "cell_type": "code",
   "execution_count": 66,
   "id": "55abb735-1a02-4929-9783-8c06940aa2b0",
   "metadata": {},
   "outputs": [],
   "source": [
    "y_pred = classifier.predict(x_test)"
   ]
  },
  {
   "cell_type": "code",
   "execution_count": 67,
   "id": "2d7de5f9-5a18-4821-89b1-f1ba88f60589",
   "metadata": {},
   "outputs": [
    {
     "name": "stdout",
     "output_type": "stream",
     "text": [
      "0.7111111111111111\n",
      "[[15  0  0]\n",
      " [ 0 13  5]\n",
      " [ 0  8  4]]\n",
      "              precision    recall  f1-score   support\n",
      "\n",
      "           0       1.00      1.00      1.00        15\n",
      "           1       0.62      0.72      0.67        18\n",
      "           2       0.44      0.33      0.38        12\n",
      "\n",
      "    accuracy                           0.71        45\n",
      "   macro avg       0.69      0.69      0.68        45\n",
      "weighted avg       0.70      0.71      0.70        45\n",
      "\n"
     ]
    }
   ],
   "source": [
    "print(accuracy_score(y_test, y_pred))\n",
    "print(confusion_matrix(y_test, y_pred))\n",
    "print(classification_report(y_test,y_pred))"
   ]
  },
  {
   "cell_type": "code",
   "execution_count": null,
   "id": "937dc90e-2d32-48f0-92ec-9291949994bd",
   "metadata": {},
   "outputs": [],
   "source": []
  }
 ],
 "metadata": {
  "kernelspec": {
   "display_name": "Python 3 (ipykernel)",
   "language": "python",
   "name": "python3"
  },
  "language_info": {
   "codemirror_mode": {
    "name": "ipython",
    "version": 3
   },
   "file_extension": ".py",
   "mimetype": "text/x-python",
   "name": "python",
   "nbconvert_exporter": "python",
   "pygments_lexer": "ipython3",
   "version": "3.10.8"
  }
 },
 "nbformat": 4,
 "nbformat_minor": 5
}
