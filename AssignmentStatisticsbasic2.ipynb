{
 "cells": [
  {
   "cell_type": "code",
   "execution_count": null,
   "id": "af24221d-a554-4886-9897-f9a68eb6501f",
   "metadata": {},
   "outputs": [],
   "source": [
    "Q1. What are the three measures of central tendency?\n",
    "Answer : 1. Mean\n",
    "         2. Median\n",
    "         3. Mode"
   ]
  },
  {
   "cell_type": "code",
   "execution_count": null,
   "id": "fed3bb91-5f12-41d5-b19e-c4582fdad1e1",
   "metadata": {},
   "outputs": [],
   "source": [
    "Q2. What is the difference between the mean, median, and mode? How are they used to measure the \n",
    "    central tendency of a dataset?\n",
    "Answer : Mean is average value of a dataset , in a sorted data set median is a middle value of a\n",
    "         data set and mode is most accuring element in a data set. all of them are used to measure\n",
    "         the central tendency."
   ]
  },
  {
   "cell_type": "code",
   "execution_count": 5,
   "id": "0bcf155d-66fb-4e7c-a487-0e1b1c73aa44",
   "metadata": {},
   "outputs": [],
   "source": [
    "# Q3. Measure the three measures of central tendency for the given height data:\n",
    "# [178,177,176,177,178.2,178,175,179,180,175,178.9,176.2,177,172.5,178,176.5]\n",
    "\n",
    "# Answer :\n",
    "data = [178,177,176,177,178.2,178,175,179,180,175,178.9,176.2,177,172.5,178,176.5]\n",
    "import numpy as np"
   ]
  },
  {
   "cell_type": "code",
   "execution_count": 6,
   "id": "cc1bbca6-8877-475a-a5d3-f411dd40afe2",
   "metadata": {},
   "outputs": [
    {
     "data": {
      "text/plain": [
       "177.01875"
      ]
     },
     "execution_count": 6,
     "metadata": {},
     "output_type": "execute_result"
    }
   ],
   "source": [
    "np.mean(data)"
   ]
  },
  {
   "cell_type": "code",
   "execution_count": 7,
   "id": "ff0217db-354b-4c2a-bef9-849fb42f7875",
   "metadata": {},
   "outputs": [
    {
     "data": {
      "text/plain": [
       "177.0"
      ]
     },
     "execution_count": 7,
     "metadata": {},
     "output_type": "execute_result"
    }
   ],
   "source": [
    "np.median(data)"
   ]
  },
  {
   "cell_type": "code",
   "execution_count": 9,
   "id": "d8c94be1-7324-4e01-bc58-9a5b6849c6bb",
   "metadata": {},
   "outputs": [],
   "source": [
    "from scipy import stats as s"
   ]
  },
  {
   "cell_type": "code",
   "execution_count": 10,
   "id": "4615eb9b-c2dc-4f20-a81e-dd641a2accab",
   "metadata": {},
   "outputs": [
    {
     "name": "stderr",
     "output_type": "stream",
     "text": [
      "/tmp/ipykernel_1913/923831330.py:1: FutureWarning: Unlike other reduction functions (e.g. `skew`, `kurtosis`), the default behavior of `mode` typically preserves the axis it acts along. In SciPy 1.11.0, this behavior will change: the default value of `keepdims` will become False, the `axis` over which the statistic is taken will be eliminated, and the value None will no longer be accepted. Set `keepdims` to True or False to avoid this warning.\n",
      "  s.mode(data)\n"
     ]
    },
    {
     "data": {
      "text/plain": [
       "ModeResult(mode=array([177.]), count=array([3]))"
      ]
     },
     "execution_count": 10,
     "metadata": {},
     "output_type": "execute_result"
    }
   ],
   "source": [
    "s.mode(data)"
   ]
  },
  {
   "cell_type": "code",
   "execution_count": 11,
   "id": "335282de-70e8-45aa-a766-989dc46ec041",
   "metadata": {},
   "outputs": [
    {
     "data": {
      "text/plain": [
       "1.7885814036548633"
      ]
     },
     "execution_count": 11,
     "metadata": {},
     "output_type": "execute_result"
    }
   ],
   "source": [
    "# Q4. Find the standard deviation for the given data:\n",
    "# [178,177,176,177,178.2,178,175,179,180,175,178.9,176.2,177,172.5,178,176.5]\n",
    "\n",
    "# Answer : \n",
    "list = [178,177,176,177,178.2,178,175,179,180,175,178.9,176.2,177,172.5,178,176.5]\n",
    "np.std(list)"
   ]
  },
  {
   "cell_type": "code",
   "execution_count": null,
   "id": "7fab25bd-71ac-43e3-814b-7ed125fee417",
   "metadata": {},
   "outputs": [],
   "source": [
    "Q5. How are measures of dispersion such as range, variance, and standard deviation used to describe \n",
    "    the spread of a dataset? Provide an example.\n",
    "\n",
    "Answer :\n",
    "    1. Range : the range is the simplest measure of dispersion and represents the difference between \n",
    "              the largest and smallest values in a dataset.\n",
    "    Ex : dataset of exam scores: {60, 70, 75, 80, 90}\n",
    "         range = 90 - 60 =30\n",
    "        \n",
    "    2. Variance : Variance measures the average squared deviation from the mean. it gives a more comprehensive\n",
    "                  understanding of how the data points vary around the mean.\n",
    "    Ex : dataset of salaries: {40, 45, 50, 55, 60}\n",
    "         mean = 50\n",
    "         var = ((40-50)^2 + (45-50)^2 + (50-50)^2 + (55-50)^2 + (60-50)^2) / 5 = 50\n",
    "     \n",
    "    3. Standard Deviation : he standard deviation is the square root of the variance and is perhaps the most \n",
    "                            commonly used measure of dispersion.\n",
    "    Ex : privious data \n",
    "         var = 50\n",
    "         std = √50 ≈ 7.07"
   ]
  },
  {
   "cell_type": "code",
   "execution_count": null,
   "id": "c25748d5-64b5-49d2-a5a2-bc26e76ed731",
   "metadata": {},
   "outputs": [],
   "source": [
    "Q6. What is a Venn diagram?\n",
    "Answer : A Venn diagram is a graphical representation used to illustrate the relationships and similarities \n",
    "         between different sets of the items or concepts. it consists of overlapping circle or other shapes, \n",
    "         each representing a set or category, and the overlapping regions represent the elements that are \n",
    "         common to those sets."
   ]
  },
  {
   "cell_type": "code",
   "execution_count": null,
   "id": "cdb24c99-3d1c-47ad-81e7-816cd5a5a19f",
   "metadata": {},
   "outputs": [],
   "source": [
    "Q7. For the two given sets A = (2,3,4,5,6,7) & B = (0,2,6,8,10). Find:\n",
    "(i) \tA intersection B\n",
    "(ii)\tA ⋃ B\n",
    "\n",
    "Answer : (i) A intersection B = (2,6)\n",
    "         (ii) A ⋃ B = (0,2,3,4,5,6,7,8,10)"
   ]
  },
  {
   "cell_type": "code",
   "execution_count": null,
   "id": "e5457c9e-c455-48bd-82b2-d221c6342c8c",
   "metadata": {},
   "outputs": [],
   "source": [
    "Q8. What do you understand about skewness in data?\n",
    "Answer : Skewness is a statistical measure that describes the asymmetry or\n",
    "         lack of symmetry in a probability distribution or data set. It provides\n",
    "         information about the shape and symmetry of the distribution."
   ]
  },
  {
   "cell_type": "code",
   "execution_count": null,
   "id": "63af1c4d-05f8-4498-89d7-5edf63a515e6",
   "metadata": {},
   "outputs": [],
   "source": [
    "Q9. If a data is right skewed then what will be the position of median with respect to mean?\n",
    "Answer : In a right- skewed distribution, the tail on the right side of the distribution is longer \n",
    "         or fatter than tail. this indicates that the maximum values are concentrated on the left \n",
    "         side, and the distribution is stretched towards the right.\n",
    "         in this case mean is greater than median."
   ]
  },
  {
   "cell_type": "code",
   "execution_count": null,
   "id": "0687f81c-ecef-4497-a314-0651c4418a4a",
   "metadata": {},
   "outputs": [],
   "source": [
    "Q10. Explain the difference between covariance and correlation. How are these measures used in \n",
    "     statistical analysis?\n",
    "Answer : Covariance and Correlation are both measues used to analyze the relationship between \n",
    "         variables in statistical analysis. covariance can take positive, negative or zero value\n",
    "         indivating the direction of the relationship between the variables and in correlatio is \n",
    "         also provide strength with the direction of the linear relationship between two variables.\n",
    "         coreelation ranging between -1 and 1."
   ]
  },
  {
   "cell_type": "code",
   "execution_count": 2,
   "id": "8d24c675-baf5-4d99-9117-3e4c18637483",
   "metadata": {},
   "outputs": [],
   "source": [
    "Q11. What is the formula for calculating the sample mean? Provide an example calculation for a \n",
    "     dataset. \n",
    "Answer : sample mean = (sum of data)/(number of data -1)\n",
    "        Ex : 10,12,14,16,18,20\n",
    "        sample mean = (10+12+14)/(3-1) = 18"
   ]
  },
  {
   "cell_type": "code",
   "execution_count": null,
   "id": "cf7b8e0d-20c1-4a1b-8a03-fea276b69a9d",
   "metadata": {},
   "outputs": [],
   "source": [
    "Q12. For a normal distribution data what is the relationship between its measure of central tendency?\n",
    "Answer : For normal distribution measure of central tendency mean, median and mode are equal."
   ]
  },
  {
   "cell_type": "code",
   "execution_count": null,
   "id": "60e7d14d-b7e8-43a0-8655-de9be4cfdf5d",
   "metadata": {},
   "outputs": [],
   "source": [
    "Q13. How is covariance different from correlation ?\n",
    "Answer : Both of the covariance and correlation is gives relationship between the random variable\n",
    "         but the covariance is only give the direction of relationship and in correlation it gives \n",
    "         direction and strength of relationship between them. correlation renges between -1 to 1 and \n",
    "         covariance has no limit."
   ]
  },
  {
   "cell_type": "code",
   "execution_count": null,
   "id": "b756fa92-e2ad-4b29-82fc-a5b3b9ce8d81",
   "metadata": {},
   "outputs": [],
   "source": [
    "Q14. How do outliers affect measures of central tendency and dispersion? Provide an example.\n",
    "Answer : Outliers only effect mean and their effect on median and mode is not significant. \n",
    "         Ex : dataset : 1,2,3,1,2,4,5,2,1,2  \n",
    "              sorted data : 1,1,1,2,2,2,2,3,4,5\n",
    "        mean = 2.3\n",
    "        median = 2\n",
    "        mode = 2\n",
    "        \n",
    "        after adding outlier\n",
    "        1,1,1,2,2,2,2,3,4,5,100\n",
    "        mean = 11.18\n",
    "        median = 2\n",
    "        mode = 2"
   ]
  }
 ],
 "metadata": {
  "kernelspec": {
   "display_name": "Python 3 (ipykernel)",
   "language": "python",
   "name": "python3"
  },
  "language_info": {
   "codemirror_mode": {
    "name": "ipython",
    "version": 3
   },
   "file_extension": ".py",
   "mimetype": "text/x-python",
   "name": "python",
   "nbconvert_exporter": "python",
   "pygments_lexer": "ipython3",
   "version": "3.10.8"
  }
 },
 "nbformat": 4,
 "nbformat_minor": 5
}
