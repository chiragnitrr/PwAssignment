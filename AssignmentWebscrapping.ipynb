{
 "cells": [
  {
   "cell_type": "code",
   "execution_count": null,
   "id": "1581b3b6-c26a-46d1-b1e6-049aada052b4",
   "metadata": {},
   "outputs": [],
   "source": [
    "Q1. What is Web Scraping? Why is it Used? Give three areas where Web Scraping is used to get data.\n",
    "Answer : Web Scraping is the automatic process of data extraction from the websites. for this process\n",
    "         we use various tools and software. This technique allows the user to gather data in structured\n",
    "         manner.\n",
    "        \n",
    "         Web Scraping used for various purpose :\n",
    "         1. Data collection and analysis\n",
    "         2. Market Research\n",
    "         3. Academic Research\n",
    "         4. Monitaring and tracking\n",
    "            \n",
    "        "
   ]
  },
  {
   "cell_type": "code",
   "execution_count": null,
   "id": "945eaf3a-c357-45b5-b945-2d2fb0b3eab8",
   "metadata": {},
   "outputs": [],
   "source": [
    "Q2. What are the different methods used for Web Scraping?\n",
    "Answer : Different Method of web scraping :\n",
    "    1. Manual Copy - Pasting : It is the simplest method of web scraping were user manually copy data\n",
    "                              from websites and paste it in a local files or spreasheet.\n",
    "    2. HTML Parsing : With the help of Beautifulsoup in python we nevigate the data present in HTML page\n",
    "                     and extract it.\n",
    "    3. API Access : Some website provides API to direct access to their data."
   ]
  },
  {
   "cell_type": "code",
   "execution_count": null,
   "id": "2aae6d57-a31a-48de-818d-2fb86e9e4bbe",
   "metadata": {},
   "outputs": [],
   "source": [
    "Q3. What is Beautiful Soup? Why is it used?\n",
    "Answer : Beautiful Soup is python library which is used in web Scraping and parsing HTML and XML pages.\n",
    "         It provide a easy way to extract data from web pages by nevigating the document structure and \n",
    "         locating the specific element.\n",
    "        \n",
    "        uses of Beautiful Soup :\n",
    "            1. Data Extraction\n",
    "            2. HTML/XML parsing\n",
    "            3. Integration with other libraries\n",
    "            4. Navigation and Searching\n",
    "            5. Easy to use API"
   ]
  },
  {
   "cell_type": "code",
   "execution_count": null,
   "id": "9db61358-7384-4fb5-b5dd-65dd18712a40",
   "metadata": {},
   "outputs": [],
   "source": [
    "Q4. Why is flask used in this Web Scraping project?\n",
    "Answer : Flask is popular framework in python which is used in Web Scraping for the following\n",
    "         reasons:\n",
    "        1. Data storage and persistence\n",
    "        2. Routing the URL handling\n",
    "        3. Server side development\n",
    "        4. API Development\n",
    "        5. Scalibility and Deployment"
   ]
  },
  {
   "cell_type": "code",
   "execution_count": null,
   "id": "8179cc46-afcd-4f7b-a37f-45a0ef210b5a",
   "metadata": {},
   "outputs": [],
   "source": [
    "Q5. Write the names of AWS services used in this project. Also, explain the use of each service.\n",
    "Answer : Elastic Beanstalk, Code pipeline is used in this project.\n",
    "\n",
    "        Elastic Beanstalk : AWS Elastic Beanstalk is a fully managed platform as a service that\n",
    "                            simplifies the deployment and management of your  application. it allows \n",
    "                            to quickly deploy your appliction in AWS infrastructure without having to\n",
    "                            manage the underlying infrastructure component.\n",
    "                \n",
    "        Code pipeline : AWS CodePipeline is fully managed continous delivery service that helps you to\n",
    "                        automate and streamline the software release process. It allows to build, test\n",
    "                        and deploy applications efficiently and with consistent workflows."
   ]
  }
 ],
 "metadata": {
  "kernelspec": {
   "display_name": "Python 3 (ipykernel)",
   "language": "python",
   "name": "python3"
  },
  "language_info": {
   "codemirror_mode": {
    "name": "ipython",
    "version": 3
   },
   "file_extension": ".py",
   "mimetype": "text/x-python",
   "name": "python",
   "nbconvert_exporter": "python",
   "pygments_lexer": "ipython3",
   "version": "3.10.8"
  }
 },
 "nbformat": 4,
 "nbformat_minor": 5
}
