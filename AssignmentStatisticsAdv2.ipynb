{
 "cells": [
  {
   "cell_type": "code",
   "execution_count": null,
   "id": "797f81da-0819-4e27-bb08-8520110f1cec",
   "metadata": {},
   "outputs": [],
   "source": [
    "Q1: What are the Probability Mass Function (PMF) and Probability Density Function (PDF)? Explain with \n",
    "    an example.\n",
    "Answer : Probability Mass Function Mass Function (PMF) and Probability Density Function (PDF) both are the\n",
    "         Probability distribution fuctions PMF is used for discrete random variables and PDF is used for \n",
    "         continous random variable. \n",
    "         Example : In Rolling a dice all outcomes are random variables an in this case PMF is used for representation\n",
    "                   of probability distribution .\n",
    "                   weight of students in a class is continous random variable and in this case PDF is used for \n",
    "                   representation of probability distribution."
   ]
  },
  {
   "cell_type": "code",
   "execution_count": null,
   "id": "dc1090dc-b36d-4921-bf34-bfb832dd91f2",
   "metadata": {},
   "outputs": [],
   "source": [
    "Q2: What is Cumulative Density Function (CDF)? Explain with an example. Why CDF is used?\n",
    "Answer : Cumulative Density function (CDF) is probability distribution function it gives the cumulative probability of\n",
    "         both type of random variable continous and discrete.\n",
    "         Example : In a class room weights of students vary from 50 kg to 80kg if their is a need to find the probability of\n",
    "                   students whose weight are less than 65 kg than in this case CDF is used.\n",
    "        \n",
    "        CDF is most effective way to calculate cumulative probability thats why CDF is used."
   ]
  },
  {
   "cell_type": "code",
   "execution_count": null,
   "id": "a90155ee-6a19-492d-a44e-e44aa80a8043",
   "metadata": {},
   "outputs": [],
   "source": [
    "Q3: What are some examples of situations where the normal distribution might be used as a model? Explain how the \n",
    "    parameters of the normal distribution relate to the shape of the distribution.\n",
    "Answer : The normal distribution, also known as the gaussian distribution, is one of the most widely used probability \n",
    "         distribution in statistics and data analysis. it is continous probability distribution characterized by its \n",
    "         bell - shaped curve. The distribution is fully described by two parameters mean and standard deviation.\n",
    "        \n",
    "        Examples of situations where the normal distribution might be used as a model :\n",
    "            1. Height of individuals\n",
    "            2. Exam scores\n",
    "            3. Measurement errors\n",
    "            4. IQ score\n",
    "            5. Financial return\n",
    "        \n",
    "        The parameter of the normal distribution (mean , standard deviation) directly influence the shape of the distribution :\n",
    "            Mean : The mean determines the central location of the distribution. It represent the peak of the bell curve. shifting\n",
    "                   the mean to the left or right will change the center of the distribution without altering its shape.\n",
    "            \n",
    "            standard deviation : The standard deviation controls the spread or dispersion of the distribution. A larger standard\n",
    "                                 deviation results in a wider and flatter bell curve, indicating higher variability in the data."
   ]
  },
  {
   "cell_type": "code",
   "execution_count": null,
   "id": "31e913f2-1412-43b4-b6a8-9cf7143ac4fe",
   "metadata": {},
   "outputs": [],
   "source": [
    "Q4: Explain the importance of Normal Distribution. Give a few real-life examples of Normal Distribution. \n",
    "Answer : The Normal Distribution is important in statistics and data analysis due to its numerous practical \n",
    "         application and remarkeble mathematical properties. some of the reasons for its significance are as\n",
    "         follows :\n",
    "            1. Common Occurrence in Nature\n",
    "            2. Simplicity and Ease of Use\n",
    "            3. Statistical Inference \n",
    "            4. Pedictive Modeling\n",
    "            5. Quality Control\n",
    "            \n",
    "            Real-life Examples of the normal distribution  :\n",
    "            1. Height of individuals\n",
    "            2. Exam scores\n",
    "            3. Measurement errors\n",
    "            4. IQ score\n",
    "            5. Financial return"
   ]
  },
  {
   "cell_type": "code",
   "execution_count": null,
   "id": "50234140-7824-488e-a231-730dff37f349",
   "metadata": {},
   "outputs": [],
   "source": [
    "Q5: What is Bernoulli Distribution? Give an Example. What is the difference between Bernoulli Distribution and \n",
    "    Binomial Distribution?\n",
    "Answer : The Bernoulli distribution is a simple and fundamental discrete probability distribution. It models a\n",
    "         random experiment with two outcomes : success (usuall denoted as \"1\") or failure (usually denoted as \"0\").\n",
    "         \n",
    "        Example : consider a coin toss, where p represents the probability of getting head and 1-p represent probability\n",
    "                  of getting tail.\n",
    "            \n",
    "        Difference between Bernoulli and Binomial Distribution :\n",
    "            1. Bernoulli distribution represents a single trial or a sequence of a independent, identical trial. and \n",
    "               Binomila distribution represents the number of successes in a fixed number (n) of independent, identical\n",
    "               Bernoulli trial.\n",
    "            2. Mean in Bernoulli distribution is equal to probability of success and mean in Binomila distribution is (n*mean).\n",
    "            3. Bernoulli distribution is appropriate when we are interested in the probability of a single success in a single trial\n",
    "               and Binomial distribution is appropriate when we want to know the probability of getting exactly k successe in n trials,\n",
    "               where k can range from 0 to n."
   ]
  },
  {
   "cell_type": "code",
   "execution_count": null,
   "id": "fe33f63d-77db-466c-855b-0b981fdb59c4",
   "metadata": {},
   "outputs": [],
   "source": [
    "Q6: Consider a dataset with a mean of 50 and a standard deviation of 10. If we assume that the dataset is normally\n",
    "    distributed, what is the probability that a randomly selected observation will be greater than 60? Use the appropriate\n",
    "    formula and show your calculations.\n",
    "    \n",
    "Answer : gieve ,  μ = 50, σ = 10\n",
    "         using z score test \n",
    "         z score at x = 60\n",
    "         z = (x - μ) / σ\n",
    "         z = (60 - 50) / 10 = 1\n",
    "         Area under the normal distribution (x < 60) = 0.84134\n",
    "         Area under the normal distibutio (x >= 60) = 1 - 0.84134 = 0.15866\n",
    "         Probability of randomly selected observation will greater the 60 is 0.15866 or 15.866 %."
   ]
  },
  {
   "cell_type": "code",
   "execution_count": null,
   "id": "6e82ce81-6c74-4301-91b8-262e3003831d",
   "metadata": {},
   "outputs": [],
   "source": [
    "Q7: Explain uniform Distribution with an example.\n",
    "Answer : The uniform distribution is a probability distribution in statistics and probability therory where \n",
    "         all possible outcomes have equla probabilities. it is called \"uniform\" because it provides a constant\n",
    "         probability for each possible value within a specific range. In uniform distribution, every outcome \n",
    "         is equally likely to occur, and there are no peaks or troughs in the distribution graph.\n",
    "            \n",
    "        Example : Rolling a dice is a best example of uniform distribution where all the outcomes {1,2,3,4,5,6} \n",
    "                  have equal probability."
   ]
  },
  {
   "cell_type": "code",
   "execution_count": null,
   "id": "62d1826e-ce17-4e0c-b01c-2324844a9ea0",
   "metadata": {},
   "outputs": [],
   "source": [
    "Q8: What is the z score? State the importance of the z score.\n",
    "Answer : The z-score, also known as the standard score, is a statical measure that quantifies how many standard\n",
    "         deviations a data point is from the mean of a dataset. It is used to standardize data and compare individual\n",
    "         data points to the overall distribution. \n",
    "        \n",
    "        formula of z score :\n",
    "            z = (x - μ) / σ\n",
    "\n",
    "        Where:\n",
    "\n",
    "        x is the individual data point.\n",
    "        μ is the mean of the dataset.\n",
    "        σ is the standard deviation of the dataset.\n",
    "        \n",
    "        Importance of the z-score :\n",
    "            1.Standardization\n",
    "            2.Probability analysis\n",
    "            3.Data analysis and iterpretation\n",
    "            4.Data comparison\n",
    "            5.Outlier detection"
   ]
  },
  {
   "cell_type": "code",
   "execution_count": null,
   "id": "99e29496-510a-41cd-9d1a-5731f2bb7d02",
   "metadata": {},
   "outputs": [],
   "source": [
    "Q9: What is Central Limit Theorem? State the significance of the Central Limit Theorem.\n",
    "Answer : The central limit theorem says that the sampling distribution of the mean will always be normally distributed,\n",
    "         as long as the sample size is large enough. Regardless of whether the population has a normal, poisson, binomial,\n",
    "         or any other distribution, the sampling distribution of the mean will be normal.\n",
    "        \n",
    "        Significances of the Central Limit Theorem :\n",
    "            1.Sampling Distribution of the Mean\n",
    "            2.Normal Approximation\n",
    "            3.Sample size Independence (typically n ≥ 30)\n",
    "            4.Real-world Application\n",
    "            5.Reliable Estimates\n",
    "            6.Theory validation"
   ]
  },
  {
   "cell_type": "code",
   "execution_count": null,
   "id": "fb4f7066-1db7-4803-a278-457d039ee424",
   "metadata": {},
   "outputs": [],
   "source": [
    "Q10: State the assumptions of the Central Limit Theorem.\n",
    "Answer : Assumptions of the Central Limit Theorem :\n",
    "    1. Random Sampling : The sample should be selected randomly from the population of interest.\n",
    "    2. Independence : The sampled observation should be independent of each other.\n",
    "    3. Finite Variance : The population from which the samples are drawn must have a finite variance.\n",
    "    4. Sample Size : The sample size(n) should be \"sufficiently large\" (n ≥ 30).\n",
    "    5. Population Distribution : The CLT does not require the population to follow a normal distribution."
   ]
  }
 ],
 "metadata": {
  "kernelspec": {
   "display_name": "Python 3 (ipykernel)",
   "language": "python",
   "name": "python3"
  },
  "language_info": {
   "codemirror_mode": {
    "name": "ipython",
    "version": 3
   },
   "file_extension": ".py",
   "mimetype": "text/x-python",
   "name": "python",
   "nbconvert_exporter": "python",
   "pygments_lexer": "ipython3",
   "version": "3.10.8"
  }
 },
 "nbformat": 4,
 "nbformat_minor": 5
}
