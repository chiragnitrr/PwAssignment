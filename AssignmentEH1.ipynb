{
 "cells": [
  {
   "cell_type": "code",
   "execution_count": null,
   "id": "79b37d2d-b483-471c-b789-c1c2f2178f40",
   "metadata": {},
   "outputs": [],
   "source": [
    "Q1. What is an Exception in python? Write the difference between Exceptions and Syntax error.\n",
    "\n",
    "Answer : Exception is an event in python which interrupt the normal flow of program there are are many type of \n",
    "         exception in python , in codes if there is any exception is present then system generate error . some \n",
    "         of the error are zero division error, import error, index error , key error.\n",
    "         \n",
    "         Difference Between Exception and Sytax error :\n",
    "         Syntax error is violation of programming language syntax it is found during compilation or iterpretation \n",
    "         of code. spelling mistake , incorrect placements of special characters , intendation error are the syntax \n",
    "         errors Exception is an error or unusual event found during execution of codes exception is occur even if \n",
    "         syntax of code is correct."
   ]
  },
  {
   "cell_type": "code",
   "execution_count": 3,
   "id": "22a34b02-67ef-4aa0-ac82-7c1faccee9dc",
   "metadata": {},
   "outputs": [
    {
     "name": "stdout",
     "output_type": "stream",
     "text": [
      "No module named 'pwskills'\n"
     ]
    }
   ],
   "source": [
    "# Q2. What happends when an exception is not handled ?  Explain with an example.\n",
    "\n",
    "# Answer : Exception is an unsual event which is found during executio of code if there is any error present in \n",
    "#          codes then it will iterrupt during running a program that's why its important to handle .\n",
    "    \n",
    "#          Example:\n",
    "\n",
    "try :\n",
    "    import pwskills\n",
    "     #codes\n",
    "except Exception as e:\n",
    "    print(e)\n",
    "\n",
    "# in this code there is import error. there is no pwskills module is present in python if this exception is not handle\n",
    "# than our code it not running or not functioning according to our need."
   ]
  },
  {
   "cell_type": "code",
   "execution_count": 6,
   "id": "ff4e79eb-087a-46cf-9ee5-2060c72e7fcc",
   "metadata": {},
   "outputs": [
    {
     "name": "stdout",
     "output_type": "stream",
     "text": [
      "division by zero\n"
     ]
    }
   ],
   "source": [
    "# Q3. Which Python statements are used to catch and handle exceptions? Explain with an example.\n",
    "\n",
    "# Answer : try and except statement are used to catch and handle exception in python. the code which may raise\n",
    "#          any error are written in try block and if any exception is present in try block then the code of \n",
    "#          except block is execute otherwise it will not execute.\n",
    "        \n",
    "a = 10\n",
    "try :\n",
    "    a/0\n",
    "    \n",
    "except Exception as e:\n",
    "    print(e)\n",
    "    \n",
    "#here exception is present in try block so code in except will be execute."
   ]
  },
  {
   "cell_type": "code",
   "execution_count": 8,
   "id": "bb4468ea-c8a0-44df-8c76-cb8e86374545",
   "metadata": {},
   "outputs": [
    {
     "name": "stdin",
     "output_type": "stream",
     "text": [
      "Enter the age :  800\n"
     ]
    },
    {
     "name": "stdout",
     "output_type": "stream",
     "text": [
      "This is too high\n",
      "This block will run in any  case\n"
     ]
    }
   ],
   "source": [
    "# Q4. Explain with an example:\n",
    "#     a. try and else\n",
    "#     b. finally\n",
    "#     c. raise\n",
    "    \n",
    "# Answer:\n",
    "\n",
    "class age_validation(Exception):\n",
    "    def __init__(self,msg):\n",
    "        self.msg = msg\n",
    "        \n",
    "\n",
    "def validate_age(m):\n",
    "    if m<0:\n",
    "        raise age_validation(\"This is not possible\")\n",
    "    elif m>150:\n",
    "        raise age_validation(\"This is too high\")\n",
    "    else :\n",
    "        raise age_validation(\"valid age\")\n",
    "        \n",
    "a = int(input(\"Enter the age : \"))\n",
    "\n",
    "try :\n",
    "    validate_age(a)\n",
    "    \n",
    "except age_validation as e:\n",
    "    print(e)\n",
    "    \n",
    "finally :\n",
    "    print(\"This block will run in any  case\")"
   ]
  },
  {
   "cell_type": "code",
   "execution_count": null,
   "id": "88df1cfa-b686-4fe3-a3f4-a70c05d83791",
   "metadata": {},
   "outputs": [],
   "source": [
    "Q5. What are Custom Exceptions in python? Why do we need Custom Exceptions? Explin with an exmple.\n",
    "Answer : Custom Exception handling help in customize the process of exception handling. According\n",
    "         Progamming eception are pre difine but if we want to raise exception according to our\n",
    "         need then we need to  cutom Exception handling. For example there is program which takes\n",
    "         an integer as an input and wheter it is valid or not for age of a human if we enter  \n",
    "         negative number or too large number then for the system it is not an exception but we \n",
    "         want that it show exception then we need custom exception handling."
   ]
  },
  {
   "cell_type": "code",
   "execution_count": 1,
   "id": "3393eb6c-b876-4513-82c8-ee94a0d4ea0b",
   "metadata": {},
   "outputs": [
    {
     "name": "stdin",
     "output_type": "stream",
     "text": [
      "Enter the age :  500\n"
     ]
    },
    {
     "name": "stdout",
     "output_type": "stream",
     "text": [
      "This is too high\n"
     ]
    }
   ],
   "source": [
    "# Q6. Create custom exception class. Use this class to handle an exception.\n",
    "# Answer :\n",
    "\n",
    "class custom_exception(Exception):\n",
    "    def __init__(self,msg):\n",
    "        self.msg = msg\n",
    "        \n",
    "\n",
    "def validate_age(m):\n",
    "    if m<0:\n",
    "        raise custom_exception(\"This is not possible\")\n",
    "    elif m>150:\n",
    "        raise custom_exception(\"This is too high\")\n",
    "    else :\n",
    "        raise custom_exception(\"valid age\")\n",
    "        \n",
    "a = int(input(\"Enter the age : \"))\n",
    "\n",
    "try :\n",
    "    validate_age(a)\n",
    "    \n",
    "except custom_exception as e:\n",
    "    print(e)"
   ]
  },
  {
   "cell_type": "code",
   "execution_count": null,
   "id": "a064a655-b45f-4130-bfa0-4785cc1a5fd4",
   "metadata": {},
   "outputs": [],
   "source": []
  }
 ],
 "metadata": {
  "kernelspec": {
   "display_name": "Python 3 (ipykernel)",
   "language": "python",
   "name": "python3"
  },
  "language_info": {
   "codemirror_mode": {
    "name": "ipython",
    "version": 3
   },
   "file_extension": ".py",
   "mimetype": "text/x-python",
   "name": "python",
   "nbconvert_exporter": "python",
   "pygments_lexer": "ipython3",
   "version": "3.10.8"
  }
 },
 "nbformat": 4,
 "nbformat_minor": 5
}
