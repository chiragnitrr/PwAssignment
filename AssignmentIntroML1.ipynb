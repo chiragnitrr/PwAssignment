{
 "cells": [
  {
   "cell_type": "code",
   "execution_count": null,
   "id": "43fc5ab2-638d-4c30-a7be-8a71e5e6b185",
   "metadata": {},
   "outputs": [],
   "source": [
    "Q1: Explain the following with an example:\n",
    "    1.Artificial Intelligence\n",
    "    2.Machine Learning\n",
    "    3.Deep Learning\n",
    "Answer : 1.Artificial Intelligence : AI refers to the development of computer system or machines that can perform task that typically require\n",
    "           human intelligence. these tasks include learning from experience, reasoning, problem-solving, understanding natural language, and \n",
    "           adapting to new situations. AI encompasses various approaches and techniques to create intelligent systems.\n",
    "        \n",
    "        2.Machine Learning : Machine learning is a subset of artificial intelligence that focuses on enabling machines to learn and inprove from\n",
    "          experience without being explicity programmed. In machine learning, algorithms are designed to identify patterns and make predictions or\n",
    "          decisions based on data.\n",
    "        \n",
    "        3.Deep Learning : Deep learning is a specialized form of machine learning that uses artificial neural networks with multiple layers (deep\n",
    "          neral networks) to learn and represent complex patterns and relationships in data. deep learning has shown exceptional performance in \n",
    "          tasks like image and speech recognition."
   ]
  },
  {
   "cell_type": "code",
   "execution_count": null,
   "id": "bc0ffe6e-3d38-4bc6-8103-82f2b1dfba3b",
   "metadata": {},
   "outputs": [],
   "source": [
    "Q2: What is supervised learning? List some examples of supervised learnig.\n",
    "Answer : Supervised learning is a type of machine learning where the algorithm is trained on a labeled dataset, which means the input data \n",
    "         and their corresponding correct output or target values are provided. The goal of supervise learning is for the algorithm to learn\n",
    "         the mapping between input and output pairs that it can make accurate predictions on new unseen data.\n",
    "        \n",
    "         Example : 1. Image classification\n",
    "                   2. Spam Email Detection\n",
    "                   3. Language Translate\n",
    "                   4. Handwriting Recognition\n",
    "                   5. Sentiment Analysis"
   ]
  },
  {
   "cell_type": "code",
   "execution_count": null,
   "id": "1908a63d-74c5-4ecf-87ad-f4bd70ba91dc",
   "metadata": {},
   "outputs": [],
   "source": [
    "Q3: What is unsupervised learning? List some examples of unsupervised learnig.\n",
    "Answer : Unsupervised learning is a type of machine learnig where the algorithm is trained on a unlabeled dataset, meaning there\n",
    "         are no explicit target or output values provided. The goal of unsupervised learnig is for the algorithm to find patterns, \n",
    "         structures, or relationships within the data without any predefined labels. it often used for tasks such as clustering, \n",
    "         dimensionality reduction, and density estimation.\n",
    "            \n",
    "        Example : 1. Recommender systems\n",
    "                  2. Fraud Detection\n",
    "                  3. Word Embeddings\n",
    "                  4. Density Estimation"
   ]
  },
  {
   "cell_type": "code",
   "execution_count": null,
   "id": "06a07510-a909-4d60-9177-54d5cd37ac93",
   "metadata": {},
   "outputs": [],
   "source": [
    "Q4: What is the difference between AI, ML, DL, and DS?\n",
    "Answer : AI is the overarching concept of developing intelligent systems that can perform human-like task,\n",
    "         ML is a subset of AI that focuses on enabling machines to learn from data an dimprove their performance\n",
    "         on specific tasks, DL is a specialized subfield of ML that involves deep neural networks to handle complex,\n",
    "         unstructured data, DS is a multidisciplinary field that uses techniques like machine learning to extract\n",
    "         insights and knowledge from data."
   ]
  },
  {
   "cell_type": "code",
   "execution_count": null,
   "id": "65aafbff-f373-43ac-aa60-fd0fe4355d44",
   "metadata": {},
   "outputs": [],
   "source": [
    "Q5: What are the main difference between supervised, unsupervised, and semi-supervised learning?\n",
    "Answer : Supervised learning uses labeled data to make predictions, unsupervised learning explores patterns in unlabeled data, and \n",
    "         semi-supervised learning combines labeled and unlabeled data to improve performance in scenarios where obtaining labeled \n",
    "         data is challenging."
   ]
  },
  {
   "cell_type": "code",
   "execution_count": null,
   "id": "becf9732-4d60-4b58-beac-d8399be12321",
   "metadata": {},
   "outputs": [],
   "source": [
    "Q6: What is train, test and validation split? Explain the importance of each them.\n",
    "Answer : Training set : The training set is the largest portion of the dataset used to train the machine learning model. it\n",
    "         it contains labeled data (input-output pairs) and is used to teach the model to recognize patterns and learn the \n",
    "         relationships between the input features and the target labels.\n",
    "         Importance : The taining set is crucial for model learning. It enables the model to understand the underlying patterns\n",
    "                      and associations in the data.\n",
    "         \n",
    "        Test set : The test set is a separate portion of the dataset that the model has not seen during training. It also contains\n",
    "        labeled data, but the model's performance on this set is only evaluated after it has been fully trained on the training set.\n",
    "        The test set provides an unbiased evaluation of how well the model generalizes to new data.\n",
    "        Importance : The test set allows us to assess the model's performance on unseen data, giving on indication of how well it \n",
    "                     might perform in real-world scenarios.\n",
    "            \n",
    "        Validation set : The validation set is a smaller subset of the dataset that is used during the training process to fine-tune\n",
    "        the model's hyperparameters or to make early stopping decisions. It helps prevent overfittin and ensures that the model \n",
    "        generalizes well to new data.\n",
    "        Impotance : It helps monitor the model's performance during training, allowing us to identify when the model starts to overfit\n",
    "                    or underfit the training data."
   ]
  },
  {
   "cell_type": "code",
   "execution_count": null,
   "id": "fe97221f-978d-4ef1-af65-88c4b00f13a3",
   "metadata": {},
   "outputs": [],
   "source": [
    "Q7: How can unsupervised learning be used in anomaly detection?\n",
    "Answer : Unsupervised learning can be effectively used in anomaly detection by leveraging its ability to identify patterns and\n",
    "         structures within data without the need for labeled examples of anomalies. Anomaly detection is the process of identifying\n",
    "         rare or unusual data point that deviate significantly from the majority of the data, which may indicate abnormal behavior \n",
    "         or potential issues in a system."
   ]
  },
  {
   "cell_type": "code",
   "execution_count": null,
   "id": "bacb861b-9379-414d-a637-ba10fdf7df53",
   "metadata": {},
   "outputs": [],
   "source": [
    "Q8: List down some commonly used supervised learning algorithms and unsupervised learning algorithms.\n",
    "Answer : Supervised learning algorithms:\n",
    "         1. Linear Regression\n",
    "         2. Logistic Regression\n",
    "         3. Decision Trees\n",
    "         4. Random Forest\n",
    "         5. Support Vector Machines\n",
    "         6. K-Nearest Neighbors\n",
    "         7. Naive Bayes\n",
    "         8. Gradient Boosting Machines\n",
    "         9. Neural Networks\n",
    "        \n",
    "         Unsupervised learning algorithms:\n",
    "         1.K-means clustering\n",
    "         2.DBSCAN (Density based spatial clustering of application with noise)\n",
    "         3.Hierarchical clustering\n",
    "         4.Gaussian Mixture Models\n",
    "         5.Pricipal component  Analysis\n",
    "         6.t-SNE (t-distributed stochastic Neighbor Embedding)\n",
    "         7.Autoencoders\n",
    "         8.Isolation Forest\n",
    "         9.Self-Organizing Maps"
   ]
  }
 ],
 "metadata": {
  "kernelspec": {
   "display_name": "Python 3 (ipykernel)",
   "language": "python",
   "name": "python3"
  },
  "language_info": {
   "codemirror_mode": {
    "name": "ipython",
    "version": 3
   },
   "file_extension": ".py",
   "mimetype": "text/x-python",
   "name": "python",
   "nbconvert_exporter": "python",
   "pygments_lexer": "ipython3",
   "version": "3.10.8"
  }
 },
 "nbformat": 4,
 "nbformat_minor": 5
}
