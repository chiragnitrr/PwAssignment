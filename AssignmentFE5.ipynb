{
 "cells": [
  {
   "cell_type": "markdown",
   "id": "1cd72ccb-c64b-43a9-93aa-0ab826bc90d1",
   "metadata": {},
   "source": [
    "Q1. Pearson correlation coefficient is a measure of the linear relationship between two variables. Suppose you have collected data on the amount of time students spend studying for an exam and their final exam scores. Calculate the Pearson correlation coefficient between these two variables and interpret the result."
   ]
  },
  {
   "cell_type": "code",
   "execution_count": null,
   "id": "31b8d778-168c-4c9a-9a88-0bfdd6ca7a5b",
   "metadata": {},
   "outputs": [],
   "source": [
    "Answer : To calculate the Pearson correlation coefficient between two variables, you would need a dataset containing pairs of values\n",
    "for the two variables: the amount of time students spend studying for an exam and their corresponding final exam scores. Let's denote\n",
    "the time spent studying as variable X and the exam scores as variable Y. The Pearson correlation coefficient (often denoted as \"r\")\n",
    "is calculated as follows:\n",
    "\n",
    "1. Calculate the mean (average) of both X and Y.\n",
    "2. Calculate the difference between each X value and the mean of X, and the difference between each Y value and the mean of Y.\n",
    "3. Multiply the corresponding differences for each data point.\n",
    "4. Sum up the products obtained in step 3.\n",
    "5. Calculate the squared difference for each X value and sum them up.\n",
    "6. Calculate the squared difference for each Y value and sum them up.\n",
    "7. Take the square root of the sum of squared differences of X and the sum of squared differences of Y.\n",
    "8. Divide the sum obtained in step 4 by the value obtained in step 7 to get the Pearson correlation coefficient.\n",
    "\n",
    "The resulting value of r will be between -1 and 1. Here's how to interpret the value of r:\n",
    "\n",
    "if, r=1: There is a perfect positive linear correlation, meaning as one variable (studying time) increases, the other variable (exam\n",
    "scores) also increases proportionally.\n",
    "\n",
    "if, r=−1: There is a perfect negative linear correlation, meaning as one variable increases, the other variable decreases \n",
    "proportionally.\n",
    "\n",
    "if, r is close to 0: There is little to no linear correlation between the two variables. Changes in one variable do not necessarily\n",
    "predict changes in the other."
   ]
  },
  {
   "cell_type": "markdown",
   "id": "4008460a-9c13-4c1e-ac73-a65cd72df7ce",
   "metadata": {},
   "source": [
    "Q2. Spearman's rank correlation is a measure of the monotonic relationship between two variables. Suppose you have collected data on the amount of sleep individuals get each night and their overall job satisfaction level on a scale of 1 to 10. Calculate the Spearman's rank correlation between these two variables and interpret the result."
   ]
  },
  {
   "cell_type": "code",
   "execution_count": null,
   "id": "14cb1da7-fa90-47fd-a8a8-3855c3c872fe",
   "metadata": {},
   "outputs": [],
   "source": [
    "Answer : To calculate Spearman's rank correlation between two variables, we need to follow these steps:\n",
    "\n",
    "1. Assign ranks to the data: For both variables (amount of sleep and job satisfaction), rank the data from lowest to highest. If there\n",
    "are ties (equal values), assign the average rank to those observations.\n",
    "2. Calculate the differences between ranks: For each data point, subtract the rank of the second variable from the rank of the first\n",
    "variable.\n",
    "3. Square the rank differences: Square each of the differences calculated in the previous step.\n",
    "4. Sum the squared rank differences: Add up all the squared differences.\n",
    "5. Apply the formula for Spearman's rank correlation: The formula for Spearman's rank correlation coefficient (rho) is:\n",
    "    rho = 1 - (6 * sum of squared rank differences) / (n * (n^2 - 1))\n",
    "where 'n' is the number of data points.\n",
    "\n",
    "original data :\n",
    "Amount of Sleep: 5, 7, 6, 8, 4\n",
    "Job Satisfaction: 2, 4, 3, 6, 1\n",
    "\n",
    "Assign ranks:\n",
    "Amount of Sleep: 3, 5, 4, 2, 1\n",
    "Job Satisfaction: 2, 4, 3, 5, 1\n",
    " \n",
    "Calculate rank differences:\n",
    "Rank Differences: 1, 1, 1, -3, 0\n",
    "\n",
    "Square rank differences:\n",
    "Squared Rank Differences: 1, 1, 1, 9, 0\n",
    "\n",
    "Sum of squared rank differences:\n",
    "Sum of Squared Rank Differences: 12\n",
    "\n",
    "Apply the formula:\n",
    "n = 5 (number of data points)\n",
    "rho = 1 - (6 * 12) / (5 * (5^2 - 1))\n",
    "rho = 1 - (72) / (5 * 24)\n",
    "rho = 1 - 0.6\n",
    "rho = 0.4\n",
    "\n",
    "for rating it 1 to 10 : range of dpearman's rank correlation is -1 to 1 \n",
    "let -1 will represent 0 and 1 represent 10\n",
    "we divide -1 to 1 in 10 equal parts which is 0.2\n",
    "rating according to me :    rho   : -1  -0.8  -0.6  -0.4  -0.2   0   0.2   0.4   0.6   1 \n",
    "                         rating   :  0    1     2     3     4    5    6     7     8    9\n",
    "\n",
    "Rating = 7/10 (Employees are statisfied with their job)"
   ]
  },
  {
   "cell_type": "markdown",
   "id": "31e3b984-a5d4-409d-9ed9-7ca3371dddf6",
   "metadata": {},
   "source": [
    "Q3. Suppose you are conducting a study to examine the relationship between the number of hours of exercise per week and body mass index (BMI) in a sample of adults. You collected data on both variables for 50 participants. Calculate the Pearson correlation coefficient and the Spearman's rank correlation between these two variables and compare the results."
   ]
  },
  {
   "cell_type": "code",
   "execution_count": 9,
   "id": "ca4633b8-38ab-4795-a18b-2c2c961a42a3",
   "metadata": {},
   "outputs": [
    {
     "name": "stdout",
     "output_type": "stream",
     "text": [
      "Pearson Correlation coefficient :  PearsonRResult(statistic=-0.10229193815429419, pvalue=0.4796434735722112)\n",
      "Spearson Correlation coefficient :  SpearmanrResult(correlation=-0.08100840336134453, pvalue=0.5759923258915344)\n"
     ]
    }
   ],
   "source": [
    "import pandas as pd\n",
    "import random\n",
    "from scipy.stats import pearsonr, spearmanr\n",
    "\n",
    "random.seed(42)\n",
    "\n",
    "data = {\n",
    "    'Number of hour Excercise' : [round(random.uniform(0.5, 0.6), i) for i in range(50)],\n",
    "    'BMI' : [round(random.uniform(18.0, 30.0), i ) for i in range(50)] }\n",
    "    \n",
    "df = pd.DataFrame(data)\n",
    "\n",
    "pearson_corr = pearsonr(df['Number of hour Excercise'], df['BMI'])\n",
    "spearson_corr = spearmanr(df['Number of hour Excercise'], df['BMI'])\n",
    "\n",
    "print(\"Pearson Correlation coefficient : \", pearson_corr)\n",
    "print(\"Spearson Correlation coefficient : \", spearson_corr)"
   ]
  },
  {
   "cell_type": "markdown",
   "id": "6a66738d-d54c-47a2-8804-a6efceaecf46",
   "metadata": {},
   "source": [
    "Q4. A researcher is interested in examining the relationship between the number of hours individuals spend watching television per day and their level of physical activity. The researcher collected data on both variables from a sample of 50 participants. Calculate the Pearson correlation coefficient between these two variables."
   ]
  },
  {
   "cell_type": "code",
   "execution_count": 12,
   "id": "e98dca02-682f-4add-a064-1b02b75ee5de",
   "metadata": {},
   "outputs": [
    {
     "name": "stdout",
     "output_type": "stream",
     "text": [
      "Pearson Correlation coefficient :  PearsonRResult(statistic=-0.06628577087432654, pvalue=0.6474125149991496)\n"
     ]
    }
   ],
   "source": [
    "import pandas as pd\n",
    "import random\n",
    "from scipy.stats import pearsonr\n",
    "\n",
    "random.seed(42)\n",
    "\n",
    "data = { 'Number of hours watching television per day' : [round(random.uniform(0.5,5), i) for i in range(50)],\n",
    "         'Level of physical activity' : [round(random.uniform(1, 5), i) for i in range(50)] }\n",
    "\n",
    "df = pd.DataFrame(data)\n",
    "pearson_corr = pearsonr(df['Number of hours watching television per day'], df['Level of physical activity'])\n",
    "\n",
    "print(\"Pearson Correlation coefficient : \",pearson_corr)"
   ]
  },
  {
   "cell_type": "markdown",
   "id": "3693a891-4a17-4d5c-8414-c029ec22ff7a",
   "metadata": {},
   "source": [
    "Q5. A survey was conducted to examine the relationship between age and preference for a particular brand of soft drink. The survey results are shown below:"
   ]
  },
  {
   "cell_type": "code",
   "execution_count": null,
   "id": "4995ea66-0706-4427-9463-2f9aca4e9f3e",
   "metadata": {},
   "outputs": [],
   "source": [
    "Age(Years)        Soft drink Preference\n",
    "   25                   Coke\n",
    "   42                   Pepsi\n",
    "   37                Mountain dew\n",
    "   19                   Coke\n",
    "   31                   Pepsi \n",
    "   28                   Coke"
   ]
  },
  {
   "cell_type": "code",
   "execution_count": 16,
   "id": "ec95bf4c-dac9-4f53-953b-c67574787070",
   "metadata": {},
   "outputs": [],
   "source": [
    "import pandas as pd\n",
    "\n",
    "df = pd.DataFrame( {\n",
    "                    'Age' : [25, 42, 37, 19, 31, 28],\n",
    "          'Soft drink Preference' : ['Coke', 'Pepsi', 'Mountain dew', 'Coke', 'Pepsi', 'Coke'] })\n",
    "\n",
    "softdrink_count = df['Soft drink Preference'].value_counts()"
   ]
  },
  {
   "cell_type": "code",
   "execution_count": 20,
   "id": "2a896665-cac5-48c8-933a-be8f1642afe3",
   "metadata": {},
   "outputs": [
    {
     "data": {
      "image/png": "[encoded data removed]",
      "text/plain": [
       "<Figure size 1000x600 with 1 Axes>"
      ]
     },
     "metadata": {},
     "output_type": "display_data"
    }
   ],
   "source": [
    "import matplotlib.pyplot as plt\n",
    "import seaborn as sns\n",
    "\n",
    "plt.figure(figsize= (10,6))\n",
    "sns.boxplot(x = 'Soft drink Preference', y = 'Age', data = df)\n",
    "plt.title(\"Relationship between Age and Soft Drink Preference\")\n",
    "plt.show()          "
   ]
  },
  {
   "cell_type": "markdown",
   "id": "6ee2a015-6a05-45c8-be11-7dbfee5e29e6",
   "metadata": {},
   "source": [
    "Q6. A company is interested in examining the relationship between the number of sales calls made per day and the number of sales made per week. The company collected data on both variables from a sample of 30 sales representatives. Calculate the Pearson correlation coefficient between these two variables."
   ]
  },
  {
   "cell_type": "code",
   "execution_count": 28,
   "id": "6d71594c-5114-4423-913c-41217139ceef",
   "metadata": {},
   "outputs": [
    {
     "name": "stdout",
     "output_type": "stream",
     "text": [
      "Pearson correlation coeficient :  0.08794280087486617\n"
     ]
    }
   ],
   "source": [
    "import pandas as pd\n",
    "import random \n",
    "from scipy.stats import pearsonr\n",
    "\n",
    "random.seed(42)\n",
    "\n",
    "data = { 'Number of sales call per day' : [round(random.randint(15, 30), i) for i in range(30)],\n",
    "        'Sales made per week' : [round(random.randint(5,15), i) for i in range(30)] }\n",
    "df = pd.DataFrame(data)\n",
    "\n",
    "pearson_corr , _ = pearsonr(df['Number of sales call per day'], df['Sales made per week'])\n",
    "print(\"Pearson correlation coeficient : \", pearson_corr)"
   ]
  },
  {
   "cell_type": "code",
   "execution_count": null,
   "id": "1a4b9bb6-4ffc-4d6a-be95-4c11caa94e5b",
   "metadata": {},
   "outputs": [],
   "source": []
  }
 ],
 "metadata": {
  "kernelspec": {
   "display_name": "Python 3 (ipykernel)",
   "language": "python",
   "name": "python3"
  },
  "language_info": {
   "codemirror_mode": {
    "name": "ipython",
    "version": 3
   },
   "file_extension": ".py",
   "mimetype": "text/x-python",
   "name": "python",
   "nbconvert_exporter": "python",
   "pygments_lexer": "ipython3",
   "version": "3.10.8"
  }
 },
 "nbformat": 4,
 "nbformat_minor": 5
}
