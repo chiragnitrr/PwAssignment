{
 "cells": [
  {
   "cell_type": "markdown",
   "id": "2b81c6f2-569e-4fc8-aad2-bb739593a2ea",
   "metadata": {},
   "source": [
    "Q1. What is the difference between Ordinal Encoding and Label Encoding? Provide an example of when you might choose one over the other."
   ]
  },
  {
   "cell_type": "code",
   "execution_count": null,
   "id": "753b6ecd-01a3-4045-b3e1-3a81c49a0942",
   "metadata": {},
   "outputs": [],
   "source": [
    "Answer : Ordinal encoding and label encoding are both techniques used in data preprocessing to convert categorical variables into\n",
    "         numerical values. However, they are used in slightly different scenarios and have distinct characteristics.\n",
    "\n",
    "Label Encoding: Label encoding involves assigning a unique integer to each category in a categorical variable. This is often used \n",
    "when the categories have some sort of inherent order or hierarchy, but the numerical values assigned to them are not significant.\n",
    "For example, if you have a \"Size\" feature with categories \"Small,\" \"Medium,\" and \"Large,\" you could label encode them as 0, 1, and 2.\n",
    "\n",
    "Ordinal Encoding: Ordinal encoding, on the other hand, is used when the categorical variable has a clear order or rank, and the \n",
    "assigned numerical values have a meaningful relationship. In other words, the numerical values hold information about the magnitude of \n",
    "differences between the categories. This method is suitable when the categories represent levels of a variable that can be quantified.\n",
    "Example: Consider a \"Education Level\" feature with categories \"High School,\" \"Bachelor's,\" \"Master's,\" and \"Ph.D.\" Ordinal encoding\n",
    "might assign values 1, 2, 3, and 4 to these categories, respectively.\n",
    "\n",
    "When to Choose Each:\n",
    "Use Label Encoding when the categorical variable has categories with no inherent order or when the order is not important for the\n",
    "analysis. For example, encoding gender as 0 and 1 is reasonable if there is no specific order between male and female.\n",
    "\n",
    "Use Ordinal Encoding when the categorical variable represents levels with a clear order or ranking. This method is suitable for \n",
    "variables like education levels, economic status, or ratings, where the order of categories holds meaningful information"
   ]
  },
  {
   "cell_type": "markdown",
   "id": "20516b6b-4618-4f44-86f5-bc8528b3359b",
   "metadata": {},
   "source": [
    "Q2. Explain how Target Guided Ordinal Encoding works and provide an example of when you might use it in a machine learning project."
   ]
  },
  {
   "cell_type": "code",
   "execution_count": null,
   "id": "f0052c73-2d3b-4c77-bf41-0b029817c114",
   "metadata": {},
   "outputs": [],
   "source": [
    "Answer : The main idea behind TGOE is to assign numeric values to the categories of the ordinal variable in a way that preserves the\n",
    "         ordinal relationship while also considering the distribution of the target variable within each category. This encoding can\n",
    "         provide the algorithm with more meaningful information about the data, potentially improving model performance.\n",
    "\n",
    "Here's how Target Guided Ordinal Encoding works:\n",
    "1. Calculate the Mean (or Median) of the Target Variable by Category: For each category of the ordinal variable, calculate the mean\n",
    "   (or median) of the target variable for the samples belonging to that category.\n",
    "2. Assign Numeric Values: Assign numeric values to the categories based on their calculated means (or medians). Categories with higher\n",
    "   mean (or median) target values will be assigned higher numeric values, preserving the ordinal relationship.\n",
    "3. Replace Categorical Values: Replace the original categorical values of the ordinal variable with the assigned numeric values.\n",
    "\n",
    "In a machine learning project, you might use Target Guided Ordinal Encoding when you have ordinal categorical variables and want to\n",
    "create meaningful numerical representations for them. This can be especially useful when the ordinal variable has an inherent order or\n",
    "ranking that could be relevant to the target variable's prediction. For example, in credit risk assessment, the education level of an \n",
    "applicant might have an ordinal relationship with the likelihood of loan approval, and encoding it using TGOE could help the model \n",
    "capture this relationship more effectively"
   ]
  },
  {
   "cell_type": "markdown",
   "id": "889b3bfb-c88e-4299-8cdf-89838cce9755",
   "metadata": {},
   "source": [
    "Q3. Define covariance and explain why it is important in statistical analysis. How is covariance calculated?"
   ]
  },
  {
   "cell_type": "code",
   "execution_count": null,
   "id": "86437ba1-7754-4f64-95ab-4804524f0c70",
   "metadata": {},
   "outputs": [],
   "source": [
    "Answer : Covariance is a statistical measure that quantifies the degree to which two random variables change together. It indicates\n",
    "whether there is a positive or negative linear relationship between the variables. In other words, covariance measures how changes in\n",
    "one variable are related to changes in another variable. If two variables tend to increase or decrease together, they have a positive \n",
    "covariance. If one variable tends to increase when the other decreases, they have a negative covariance. A covariance of zero suggests\n",
    "that there is no linear relationship between the variables.\n",
    "\n",
    "Importance of Covariance in Statistical Analysis:\n",
    "1. Relationship Assessment: Covariance helps determine whether two variables have a strong or weak relationship and whether this \n",
    "   relationship is positive or negative. This information is crucial for understanding patterns and trends in data.\n",
    "2. Portfolio Diversification: In finance, covariance is used to assess the relationship between the returns of different assets. \n",
    "   Assets with low or negative covariance can be combined in a portfolio to reduce risk through diversification.\n",
    "3. Multivariate Analysis: Covariance is a fundamental component of multivariate analysis, which involves analyzing relationships\n",
    "   between multiple variables simultaneously. It's used in various fields, including economics, social sciences, and engineering.\n",
    "4. Modeling: In machine learning and statistics, covariance can provide insights into the relationships between input variables and \n",
    "   their impact on the target variable. It's used in techniques like Principal Component Analysis (PCA) to reduce dimensionality.\n",
    "\n",
    "Calculation of Covariance:\n",
    "The covariance between two random variables X and Y can be calculated using the following formula:\n",
    "\n",
    "Cov(X, Y) = Σ [(xi - μx) * (yi - μy)] / (n - 1)\n",
    "\n",
    "Where:\n",
    "xi and yi are individual data points of X and Y, respectively.\n",
    "μx and μy are the means of X and Y, respectively.\n",
    "n is the number of data points."
   ]
  },
  {
   "cell_type": "markdown",
   "id": "5c82ee47-e140-41b6-ac61-cce95d7a51b0",
   "metadata": {},
   "source": [
    "Q4. For a dataset with the following categorical variables: Color (red, green, blue), Size (small, medium, large), and Material (wood, metal, plastic), perform label encoding using Python's scikit-learn library. Show your code and explain the output."
   ]
  },
  {
   "cell_type": "code",
   "execution_count": 6,
   "id": "351c98ee-8a42-4aaa-bbdc-ea526eacb2e1",
   "metadata": {},
   "outputs": [
    {
     "name": "stdout",
     "output_type": "stream",
     "text": [
      "   Color  Size  Material\n",
      "0      2     2         2\n",
      "1      1     1         0\n",
      "2      0     0         1\n"
     ]
    }
   ],
   "source": [
    "from sklearn.preprocessing import LabelEncoder\n",
    "import pandas as pd\n",
    "df = pd.DataFrame( {\n",
    "       'Color' : ['red', 'green', 'blue'],\n",
    "       'Size' : ['small', 'medium', 'large'],\n",
    "       'Material' : ['wood', 'metal', 'plastic']})\n",
    "\n",
    "encoder = LabelEncoder()\n",
    "for column in df.columns :\n",
    "    df[column] = encoder.fit_transform(df[column])\n",
    "    \n",
    "print(df)"
   ]
  },
  {
   "cell_type": "code",
   "execution_count": null,
   "id": "b52b3ef2-423c-43ed-a453-c52999ecb63d",
   "metadata": {},
   "outputs": [],
   "source": [
    "In the output the categorical feaures replace with the numerical value. categorical feature sort in the alphabetical order and value\n",
    "assign to each categorical feature starts from 0 and increase by 1."
   ]
  },
  {
   "cell_type": "markdown",
   "id": "61b2e45c-fbe2-4526-b4e1-73d9507db4b6",
   "metadata": {},
   "source": [
    "Q5. Calculate the covariance matrix for the following variables in a dataset: Age, Income, and Education level. Interpret the results."
   ]
  },
  {
   "cell_type": "code",
   "execution_count": 7,
   "id": "061d7e6b-6491-41d7-9b93-d2ec7e6e23e8",
   "metadata": {},
   "outputs": [
    {
     "name": "stdout",
     "output_type": "stream",
     "text": [
      "Covariance Matrix : \n",
      "[[3.53e+01 7.15e+04 4.65e+00]\n",
      " [7.15e+04 1.45e+08 9.50e+03]\n",
      " [4.65e+00 9.50e+03 7.00e-01]]\n"
     ]
    }
   ],
   "source": [
    "import numpy as np\n",
    "\n",
    "age = [25, 30, 40, 35, 28]\n",
    "income = [50000, 60000, 80000, 70000, 55000]\n",
    "education_level = [1, 2, 3, 2, 1]\n",
    "\n",
    "data_matrix = np.array([age, income, education_level])\n",
    "\n",
    "cov_matrix = np.cov(data_matrix)\n",
    "\n",
    "print(\"Covariance Matrix : \")\n",
    "print(cov_matrix)"
   ]
  },
  {
   "cell_type": "code",
   "execution_count": null,
   "id": "b8fff96d-199d-451e-be38-af221fe94a9d",
   "metadata": {},
   "outputs": [],
   "source": [
    "Age vs. Age Covariance (3.53e+01):\n",
    "This value represents the covariance of Age with itself. It's the variance of the Age variable. In this simplified example,\n",
    "the value is 3.53e+01, indicating the variability in ages within the dataset.\n",
    "\n",
    "Income vs. Income Covariance (1.45e+08):\n",
    "This value represents the covariance of Income with itself. It's the variance of the Income variable. The  value (1.45e+08)\n",
    "indicates a variability in income within the dataset.\n",
    "\n",
    "Education Level vs. Education Level Covariance (7.00e-01):\n",
    "Similarly, this value represents the covariance of Education Level with itself. It's the variance of the Education Level variable. \n",
    "The small value (7.00e-01) indicates less variability in the education levels within the dataset.\n",
    "\n",
    "Age vs. Income Covariance (7.15e+04 ):\n",
    "This value (7.15e+04 ) represents the covariance between Age and Income. It indicates the extent to which changes in Age are associated \n",
    "with changes in Income. A positive covariance suggests that higher ages tend to be associated with higher incomes.\n",
    "\n",
    "Age vs. Education Level Covariance (4.65e+00):\n",
    "This value (4.65e+00) represents the covariance between Age and Education Level. A positive covariance suggests that higher ages tend \n",
    "to be associated with higher education levels in this simplified dataset.\n",
    "\n",
    "Income vs. Education Level Covariance (9.50e+03):\n",
    "This value (9.50e+03) represents the covariance between Income and Education Level. The positive covariance indicates that higher\n",
    "incomes tend to be associated with higher education levels in this dataset."
   ]
  },
  {
   "cell_type": "markdown",
   "id": "65dfbbb3-39f1-4464-b3a9-5a17c40c032b",
   "metadata": {},
   "source": [
    "Q6. You are working on a machine learning project with a dataset containing several categorical variables, including \"Gender\" (Male/Female), \"Education Level\" (High School/Bachelor's/Master's/PhD), and \"Employment Status\" (Unemployed/Part-Time/Full-Time). Which encoding method would you use for each variable, and why?"
   ]
  },
  {
   "cell_type": "code",
   "execution_count": null,
   "id": "eac2856b-e85b-413c-b2d3-cc70889d8269",
   "metadata": {},
   "outputs": [],
   "source": [
    "Answer : In a machine learning project with categorical variables like \"Gender,\" \"Education Level,\" and \"Employment Status,\" the choice\n",
    "of encoding method depends on the nature of the categorical variable, the relationship between the variable and the target, and the \n",
    "machine learning algorithm you plan to use. Here's how I would approach encoding for each variable:\n",
    "\n",
    "Gender: For binary categorical variables like \"Gender\" (which has two categories: Male/Female), you can use Label Encoding. Since \n",
    "there are only two categories and there's no inherent order, label encoding assigns numerical values (0 and 1) to the categories. This \n",
    "is a straightforward way to convert binary variables into a format that machine learning algorithms can understand.\n",
    "Example:\n",
    "Male: 0\n",
    "Female: 1\n",
    "\n",
    "Education Level: For categorical variables with multiple unordered categories like \"Education Level\" (High School/Bachelor's/Master's/\n",
    "PhD), you can use One-Hot Encoding. One-hot encoding creates a binary column for each category, representing the presence or absence \n",
    "of that category. This approach ensures that no ordinal relationship is assumed between the categories. It prevents algorithms from \n",
    "attributing unintended ordinal relationships to the data.\n",
    "Example (after one-hot encoding):\n",
    "High School: [1, 0, 0, 0]\n",
    "Bachelor's:  [0, 1, 0, 0]\n",
    "Master's:    [0, 0, 1, 0]\n",
    "PhD:         [0, 0, 0, 1]\n",
    "\n",
    "Employment Status: For categorical variables with multiple unordered categories like \"Employment Status\" (Unemployed/Part-Time/\n",
    "Full-Time), you can also use One-Hot Encoding for similar reasons as with \"Education Level.\" This method avoids assuming any ordinal \n",
    "relationship between employment statuses.\n",
    "Example (after one-hot encoding):\n",
    "Unemployed: [1, 0, 0]\n",
    "Part-Time:  [0, 1, 0]\n",
    "Full-Time:  [0, 0, 1]"
   ]
  },
  {
   "cell_type": "markdown",
   "id": "76db2c62-0fe1-4cb9-96ee-4e8e6c427549",
   "metadata": {},
   "source": [
    "Q7. You are analyzing a dataset with two continuous variables, \"Temperature\" and \"Humidity\", and two categorical variables, \"Weather Condition\" (Sunny/Cloudy/Rainy) and \"Wind Direction\" (North/South/East/West). Calculate the covariance between each pair of variables and interpret the results."
   ]
  },
  {
   "cell_type": "code",
   "execution_count": 13,
   "id": "384bdca1-37f6-41aa-90c3-5abd68cd7146",
   "metadata": {},
   "outputs": [
    {
     "name": "stdout",
     "output_type": "stream",
     "text": [
      "covariance matrix for continous variables :\n",
      "[[  6.5 -21. ]\n",
      " [-21.   72.3]]\n",
      "Covariance Matrix between Continuous Variables and Sunny:\n",
      "[[  6.5 -21.   -2. ]\n",
      " [-21.   72.3   5.5]\n",
      " [ -2.    5.5   1. ]]\n",
      "\n",
      "Covariance Matrix between Continuous Variables and North:\n",
      "[[  6.5  -21.    -0.25]\n",
      " [-21.    72.3    1.95]\n",
      " [ -0.25   1.95   1.3 ]]\n",
      "\n"
     ]
    }
   ],
   "source": [
    "import numpy as np\n",
    "\n",
    "temperature = [25, 28, 23, 22, 27]\n",
    "humidity = [60, 55, 70, 75, 58]\n",
    "weather_condition = ['Sunny', 'Cloudy', 'Rainy', 'Sunny', 'Cloudy']\n",
    "wind_direction = ['North', 'South', 'East', 'West', 'North']\n",
    "\n",
    "cont_data_matrix = np.array([temperature, humidity])\n",
    "cov_matrix_data = np.cov(cont_data_matrix)\n",
    "\n",
    "print(\"covariance matrix for continous variables :\")\n",
    "print(cov_matrix_data)\n",
    "\n",
    "for categorical_var in [weather_condition, wind_direction]:\n",
    "    categorical_var_encoded = np.unique(categorical_var, return_inverse=True)[1]\n",
    "    covariance_matrix_mixed = np.cov(cont_data_matrix, categorical_var_encoded)\n",
    "    print(f\"Covariance Matrix between Continuous Variables and {categorical_var[0]}:\")\n",
    "    print(covariance_matrix_mixed)\n",
    "    print()"
   ]
  },
  {
   "cell_type": "code",
   "execution_count": null,
   "id": "5341c55f-8b05-4904-b89c-332247ab7978",
   "metadata": {},
   "outputs": [],
   "source": [
    "The covariance values indicate the degree of linear relationship between pairs of variables. Positive covariance suggests that as one\n",
    "variable increases, the other tends to increase, and vice versa. Negative covariance suggests an inverse relationship. Zero covariance\n",
    "implies no linear relationship."
   ]
  }
 ],
 "metadata": {
  "kernelspec": {
   "display_name": "Python 3 (ipykernel)",
   "language": "python",
   "name": "python3"
  },
  "language_info": {
   "codemirror_mode": {
    "name": "ipython",
    "version": 3
   },
   "file_extension": ".py",
   "mimetype": "text/x-python",
   "name": "python",
   "nbconvert_exporter": "python",
   "pygments_lexer": "ipython3",
   "version": "3.10.8"
  }
 },
 "nbformat": 4,
 "nbformat_minor": 5
}
