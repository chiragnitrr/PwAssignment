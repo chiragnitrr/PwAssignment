{
 "cells": [
  {
   "cell_type": "code",
   "execution_count": 2,
   "id": "a6292d3e-9931-4f2a-baf5-4bb7c23bbce5",
   "metadata": {},
   "outputs": [],
   "source": [
    "#Q1. Create a Pandas Series that contains the following data: 4, 8, 15, 16, 23, and 42. Then, print the series.\n",
    "#Answer:\n",
    "\n",
    "import pandas as pd\n",
    "l = [4, 8, 15, 16, 23, 42]\n",
    "df = pd.Series(l)"
   ]
  },
  {
   "cell_type": "code",
   "execution_count": 3,
   "id": "bfb073c8-7d8a-4591-819a-e9947df3352d",
   "metadata": {},
   "outputs": [
    {
     "data": {
      "text/plain": [
       "0     4\n",
       "1     8\n",
       "2    15\n",
       "3    16\n",
       "4    23\n",
       "5    42\n",
       "dtype: int64"
      ]
     },
     "execution_count": 3,
     "metadata": {},
     "output_type": "execute_result"
    }
   ],
   "source": [
    "df"
   ]
  },
  {
   "cell_type": "code",
   "execution_count": 4,
   "id": "eb0fce03-72ad-48fa-8219-e4a1b4f84ebd",
   "metadata": {},
   "outputs": [],
   "source": [
    "# Q2. Create a variable of list type containing 10 elements in it, and apply pandas.Series function on the \n",
    "# variable print it.\n",
    "# Answer : \n",
    "    \n",
    "l1 = [1,2,3,4,5,6,7,8,9,10]\n",
    "df1 = pd.Series(l1)"
   ]
  },
  {
   "cell_type": "code",
   "execution_count": 5,
   "id": "8b74b254-7d19-4ce0-8de3-d33fa5596985",
   "metadata": {},
   "outputs": [
    {
     "data": {
      "text/plain": [
       "0     1\n",
       "1     2\n",
       "2     3\n",
       "3     4\n",
       "4     5\n",
       "5     6\n",
       "6     7\n",
       "7     8\n",
       "8     9\n",
       "9    10\n",
       "dtype: int64"
      ]
     },
     "execution_count": 5,
     "metadata": {},
     "output_type": "execute_result"
    }
   ],
   "source": [
    "df1"
   ]
  },
  {
   "cell_type": "code",
   "execution_count": 6,
   "id": "67bf9124-80f6-4010-ac45-5340ccea40f9",
   "metadata": {},
   "outputs": [],
   "source": [
    "# Q3. Create a Pandas DataFrame that contains the following data:\n",
    "\n",
    "#       Name          Age           Gender\n",
    "#      Alice          25            Female\n",
    "#      Bob            30            Male\n",
    "#      Claire         27            Female\n",
    "\n",
    "# Then, print the DataFrame.\n",
    "# Answer :\n",
    "    \n",
    "df3 = pd.DataFrame({\"Name\" : [\"Alice\", \"Bob\", \"Claire\"],\n",
    "                    \"Age\" : [25,30,27],\n",
    "                    \"Gender\" : [\"Female\", \"Male\", \"Female\"]})\n"
   ]
  },
  {
   "cell_type": "code",
   "execution_count": 7,
   "id": "563264c8-ab83-4dd4-8c5a-1b6378b436da",
   "metadata": {},
   "outputs": [
    {
     "data": {
      "text/html": [
       "<div>\n",
       "<style scoped>\n",
       "    .dataframe tbody tr th:only-of-type {\n",
       "        vertical-align: middle;\n",
       "    }\n",
       "\n",
       "    .dataframe tbody tr th {\n",
       "        vertical-align: top;\n",
       "    }\n",
       "\n",
       "    .dataframe thead th {\n",
       "        text-align: right;\n",
       "    }\n",
       "</style>\n",
       "<table border=\"1\" class=\"dataframe\">\n",
       "  <thead>\n",
       "    <tr style=\"text-align: right;\">\n",
       "      <th></th>\n",
       "      <th>Name</th>\n",
       "      <th>Age</th>\n",
       "      <th>Gender</th>\n",
       "    </tr>\n",
       "  </thead>\n",
       "  <tbody>\n",
       "    <tr>\n",
       "      <th>0</th>\n",
       "      <td>Alice</td>\n",
       "      <td>25</td>\n",
       "      <td>Female</td>\n",
       "    </tr>\n",
       "    <tr>\n",
       "      <th>1</th>\n",
       "      <td>Bob</td>\n",
       "      <td>30</td>\n",
       "      <td>Male</td>\n",
       "    </tr>\n",
       "    <tr>\n",
       "      <th>2</th>\n",
       "      <td>Claire</td>\n",
       "      <td>27</td>\n",
       "      <td>Female</td>\n",
       "    </tr>\n",
       "  </tbody>\n",
       "</table>\n",
       "</div>"
      ],
      "text/plain": [
       "     Name  Age  Gender\n",
       "0   Alice   25  Female\n",
       "1     Bob   30    Male\n",
       "2  Claire   27  Female"
      ]
     },
     "execution_count": 7,
     "metadata": {},
     "output_type": "execute_result"
    }
   ],
   "source": [
    "df3"
   ]
  },
  {
   "cell_type": "code",
   "execution_count": null,
   "id": "5d03f452-15d1-47dd-ae90-ae84bb2895ec",
   "metadata": {},
   "outputs": [],
   "source": [
    "Q4. What is ‘DataFrame’ in pandas and how is it different from pandas.series? Explain with an example.\n",
    "Answer : In pandas , DataFrame is two-dimensional labeled data structure that represents a tabular data object \n",
    "        with rows and column and series is linear data structure. DataFrame is collections of series each column\n",
    "        of DataFrame represents series.\n",
    "        \n",
    "        Example :\n",
    "\n",
    "df4 = pd.DataFrame({\"Name\" : [\"Alice\", \"Bob\", \"Claire\"],\n",
    "                    \"Age\" : [25,30,27],\n",
    "                    \"Gender\" : [\"Female\", \"Male\", \"Female\"]})\n",
    "\n",
    "Here: Name, Age and Gender is series of datas and df4 is DataFrame which is a collections of these series."
   ]
  },
  {
   "cell_type": "code",
   "execution_count": 8,
   "id": "0981558a-4f4b-436c-ae85-294f82cc4d68",
   "metadata": {},
   "outputs": [],
   "source": [
    "# Q5. What are some common functions you can use to manipulate data in a Pandas DataFrame? Can you give an example \n",
    "# of when you might use one of these functions?\n",
    "# Answer : some common functions you can use to manipulate data in a Pandas DataFrame:\n",
    "#     1. head()\n",
    "#     2. tail()\n",
    "#     3. describe()\n",
    "#     4. sort_values()\n",
    "#     5. groupby\n",
    "#Answer :\n",
    "\n",
    "data = {'Name': ['John', 'Emma', 'Mike', 'Lisa', 'David', 'Rahul'],\n",
    "        'Age': [25, 28, 22, 30, 35, 40],\n",
    "        'Country': ['USA', 'Canada', 'UK', 'Australia', 'Germany', 'India']}\n",
    "df5 = pd.DataFrame(data)"
   ]
  },
  {
   "cell_type": "code",
   "execution_count": 10,
   "id": "a006a55f-2719-4487-9ea7-59ff7e095376",
   "metadata": {},
   "outputs": [
    {
     "data": {
      "text/html": [
       "<div>\n",
       "<style scoped>\n",
       "    .dataframe tbody tr th:only-of-type {\n",
       "        vertical-align: middle;\n",
       "    }\n",
       "\n",
       "    .dataframe tbody tr th {\n",
       "        vertical-align: top;\n",
       "    }\n",
       "\n",
       "    .dataframe thead th {\n",
       "        text-align: right;\n",
       "    }\n",
       "</style>\n",
       "<table border=\"1\" class=\"dataframe\">\n",
       "  <thead>\n",
       "    <tr style=\"text-align: right;\">\n",
       "      <th></th>\n",
       "      <th>Name</th>\n",
       "      <th>Age</th>\n",
       "      <th>Country</th>\n",
       "    </tr>\n",
       "  </thead>\n",
       "  <tbody>\n",
       "    <tr>\n",
       "      <th>0</th>\n",
       "      <td>John</td>\n",
       "      <td>25</td>\n",
       "      <td>USA</td>\n",
       "    </tr>\n",
       "    <tr>\n",
       "      <th>1</th>\n",
       "      <td>Emma</td>\n",
       "      <td>28</td>\n",
       "      <td>Canada</td>\n",
       "    </tr>\n",
       "    <tr>\n",
       "      <th>2</th>\n",
       "      <td>Mike</td>\n",
       "      <td>22</td>\n",
       "      <td>UK</td>\n",
       "    </tr>\n",
       "  </tbody>\n",
       "</table>\n",
       "</div>"
      ],
      "text/plain": [
       "   Name  Age Country\n",
       "0  John   25     USA\n",
       "1  Emma   28  Canada\n",
       "2  Mike   22      UK"
      ]
     },
     "execution_count": 10,
     "metadata": {},
     "output_type": "execute_result"
    }
   ],
   "source": [
    "df5.head(3)"
   ]
  },
  {
   "cell_type": "code",
   "execution_count": null,
   "id": "76444b38-1722-4d3c-90a7-2f5d80f87f0e",
   "metadata": {},
   "outputs": [],
   "source": [
    "Q6. Which of the following is mutable in nature Series, DataFrame, Panel?\n",
    "Answer : Series and DataFrame are mutable in nature and panel is non - mutable."
   ]
  },
  {
   "cell_type": "code",
   "execution_count": 12,
   "id": "20cc1326-6252-42f5-a074-f19e7fc44412",
   "metadata": {},
   "outputs": [],
   "source": [
    "# Q7. Create a DataFrame using multiple Series. Explain with an example.\n",
    "# Answer :\n",
    "\n",
    "names = pd.Series(['Chirag', 'Arpan', 'Nikhil', 'Tushar', 'Ankit', 'Prashant'])\n",
    "age = pd.Series([20, 21, 20, 19, 22, 20])\n",
    "intrest = pd.Series(['Noncore','Gate','Buisness','Call','stockmarket','Gate'])\n",
    "\n",
    "df6 = pd.DataFrame({'Name' : names, 'Age' : age, 'Intrest' : intrest})"
   ]
  },
  {
   "cell_type": "code",
   "execution_count": 13,
   "id": "a562b74a-469c-45f4-a4cf-c33d49d34007",
   "metadata": {},
   "outputs": [
    {
     "data": {
      "text/html": [
       "<div>\n",
       "<style scoped>\n",
       "    .dataframe tbody tr th:only-of-type {\n",
       "        vertical-align: middle;\n",
       "    }\n",
       "\n",
       "    .dataframe tbody tr th {\n",
       "        vertical-align: top;\n",
       "    }\n",
       "\n",
       "    .dataframe thead th {\n",
       "        text-align: right;\n",
       "    }\n",
       "</style>\n",
       "<table border=\"1\" class=\"dataframe\">\n",
       "  <thead>\n",
       "    <tr style=\"text-align: right;\">\n",
       "      <th></th>\n",
       "      <th>Name</th>\n",
       "      <th>Age</th>\n",
       "      <th>Intrest</th>\n",
       "    </tr>\n",
       "  </thead>\n",
       "  <tbody>\n",
       "    <tr>\n",
       "      <th>0</th>\n",
       "      <td>Chirag</td>\n",
       "      <td>20</td>\n",
       "      <td>Noncore</td>\n",
       "    </tr>\n",
       "    <tr>\n",
       "      <th>1</th>\n",
       "      <td>Arpan</td>\n",
       "      <td>21</td>\n",
       "      <td>Gate</td>\n",
       "    </tr>\n",
       "    <tr>\n",
       "      <th>2</th>\n",
       "      <td>Nikhil</td>\n",
       "      <td>20</td>\n",
       "      <td>Buisness</td>\n",
       "    </tr>\n",
       "    <tr>\n",
       "      <th>3</th>\n",
       "      <td>Tushar</td>\n",
       "      <td>19</td>\n",
       "      <td>Call</td>\n",
       "    </tr>\n",
       "    <tr>\n",
       "      <th>4</th>\n",
       "      <td>Ankit</td>\n",
       "      <td>22</td>\n",
       "      <td>stockmarket</td>\n",
       "    </tr>\n",
       "    <tr>\n",
       "      <th>5</th>\n",
       "      <td>Prashant</td>\n",
       "      <td>20</td>\n",
       "      <td>Gate</td>\n",
       "    </tr>\n",
       "  </tbody>\n",
       "</table>\n",
       "</div>"
      ],
      "text/plain": [
       "       Name  Age      Intrest\n",
       "0    Chirag   20      Noncore\n",
       "1     Arpan   21         Gate\n",
       "2    Nikhil   20     Buisness\n",
       "3    Tushar   19         Call\n",
       "4     Ankit   22  stockmarket\n",
       "5  Prashant   20         Gate"
      ]
     },
     "execution_count": 13,
     "metadata": {},
     "output_type": "execute_result"
    }
   ],
   "source": [
    "df6"
   ]
  },
  {
   "cell_type": "code",
   "execution_count": null,
   "id": "99794105-34df-40ac-ace4-34e1fd7a04f0",
   "metadata": {},
   "outputs": [],
   "source": []
  }
 ],
 "metadata": {
  "kernelspec": {
   "display_name": "Python 3 (ipykernel)",
   "language": "python",
   "name": "python3"
  },
  "language_info": {
   "codemirror_mode": {
    "name": "ipython",
    "version": 3
   },
   "file_extension": ".py",
   "mimetype": "text/x-python",
   "name": "python",
   "nbconvert_exporter": "python",
   "pygments_lexer": "ipython3",
   "version": "3.10.8"
  }
 },
 "nbformat": 4,
 "nbformat_minor": 5
}
