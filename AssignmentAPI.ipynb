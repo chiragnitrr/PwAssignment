{
 "cells": [
  {
   "cell_type": "code",
   "execution_count": null,
   "id": "d20654f3-4ae7-42d5-832d-f68b711920d2",
   "metadata": {},
   "outputs": [],
   "source": [
    "Q1. What is an API? Give an example, where an API is used in real life.\n",
    "Answer : An API or Application Programming Interface , is set of rules or protocol that allows different\n",
    "         system or software to interect with each other without knowing the implementation of other with\n",
    "         the help of API we can retriev and post the data.\n",
    "         Example : Social media is the best real example of API use we throungh instragram or facebook \n",
    "                   we can post our photos and videos and other user can see our photos and videos from \n",
    "                   our account."
   ]
  },
  {
   "cell_type": "code",
   "execution_count": null,
   "id": "7701d3dc-63bc-43a6-9603-28188c34231c",
   "metadata": {},
   "outputs": [],
   "source": [
    "Q2. Give advantages and disadvantages of using API.\n",
    "Answer : Advantages of using API:\n",
    "         1. Modularity and Reusability\n",
    "         2. Simplified Development\n",
    "         3. Time and Cost Effeciency\n",
    "         4. Collaboration and Ecosystem\n",
    "         5. Scalibility and Flexibility\n",
    "        \n",
    "        Disadvantages of using API :\n",
    "        1. Dependency on external services\n",
    "        2. Lack of control\n",
    "        3. Versioning and compatibility\n",
    "        4. Security and privacy risks\n",
    "        5. Reliance on Documentation and Support"
   ]
  },
  {
   "cell_type": "code",
   "execution_count": null,
   "id": "282beaab-1601-443d-b9a9-75a6303efa8d",
   "metadata": {},
   "outputs": [],
   "source": [
    "Q3. What is a Web API? Differentiate between API and Web API.\n",
    "Answer : A Web API, also known as web service API or HTTP API, is a type of API that is specifically designed\n",
    "         to be accessed over the internet using the Hyper Text Transfer Protocol (HTTP). it enables communication\n",
    "         and data exchage between different - different software systems over the web \n",
    "        \n",
    "        Difference Between API and Web API :\n",
    "        API is general term that encompasses a wide range of interface used for communication between\n",
    "        different - different software components or system , Web APIs refers specifically API that \n",
    "        are designed to access data from all over the internet. in summary API is broad term and web\n",
    "        API is just a part of API."
   ]
  },
  {
   "cell_type": "code",
   "execution_count": null,
   "id": "b157c0e5-9199-486e-b220-e0a2a30eef49",
   "metadata": {},
   "outputs": [],
   "source": [
    "Q4. Explain REST and SOAP Architecture. Mention shortcomings of SOAP.\n",
    "Answer : \n",
    "    REST : REST (Representational State Transfer) is Architectural design that is used for design web\n",
    "           services. REST is Architectural design that emphasizes simpalicity, scalability and statelessness\n",
    "           in Web design. It is based on set of principles and and constraints that facilitate communication\n",
    "           between client and server.\n",
    "    SOAP : SOAP (Simple Object Access Protocol) is Architectural design that is used for design web services.\n",
    "           SOAP is protocol that defines a messanging framework for exchanging structured information in web \n",
    "           service.\n",
    "            \n",
    "    shortcomings of SOAP :\n",
    "        1. Complexity\n",
    "        2. Performance Overhead\n",
    "        3. Lack of human readability\n",
    "        4. Limited Browser support"
   ]
  },
  {
   "cell_type": "code",
   "execution_count": null,
   "id": "c53daf80-219e-42fc-bd08-98f07942d7ad",
   "metadata": {},
   "outputs": [],
   "source": [
    "Q5. Differentiate between REST and SOAP.\n",
    "Answer : Difference between REST and SOAP :\n",
    "       1. REST is based on the principles of using standard HTTP methods (PUT, GET, DELET, POST) \n",
    "          for communication between client and server. SOAP is uses more rigid and structured \n",
    "          messanging format. it encapsulate the data in XML and typically operates over protocols \n",
    "          like HTTP, SMTP.\n",
    "            \n",
    "       2. RESTfull service often use light weight and human readable fomats like json or XML for \n",
    "          representing the data. SOAP messages are always in XML formate.\n",
    "        \n",
    "       3. REST provides a flexible and extensible architecture, SOAP offers more structured and \n",
    "          rigid architecture.\n",
    "        \n",
    "       4. REST is often considered ligh weight and efficient due to its simplicity and use of \n",
    "          standart HTTP methods, SOAP messages are typically larger due to XML formate and due\n",
    "          to additional protocol feature."
   ]
  }
 ],
 "metadata": {
  "kernelspec": {
   "display_name": "Python 3 (ipykernel)",
   "language": "python",
   "name": "python3"
  },
  "language_info": {
   "codemirror_mode": {
    "name": "ipython",
    "version": 3
   },
   "file_extension": ".py",
   "mimetype": "text/x-python",
   "name": "python",
   "nbconvert_exporter": "python",
   "pygments_lexer": "ipython3",
   "version": "3.10.8"
  }
 },
 "nbformat": 4,
 "nbformat_minor": 5
}
